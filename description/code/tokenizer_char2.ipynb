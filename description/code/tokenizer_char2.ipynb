{
  "cells": [
    {
      "cell_type": "code",
      "execution_count": 6,
      "metadata": {
        "colab": {
          "base_uri": "https://localhost:8080/",
          "height": 206
        },
        "id": "tfo_QNB47GAI",
        "outputId": "40ef68fc-cdc2-405e-a589-988075d288b1"
      },
      "outputs": [
        {
          "data": {
            "text/html": [
              "\n",
              "  <div id=\"df-f855594f-ec61-4acf-9b5c-69fe12b5c720\">\n",
              "    <div class=\"colab-df-container\">\n",
              "      <div>\n",
              "<style scoped>\n",
              "    .dataframe tbody tr th:only-of-type {\n",
              "        vertical-align: middle;\n",
              "    }\n",
              "\n",
              "    .dataframe tbody tr th {\n",
              "        vertical-align: top;\n",
              "    }\n",
              "\n",
              "    .dataframe thead th {\n",
              "        text-align: right;\n",
              "    }\n",
              "</style>\n",
              "<table border=\"1\" class=\"dataframe\">\n",
              "  <thead>\n",
              "    <tr style=\"text-align: right;\">\n",
              "      <th></th>\n",
              "      <th>sentence</th>\n",
              "    </tr>\n",
              "  </thead>\n",
              "  <tbody>\n",
              "    <tr>\n",
              "      <th>0</th>\n",
              "      <td>사람이 다가오고 있습니다</td>\n",
              "    </tr>\n",
              "    <tr>\n",
              "      <th>1</th>\n",
              "      <td>사람과 자전거가 다가오고 있습니다</td>\n",
              "    </tr>\n",
              "    <tr>\n",
              "      <th>2</th>\n",
              "      <td>자전거와 사람이 다가오고 있습니다</td>\n",
              "    </tr>\n",
              "    <tr>\n",
              "      <th>3</th>\n",
              "      <td>사람과 자전거가 있습니다</td>\n",
              "    </tr>\n",
              "    <tr>\n",
              "      <th>4</th>\n",
              "      <td>자전거와 사람이 있습니다</td>\n",
              "    </tr>\n",
              "  </tbody>\n",
              "</table>\n",
              "</div>\n",
              "      <button class=\"colab-df-convert\" onclick=\"convertToInteractive('df-f855594f-ec61-4acf-9b5c-69fe12b5c720')\"\n",
              "              title=\"Convert this dataframe to an interactive table.\"\n",
              "              style=\"display:none;\">\n",
              "        \n",
              "  <svg xmlns=\"http://www.w3.org/2000/svg\" height=\"24px\"viewBox=\"0 0 24 24\"\n",
              "       width=\"24px\">\n",
              "    <path d=\"M0 0h24v24H0V0z\" fill=\"none\"/>\n",
              "    <path d=\"M18.56 5.44l.94 2.06.94-2.06 2.06-.94-2.06-.94-.94-2.06-.94 2.06-2.06.94zm-11 1L8.5 8.5l.94-2.06 2.06-.94-2.06-.94L8.5 2.5l-.94 2.06-2.06.94zm10 10l.94 2.06.94-2.06 2.06-.94-2.06-.94-.94-2.06-.94 2.06-2.06.94z\"/><path d=\"M17.41 7.96l-1.37-1.37c-.4-.4-.92-.59-1.43-.59-.52 0-1.04.2-1.43.59L10.3 9.45l-7.72 7.72c-.78.78-.78 2.05 0 2.83L4 21.41c.39.39.9.59 1.41.59.51 0 1.02-.2 1.41-.59l7.78-7.78 2.81-2.81c.8-.78.8-2.07 0-2.86zM5.41 20L4 18.59l7.72-7.72 1.47 1.35L5.41 20z\"/>\n",
              "  </svg>\n",
              "      </button>\n",
              "      \n",
              "  <style>\n",
              "    .colab-df-container {\n",
              "      display:flex;\n",
              "      flex-wrap:wrap;\n",
              "      gap: 12px;\n",
              "    }\n",
              "\n",
              "    .colab-df-convert {\n",
              "      background-color: #E8F0FE;\n",
              "      border: none;\n",
              "      border-radius: 50%;\n",
              "      cursor: pointer;\n",
              "      display: none;\n",
              "      fill: #1967D2;\n",
              "      height: 32px;\n",
              "      padding: 0 0 0 0;\n",
              "      width: 32px;\n",
              "    }\n",
              "\n",
              "    .colab-df-convert:hover {\n",
              "      background-color: #E2EBFA;\n",
              "      box-shadow: 0px 1px 2px rgba(60, 64, 67, 0.3), 0px 1px 3px 1px rgba(60, 64, 67, 0.15);\n",
              "      fill: #174EA6;\n",
              "    }\n",
              "\n",
              "    [theme=dark] .colab-df-convert {\n",
              "      background-color: #3B4455;\n",
              "      fill: #D2E3FC;\n",
              "    }\n",
              "\n",
              "    [theme=dark] .colab-df-convert:hover {\n",
              "      background-color: #434B5C;\n",
              "      box-shadow: 0px 1px 3px 1px rgba(0, 0, 0, 0.15);\n",
              "      filter: drop-shadow(0px 1px 2px rgba(0, 0, 0, 0.3));\n",
              "      fill: #FFFFFF;\n",
              "    }\n",
              "  </style>\n",
              "\n",
              "      <script>\n",
              "        const buttonEl =\n",
              "          document.querySelector('#df-f855594f-ec61-4acf-9b5c-69fe12b5c720 button.colab-df-convert');\n",
              "        buttonEl.style.display =\n",
              "          google.colab.kernel.accessAllowed ? 'block' : 'none';\n",
              "\n",
              "        async function convertToInteractive(key) {\n",
              "          const element = document.querySelector('#df-f855594f-ec61-4acf-9b5c-69fe12b5c720');\n",
              "          const dataTable =\n",
              "            await google.colab.kernel.invokeFunction('convertToInteractive',\n",
              "                                                     [key], {});\n",
              "          if (!dataTable) return;\n",
              "\n",
              "          const docLinkHtml = 'Like what you see? Visit the ' +\n",
              "            '<a target=\"_blank\" href=https://colab.research.google.com/notebooks/data_table.ipynb>data table notebook</a>'\n",
              "            + ' to learn more about interactive tables.';\n",
              "          element.innerHTML = '';\n",
              "          dataTable['output_type'] = 'display_data';\n",
              "          await google.colab.output.renderOutput(dataTable, element);\n",
              "          const docLink = document.createElement('div');\n",
              "          docLink.innerHTML = docLinkHtml;\n",
              "          element.appendChild(docLink);\n",
              "        }\n",
              "      </script>\n",
              "    </div>\n",
              "  </div>\n",
              "  "
            ],
            "text/plain": [
              "             sentence\n",
              "0       사람이 다가오고 있습니다\n",
              "1  사람과 자전거가 다가오고 있습니다\n",
              "2  자전거와 사람이 다가오고 있습니다\n",
              "3       사람과 자전거가 있습니다\n",
              "4       자전거와 사람이 있습니다"
            ]
          },
          "execution_count": 6,
          "metadata": {},
          "output_type": "execute_result"
        }
      ],
      "source": [
        "import pandas as pd\n",
        "\n",
        "train = pd.read_csv('/content/drive/MyDrive/captionTrain.csv')\n",
        "train.head()"
      ]
    },
    {
      "cell_type": "markdown",
      "metadata": {
        "id": "S658gnsL7krK"
      },
      "source": [
        "음절 단위"
      ]
    },
    {
      "cell_type": "code",
      "execution_count": 19,
      "metadata": {
        "colab": {
          "base_uri": "https://localhost:8080/"
        },
        "id": "hhxpju1P7gvV",
        "outputId": "54dd666b-9192-4b70-ce4c-0cff7be1b389"
      },
      "outputs": [
        {
          "name": "stdout",
          "output_type": "stream",
          "text": [
            "고유 문자수 58개\n"
          ]
        }
      ],
      "source": [
        "vocab = set()\n",
        "for i, row in train.iterrows(): # dataframe의 row별로 반복\n",
        "    sentence = row['sentence']\n",
        "    for token in sentence: #음절 단위 token 반복\n",
        "        if token not in vocab:\n",
        "            vocab.add(token) # token set에 없다면 추가\n",
        "        else:\n",
        "            continue\n",
        "vocab.add('<EOS>') # 문장 마지막을  <EOS>로 끝낼거라 <End of Sequence> token 추가\n",
        "print ('고유 문자수 {}개'.format(len(vocab)))"
      ]
    },
    {
      "cell_type": "code",
      "execution_count": 20,
      "metadata": {
        "colab": {
          "base_uri": "https://localhost:8080/"
        },
        "id": "mjpJbJqkDmsb",
        "outputId": "578fc53b-78ca-49e4-d355-d721cab5c043"
      },
      "outputs": [
        {
          "data": {
            "text/plain": [
              "{' ',\n",
              " ',',\n",
              " '<EOS>',\n",
              " '가',\n",
              " '갑',\n",
              " '개',\n",
              " '거',\n",
              " '걸',\n",
              " '고',\n",
              " '과',\n",
              " '놓',\n",
              " '늘',\n",
              " '니',\n",
              " '다',\n",
              " '대',\n",
              " '동',\n",
              " '되',\n",
              " '두',\n",
              " '둘',\n",
              " '드',\n",
              " '들',\n",
              " '라',\n",
              " '람',\n",
              " '러',\n",
              " '럿',\n",
              " '로',\n",
              " '를',\n",
              " '명',\n",
              " '바',\n",
              " '보',\n",
              " '볼',\n",
              " '사',\n",
              " '서',\n",
              " '설',\n",
              " '세',\n",
              " '수',\n",
              " '습',\n",
              " '앞',\n",
              " '어',\n",
              " '여',\n",
              " '오',\n",
              " '옵',\n",
              " '와',\n",
              " '워',\n",
              " '으',\n",
              " '의',\n",
              " '이',\n",
              " '있',\n",
              " '자',\n",
              " '전',\n",
              " '져',\n",
              " '차',\n",
              " '치',\n",
              " '킥',\n",
              " '타',\n",
              " '탄',\n",
              " '토',\n",
              " '폴'}"
            ]
          },
          "execution_count": 20,
          "metadata": {},
          "output_type": "execute_result"
        }
      ],
      "source": [
        "vocab"
      ]
    },
    {
      "cell_type": "code",
      "execution_count": 21,
      "metadata": {
        "colab": {
          "base_uri": "https://localhost:8080/"
        },
        "id": "TZbgSvQBCMv7",
        "outputId": "d6379ec4-17ea-4cc7-ecec-ff748be9708a"
      },
      "outputs": [
        {
          "data": {
            "text/plain": [
              "{' ': 13,\n",
              " ',': 57,\n",
              " '<EOS>': 14,\n",
              " '가': 3,\n",
              " '갑': 16,\n",
              " '개': 36,\n",
              " '거': 22,\n",
              " '걸': 58,\n",
              " '고': 40,\n",
              " '과': 41,\n",
              " '놓': 19,\n",
              " '늘': 45,\n",
              " '니': 35,\n",
              " '다': 2,\n",
              " '대': 48,\n",
              " '동': 30,\n",
              " '되': 10,\n",
              " '두': 43,\n",
              " '둘': 31,\n",
              " '드': 51,\n",
              " '들': 54,\n",
              " '라': 23,\n",
              " '람': 32,\n",
              " '러': 47,\n",
              " '럿': 55,\n",
              " '로': 8,\n",
              " '를': 9,\n",
              " '명': 18,\n",
              " '바': 15,\n",
              " '보': 52,\n",
              " '볼': 44,\n",
              " '사': 25,\n",
              " '서': 12,\n",
              " '설': 17,\n",
              " '세': 46,\n",
              " '수': 50,\n",
              " '습': 7,\n",
              " '앞': 27,\n",
              " '어': 11,\n",
              " '여': 34,\n",
              " '오': 33,\n",
              " '옵': 1,\n",
              " '와': 5,\n",
              " '워': 39,\n",
              " '으': 49,\n",
              " '의': 21,\n",
              " '이': 53,\n",
              " '있': 38,\n",
              " '자': 24,\n",
              " '전': 4,\n",
              " '져': 29,\n",
              " '차': 28,\n",
              " '치': 37,\n",
              " '킥': 6,\n",
              " '타': 26,\n",
              " '탄': 42,\n",
              " '토': 20,\n",
              " '폴': 56}"
            ]
          },
          "execution_count": 21,
          "metadata": {},
          "output_type": "execute_result"
        }
      ],
      "source": [
        "char2idx = {u:i for i, u in enumerate(vocab, start=1)}\n",
        "char2idx"
      ]
    },
    {
      "cell_type": "markdown",
      "metadata": {
        "id": "0LzzhUPu8Uq_"
      },
      "source": [
        "음절 단위"
      ]
    },
    {
      "cell_type": "code",
      "execution_count": 11,
      "metadata": {
        "id": "UbByjses8LJq"
      },
      "outputs": [],
      "source": [
        "import numpy as np\n",
        "\n",
        "sentence2vec_list = []\n",
        "for i, row in train.iterrows():\n",
        "    temp_arr = np.array([char2idx[c] for c in row['sentence']] + [char2idx['<EOS>']])\n",
        "    sentence2vec_list.append(temp_arr)"
      ]
    },
    {
      "cell_type": "code",
      "execution_count": 12,
      "metadata": {
        "colab": {
          "base_uri": "https://localhost:8080/"
        },
        "id": "mFjpnkPaGar4",
        "outputId": "18e9e3a4-9cff-4491-a362-f3dbae717caa"
      },
      "outputs": [
        {
          "data": {
            "text/plain": [
              "[array([25, 32, 53, 13,  2,  3, 33, 40, 13, 38,  7, 35,  2, 14]),\n",
              " array([25, 32, 41, 13, 24,  4, 22,  3, 13,  2,  3, 33, 40, 13, 38,  7, 35,\n",
              "         2, 14]),\n",
              " array([24,  4, 22,  5, 13, 25, 32, 53, 13,  2,  3, 33, 40, 13, 38,  7, 35,\n",
              "         2, 14]),\n",
              " array([25, 32, 41, 13, 24,  4, 22,  3, 13, 38,  7, 35,  2, 14]),\n",
              " array([24,  4, 22,  5, 13, 25, 32, 53, 13, 38,  7, 35,  2, 14]),\n",
              " array([24,  4, 22, 13, 34, 47, 13, 48,  5, 13, 25, 32, 53, 13, 38,  7, 35,\n",
              "         2, 14]),\n",
              " array([25, 32, 53, 13, 34, 55, 13, 38,  7, 35,  2, 14]),\n",
              " array([25, 32, 13, 34, 47, 13, 18, 41, 13, 24,  4, 22, 13, 34, 47, 13, 48,\n",
              "         3, 13, 38,  7, 35,  2, 14]),\n",
              " array([25, 32, 53, 13, 27, 49,  8, 13, 58, 11,  3, 40, 13, 38,  7, 35,  2,\n",
              "        14]),\n",
              " array([ 4, 30,  6, 52, 51,  9, 13, 42, 13, 25, 32, 53, 13,  2,  3, 33, 40,\n",
              "        13, 38,  7, 35,  2, 14]),\n",
              " array([ 4, 30,  6, 52, 51,  9, 13, 42, 13, 25, 32, 41, 13, 34, 47, 13, 18,\n",
              "        21, 13, 25, 32, 53, 13, 38,  7, 35,  2, 14]),\n",
              " array([ 4, 30,  6, 52, 51,  3, 13, 38,  7, 35,  2, 14]),\n",
              " array([ 4, 30,  6, 52, 51,  3, 13, 34, 47, 13, 48, 13, 38,  7, 35,  2, 14]),\n",
              " array([25, 32, 13, 34, 47, 13, 18, 41, 13,  4, 30,  6, 52, 51,  3, 13, 38,\n",
              "         7, 35,  2, 14]),\n",
              " array([25, 32, 13, 34, 47, 13, 18, 53, 13,  4, 30,  6, 52, 51,  9, 13, 26,\n",
              "        40, 13, 38,  7, 35,  2, 14]),\n",
              " array([ 4, 30,  6, 52, 51,  5, 13, 25, 32, 53, 13, 38,  7, 35,  2, 14]),\n",
              " array([25, 32, 41, 13,  4, 30,  6, 52, 51,  3, 13, 38,  7, 35,  2, 14]),\n",
              " array([28,  3, 13, 38,  7, 35,  2, 14]),\n",
              " array([28,  3, 13, 34, 47, 13, 48, 13, 38,  7, 35,  2, 14]),\n",
              " array([25, 32, 41, 13, 28,  3, 13, 38,  7, 35,  2, 14]),\n",
              " array([28,  5, 13, 25, 32, 53, 13, 38,  7, 35,  2, 14]),\n",
              " array([33, 20, 15, 53,  3, 13, 38,  7, 35,  2, 14]),\n",
              " array([33, 20, 15, 53,  3, 13, 34, 47, 13, 48, 13, 38,  7, 35,  2, 14]),\n",
              " array([33, 20, 15, 53,  9, 13, 42, 13, 25, 32, 53, 13,  2,  3, 33, 40, 13,\n",
              "        38,  7, 35,  2, 14]),\n",
              " array([25, 32, 41, 13, 33, 20, 15, 53,  3, 13, 38,  7, 35,  2, 14]),\n",
              " array([25, 32, 13, 34, 47, 13, 18, 41, 13, 33, 20, 15, 53, 13, 34, 47, 13,\n",
              "        48,  3, 13, 38,  7, 35,  2, 14]),\n",
              " array([33, 20, 15, 53, 13, 34, 47, 13, 48,  5, 13, 25, 32, 53, 13, 38,  7,\n",
              "        35,  2, 14]),\n",
              " array([ 4, 30,  6, 52, 51,  5, 13, 33, 20, 15, 53, 13, 34, 47, 13, 48,  3,\n",
              "        13, 38,  7, 35,  2, 14]),\n",
              " array([24,  4, 22,  5, 13, 33, 20, 15, 53, 13, 34, 47, 13, 48,  3, 13, 38,\n",
              "         7, 35,  2, 14]),\n",
              " array([33, 20, 15, 53,  5, 13, 24,  4, 22,  3, 13, 38,  7, 35,  2, 14]),\n",
              " array([33, 20, 15, 53,  5, 13,  4, 30,  6, 52, 51,  3, 13, 38,  7, 35,  2,\n",
              "        14]),\n",
              " array([ 4, 30,  6, 52, 51,  5, 13, 24,  4, 22,  3, 13, 34, 47, 13, 48, 13,\n",
              "        38,  7, 35,  2, 14]),\n",
              " array([24,  4, 22, 13, 34, 47, 13, 48,  5, 13,  4, 30, 13,  6, 52, 51,  3,\n",
              "        13, 38,  7, 35,  2, 14]),\n",
              " array([25, 32, 41, 13, 28, 57, 13, 33, 20, 15, 53, 57, 13, 24,  4, 22,  3,\n",
              "        13,  2, 50, 13, 38,  7, 35,  2, 14]),\n",
              " array([28, 57, 13, 33, 20, 15, 53, 57, 13, 24,  4, 22, 57, 13, 25, 32, 53,\n",
              "        13,  2, 50, 13, 38,  7, 35,  2, 14]),\n",
              " array([24,  4, 22, 57, 13, 25, 32, 57, 13, 33, 20, 15, 53,  3, 13,  2, 50,\n",
              "        13, 38,  7, 35,  2, 14]),\n",
              " array([33, 20, 15, 53,  5, 13, 24,  4, 22, 57, 13,  4, 30,  6, 52, 51, 13,\n",
              "        34, 47, 13, 48,  3, 13, 38,  7, 35,  2, 14]),\n",
              " array([28,  5, 13, 33, 20, 15, 53,  3, 13, 38,  7, 35,  2, 14]),\n",
              " array([24,  4, 22, 13, 34, 47, 13, 48,  5, 13, 25, 32, 53, 13, 38,  7, 35,\n",
              "         2, 14]),\n",
              " array([33, 20, 15, 53,  9, 13, 42, 13, 25, 32, 53, 13, 34, 55, 13, 38,  7,\n",
              "        35,  2, 14]),\n",
              " array([24,  4, 22, 57, 13, 28, 13, 34, 47, 13, 48,  5, 13, 25, 32, 53, 13,\n",
              "        38,  7, 35,  2, 14]),\n",
              " array([ 4, 30,  6, 52, 51,  9, 13, 42, 13, 25, 32, 13, 34, 55, 41, 13,  4,\n",
              "        30,  6, 52, 51, 57, 13, 24,  4, 22,  3, 13, 38,  7, 35,  2, 14]),\n",
              " array([44, 23, 51,  3, 13, 17, 37, 13, 10, 11, 13, 38,  7, 35,  2, 14]),\n",
              " array([44, 23, 51,  5, 13, 24,  4, 22,  3, 13, 34, 55, 13, 38,  7, 35,  2,\n",
              "        14]),\n",
              " array([24,  4, 22, 13, 34, 47, 13, 48,  5, 13, 56, 23, 51, 13, 34, 47, 36,\n",
              "         3, 13, 38,  7, 35,  2, 14]),\n",
              " array([33, 20, 15, 53,  9, 13, 42, 13, 25, 32, 41, 13, 44, 23, 51, 13, 34,\n",
              "        47, 36,  3, 13, 38,  7, 35,  2, 14]),\n",
              " array([24,  4, 22,  9, 13, 42, 13, 25, 32, 41, 13, 33, 20, 15, 53,  9, 13,\n",
              "        42, 13, 25, 32, 53, 13, 34, 55, 13, 38,  7, 35,  2, 14]),\n",
              " array([44, 23, 51, 57, 13, 33, 20, 15, 53, 57, 13,  4, 30,  6, 52, 51,  3,\n",
              "        13, 38,  7, 35,  2, 14]),\n",
              " array([ 4, 30,  6, 52, 51,  9, 13, 42, 13, 25, 32, 41, 13, 44, 23, 51,  3,\n",
              "        13, 34, 55, 13, 38,  7, 35,  2, 14]),\n",
              " array([24,  4, 22,  9, 13, 42, 13, 25, 32, 41, 13,  4, 30,  6, 52, 51, 57,\n",
              "        13, 44, 23, 51,  3, 13, 38,  7, 35,  2, 14]),\n",
              " array([25, 32, 53, 13,  2,  3, 33, 40, 13, 38,  7, 35,  2, 14]),\n",
              " array([25, 32, 53, 13, 58, 11,  3, 40, 13, 38,  7, 35,  2, 14]),\n",
              " array([44, 23, 51,  3, 13, 17, 37, 10, 11, 13, 38,  7, 35,  2, 14]),\n",
              " array([24, 30, 28,  3, 13, 38,  7, 35,  2, 14]),\n",
              " array([24,  4, 22,  3, 13, 46, 39, 29, 13, 38,  7, 35,  2, 14]),\n",
              " array([24,  4, 22,  9, 13, 42, 13, 25, 32, 53, 13, 38,  7, 35,  2, 14]),\n",
              " array([ 4, 30,  6, 52, 51,  3, 13, 19, 34, 13, 38,  7, 35,  2, 14]),\n",
              " array([ 4, 30,  6, 52, 51,  9, 13, 42, 13, 25, 32, 53, 13, 38,  7, 35,  2,\n",
              "        14]),\n",
              " array([33, 20, 15, 53,  3, 13, 46, 39, 29, 13, 38,  7, 35,  2, 14]),\n",
              " array([33, 20, 15, 53,  9, 13, 42, 13, 25, 32, 53, 13, 38,  7, 35,  2, 14]),\n",
              " array([25, 32, 13, 43, 13, 18, 53, 13,  2,  3,  1, 35,  2, 14]),\n",
              " array([25, 32, 54, 53, 13, 34, 55, 13, 38,  7, 35,  2, 14]),\n",
              " array([44, 23, 51,  3, 13, 45, 11, 12, 13, 38,  7, 35,  2, 14]),\n",
              " array([24, 30, 28,  3, 13, 34, 47, 13, 48, 13, 38,  7, 35,  2, 14]),\n",
              " array([24,  4, 22, 13, 34, 47, 13, 48,  3, 13, 19, 34, 13, 38,  7, 35,  2,\n",
              "        14]),\n",
              " array([24,  4, 22,  9, 13, 42, 13, 25, 32, 53, 13, 31, 13, 38,  7, 35,  2,\n",
              "        14]),\n",
              " array([24,  4, 22,  9, 13, 42, 13, 25, 32, 53, 13, 34, 55, 13, 38,  7, 35,\n",
              "         2, 14]),\n",
              " array([ 4, 30,  6, 52, 51, 13, 43, 13, 48,  3, 13, 19, 34, 13, 38,  7, 35,\n",
              "         2, 14]),\n",
              " array([ 4, 30,  6, 52, 51,  3, 13, 34, 47, 13, 48, 13, 19, 34, 13, 38,  7,\n",
              "        35,  2, 14]),\n",
              " array([ 4, 30,  6, 52, 51,  9, 13, 42, 13, 25, 32, 53, 13, 31, 13, 38,  7,\n",
              "        35,  2, 14]),\n",
              " array([ 4, 30,  6, 52, 51,  9, 13, 42, 13, 25, 32, 53, 13, 34, 55, 13, 38,\n",
              "         7, 35,  2, 14]),\n",
              " array([33, 20, 15, 53, 13, 43, 13, 48,  3, 13, 46, 39, 29, 13, 38,  7, 35,\n",
              "         2, 14]),\n",
              " array([33, 20, 15, 53, 13, 34, 47, 13, 48,  3, 13, 12, 13, 38,  7, 35,  2,\n",
              "        14]),\n",
              " array([33, 20, 15, 53,  9, 13, 42, 13, 25, 32, 53, 13, 34, 55, 13, 38,  7,\n",
              "        35,  2, 14]),\n",
              " array([25, 32, 53, 13,  2,  3, 33, 40, 13, 38, 40, 13, 44, 23, 51,  3, 13,\n",
              "        38,  7, 35,  2, 14]),\n",
              " array([44, 23, 51,  3, 13, 38, 40, 13, 25, 32, 53, 13,  2,  3, 33, 40, 13,\n",
              "        38,  7, 35,  2, 14]),\n",
              " array([44, 23, 51,  5, 13, 24, 30, 28,  3, 13, 38,  7, 35,  2, 14]),\n",
              " array([24, 30, 28,  5, 13, 44, 23, 51,  3, 13, 38,  7, 35,  2, 14]),\n",
              " array([24, 30, 28,  5, 13, 24,  4, 22,  3, 13, 38,  7, 35,  2, 14]),\n",
              " array([24,  4, 22,  5, 13, 24, 30, 28,  3, 13, 38,  7, 35,  2, 14]),\n",
              " array([24,  4, 22,  9, 13, 42, 13, 25, 32, 41, 13, 24, 30, 28,  3, 13, 38,\n",
              "         7, 35,  2, 14]),\n",
              " array([24,  4, 22,  5, 13,  4, 30,  6, 52, 51,  3, 13, 19, 34, 13, 38,  7,\n",
              "        35,  2, 14]),\n",
              " array([ 4, 30,  6, 52, 51,  5, 13, 24,  4, 22,  3, 13, 19, 34, 13, 38,  7,\n",
              "        35,  2, 14]),\n",
              " array([ 4, 30,  6, 52, 51,  5, 13, 33, 20, 15, 53,  3, 13, 19, 34, 13, 38,\n",
              "         7, 35,  2, 14]),\n",
              " array([33, 20, 15, 53,  5, 13,  4, 30,  6, 52, 51,  3, 13, 19, 34, 13, 38,\n",
              "         7, 35,  2, 14]),\n",
              " array([24,  4, 22,  9, 13, 42, 13, 25, 32, 41, 13, 44, 23, 51,  3, 13, 38,\n",
              "         7, 35,  2, 14]),\n",
              " array([ 4, 30,  6, 52, 51,  9, 13, 42, 13, 25, 32, 41, 13, 44, 23, 51,  3,\n",
              "        13, 38,  7, 35,  2, 14]),\n",
              " array([33, 20, 15, 53,  9, 13, 42, 13, 25, 32, 41, 13, 44, 23, 51,  3, 13,\n",
              "        38,  7, 35,  2, 14]),\n",
              " array([24,  4, 22,  9, 13, 42, 13, 25, 32, 41, 13,  4, 30,  6, 52, 51,  9,\n",
              "        13, 42, 13, 25, 32, 53, 13, 38,  7, 35,  2, 14]),\n",
              " array([ 4, 30,  6, 52, 51,  9, 13, 42, 13, 25, 32, 41, 13, 24,  4, 22,  9,\n",
              "        13, 42, 13, 25, 32, 53, 13, 38,  7, 35,  2, 14]),\n",
              " array([33, 20, 15, 53,  9, 13, 42, 13, 25, 32, 41, 13, 24,  4, 22,  9, 13,\n",
              "        42, 13, 25, 32, 53, 13, 38,  7, 35,  2, 14]),\n",
              " array([24,  4, 22,  9, 13, 42, 13, 25, 32, 41, 13, 33, 20, 15, 53,  9, 13,\n",
              "        42, 13, 25, 32, 53, 13, 38,  7, 35,  2, 14]),\n",
              " array([24, 30, 28,  5, 13, 33, 20, 15, 53,  3, 13, 38,  7, 35,  2, 14]),\n",
              " array([33, 20, 15, 53,  5, 13, 24, 30, 28,  3, 13, 38,  7, 35,  2, 14]),\n",
              " array([33, 20, 15, 53,  3, 13, 19, 34, 13, 38, 40, 13, 25, 32, 53, 13, 58,\n",
              "        11, 16, 35,  2, 14]),\n",
              " array([24,  4, 22,  3, 13, 19, 34, 13, 38, 40, 13, 25, 32, 53, 13, 58, 11,\n",
              "        16, 35,  2, 14]),\n",
              " array([ 4, 30,  6, 52, 51,  3, 13, 19, 34, 13, 38, 40, 13, 25, 32, 53, 13,\n",
              "        58, 11, 16, 35,  2, 14]),\n",
              " array([33, 20, 15, 53,  3, 13, 19, 34, 13, 38, 40, 13, 25, 32, 53, 13,  2,\n",
              "         3,  1, 35,  2, 14]),\n",
              " array([24,  4, 22,  3, 13, 19, 34, 13, 38, 40, 13, 25, 32, 53, 13,  2,  3,\n",
              "         1, 35,  2, 14]),\n",
              " array([ 4, 30,  6, 52, 51,  3, 13, 19, 34, 13, 38, 40, 13, 25, 32, 53, 13,\n",
              "         2,  3,  1, 35,  2, 14])]"
            ]
          },
          "execution_count": 12,
          "metadata": {},
          "output_type": "execute_result"
        }
      ],
      "source": [
        "sentence2vec_list"
      ]
    },
    {
      "cell_type": "code",
      "execution_count": 9,
      "metadata": {
        "colab": {
          "base_uri": "https://localhost:8080/"
        },
        "id": "Ak6JY2xRGeo7",
        "outputId": "ebba1c06-224e-447a-e266-75ba523b4cb8"
      },
      "outputs": [
        {
          "name": "stdout",
          "output_type": "stream",
          "text": [
            "사람이 다가오고 있습니다<EOS>"
          ]
        }
      ],
      "source": [
        "# vector 복원\n",
        "for num in sentence2vec_list[0]:\n",
        "  for c, id in char2idx.items():\n",
        "    if id == num:\n",
        "      print(c, end='')"
      ]
    },
    {
      "cell_type": "code",
      "execution_count": 22,
      "metadata": {
        "id": "H7Es6J949m4H"
      },
      "outputs": [],
      "source": [
        "import numpy as np\n",
        "\n",
        "sentence2vec = np.array(sentence2vec_list, dtype=object)\n",
        "\n",
        "sequence_list = []\n",
        "for vec in sentence2vec:\n",
        "    for i in range(len(vec)):\n",
        "        sequence = vec[:i+1]\n",
        "        sequence_list.append(sequence)"
      ]
    },
    {
      "cell_type": "code",
      "execution_count": 23,
      "metadata": {
        "colab": {
          "base_uri": "https://localhost:8080/"
        },
        "id": "ioNgQx7p-fN3",
        "outputId": "2744c43d-1691-48ef-f273-ed98b4f80013"
      },
      "outputs": [
        {
          "data": {
            "text/plain": [
              "[array([25]),\n",
              " array([25, 32]),\n",
              " array([25, 32, 53]),\n",
              " array([25, 32, 53, 13]),\n",
              " array([25, 32, 53, 13,  2]),\n",
              " array([25, 32, 53, 13,  2,  3]),\n",
              " array([25, 32, 53, 13,  2,  3, 33]),\n",
              " array([25, 32, 53, 13,  2,  3, 33, 40]),\n",
              " array([25, 32, 53, 13,  2,  3, 33, 40, 13]),\n",
              " array([25, 32, 53, 13,  2,  3, 33, 40, 13, 38]),\n",
              " array([25, 32, 53, 13,  2,  3, 33, 40, 13, 38,  7]),\n",
              " array([25, 32, 53, 13,  2,  3, 33, 40, 13, 38,  7, 35]),\n",
              " array([25, 32, 53, 13,  2,  3, 33, 40, 13, 38,  7, 35,  2]),\n",
              " array([25, 32, 53, 13,  2,  3, 33, 40, 13, 38,  7, 35,  2, 14]),\n",
              " array([25])]"
            ]
          },
          "execution_count": 23,
          "metadata": {},
          "output_type": "execute_result"
        }
      ],
      "source": [
        "sequence_list[:15]"
      ]
    },
    {
      "cell_type": "code",
      "execution_count": 12,
      "metadata": {
        "colab": {
          "base_uri": "https://localhost:8080/",
          "height": 279
        },
        "id": "3nGG-HIR_T11",
        "outputId": "004cf713-84c1-46f7-b317-39afb37660a2"
      },
      "outputs": [
        {
          "data": {
            "image/png": "[encoded data removed]",
            "text/plain": [
              "<Figure size 432x288 with 1 Axes>"
            ]
          },
          "metadata": {
            "needs_background": "light"
          },
          "output_type": "display_data"
        }
      ],
      "source": [
        "import matplotlib.pyplot as plt\n",
        "\n",
        "plt.hist([len(s) for s in sentence2vec_list], bins=50)\n",
        "plt.xlabel('length of samples')\n",
        "plt.ylabel('number of samples')\n",
        "plt.show()"
      ]
    },
    {
      "cell_type": "code",
      "execution_count": 15,
      "metadata": {
        "id": "gLJA50vr_9I3"
      },
      "outputs": [],
      "source": [
        "from tensorflow.keras.preprocessing.sequence import pad_sequences\n",
        "\n",
        "max_len = max(map(len, sentence2vec_list))\n",
        "sequences = pad_sequences(sequence_list, maxlen=max_len, padding='pre')"
      ]
    },
    {
      "cell_type": "code",
      "execution_count": 14,
      "metadata": {
        "colab": {
          "base_uri": "https://localhost:8080/"
        },
        "id": "UACXWsOPBTn2",
        "outputId": "2216f42f-c373-44d3-bc6d-919db1475a33"
      },
      "outputs": [
        {
          "data": {
            "text/plain": [
              "array([ 0,  0,  0,  0,  0,  0,  0,  0,  0,  0,  0,  0,  0,  0,  0,  0,  0,\n",
              "        0,  0,  0,  0,  0,  0,  0,  0,  0,  0,  0,  0,  0,  0,  0, 22],\n",
              "      dtype=int32)"
            ]
          },
          "execution_count": 14,
          "metadata": {},
          "output_type": "execute_result"
        }
      ],
      "source": [
        "sequences[0]"
      ]
    },
    {
      "cell_type": "code",
      "execution_count": 15,
      "metadata": {
        "id": "H1OXg0IwBqUt"
      },
      "outputs": [],
      "source": [
        "np.random.shuffle(sequences)\n",
        "split_num = int(len(sequences) * 0.8)\n",
        "\n",
        "X = sequences[:split_num,:-1]\n",
        "y = sequences[:split_num,-1]\n",
        "\n",
        "X_test = sequences[split_num:,:-1]\n",
        "y_test = sequences[split_num:,-1]"
      ]
    },
    {
      "cell_type": "code",
      "execution_count": 16,
      "metadata": {
        "colab": {
          "base_uri": "https://localhost:8080/"
        },
        "id": "2Xe6WUSPCD5F",
        "outputId": "edbc36d8-face-4d2c-d380-4fabce9498a5"
      },
      "outputs": [
        {
          "name": "stdout",
          "output_type": "stream",
          "text": [
            "Model: \"sequential\"\n",
            "_________________________________________________________________\n",
            " Layer (type)                Output Shape              Param #   \n",
            "=================================================================\n",
            " embedding (Embedding)       (None, 32, 300)           1500000   \n",
            "                                                                 \n",
            " gru (GRU)                   (None, 128)               165120    \n",
            "                                                                 \n",
            " dense (Dense)               (None, 5000)              645000    \n",
            "                                                                 \n",
            "=================================================================\n",
            "Total params: 2,310,120\n",
            "Trainable params: 2,310,120\n",
            "Non-trainable params: 0\n",
            "_________________________________________________________________\n",
            "Epoch 1/200\n",
            "47/47 [==============================] - 15s 194ms/step - loss: 6.3629 - accuracy: 0.2281 - val_loss: 3.8629 - val_accuracy: 0.1677\n",
            "Epoch 2/200\n",
            "47/47 [==============================] - 15s 314ms/step - loss: 3.6740 - accuracy: 0.1887 - val_loss: 3.6788 - val_accuracy: 0.1806\n",
            "Epoch 3/200\n",
            "47/47 [==============================] - 11s 243ms/step - loss: 3.5269 - accuracy: 0.1923 - val_loss: 3.5760 - val_accuracy: 0.1806\n",
            "Epoch 4/200\n",
            "47/47 [==============================] - 8s 166ms/step - loss: 3.4487 - accuracy: 0.1923 - val_loss: 3.5010 - val_accuracy: 0.1806\n",
            "Epoch 5/200\n",
            "47/47 [==============================] - 8s 167ms/step - loss: 3.3736 - accuracy: 0.2195 - val_loss: 3.4252 - val_accuracy: 0.1806\n",
            "Epoch 6/200\n",
            "47/47 [==============================] - 8s 168ms/step - loss: 3.2780 - accuracy: 0.2389 - val_loss: 3.2973 - val_accuracy: 0.2323\n",
            "Epoch 7/200\n",
            "47/47 [==============================] - 8s 164ms/step - loss: 3.1103 - accuracy: 0.2991 - val_loss: 3.0818 - val_accuracy: 0.3355\n",
            "Epoch 8/200\n",
            "47/47 [==============================] - 8s 162ms/step - loss: 2.8933 - accuracy: 0.3831 - val_loss: 2.8730 - val_accuracy: 0.3935\n",
            "Epoch 9/200\n",
            "47/47 [==============================] - 8s 168ms/step - loss: 2.6646 - accuracy: 0.4125 - val_loss: 2.6367 - val_accuracy: 0.4000\n",
            "Epoch 10/200\n",
            "47/47 [==============================] - 8s 164ms/step - loss: 2.3975 - accuracy: 0.4778 - val_loss: 2.3771 - val_accuracy: 0.5419\n",
            "Epoch 11/200\n",
            "47/47 [==============================] - 8s 161ms/step - loss: 2.1279 - accuracy: 0.5689 - val_loss: 2.1442 - val_accuracy: 0.6323\n",
            "Epoch 12/200\n",
            "47/47 [==============================] - 8s 166ms/step - loss: 1.9025 - accuracy: 0.6370 - val_loss: 1.9290 - val_accuracy: 0.6452\n",
            "Epoch 13/200\n",
            "47/47 [==============================] - 8s 167ms/step - loss: 1.7096 - accuracy: 0.6714 - val_loss: 1.7765 - val_accuracy: 0.6839\n",
            "Epoch 14/200\n",
            "47/47 [==============================] - 8s 168ms/step - loss: 1.5518 - accuracy: 0.6872 - val_loss: 1.6369 - val_accuracy: 0.6968\n",
            "Epoch 15/200\n",
            "47/47 [==============================] - 8s 165ms/step - loss: 1.4330 - accuracy: 0.7209 - val_loss: 1.5391 - val_accuracy: 0.7032\n",
            "Epoch 16/200\n",
            "47/47 [==============================] - 8s 167ms/step - loss: 1.3266 - accuracy: 0.7403 - val_loss: 1.4681 - val_accuracy: 0.7032\n",
            "Epoch 17/200\n",
            "47/47 [==============================] - 8s 161ms/step - loss: 1.2530 - accuracy: 0.7511 - val_loss: 1.4046 - val_accuracy: 0.7161\n",
            "Epoch 18/200\n",
            "47/47 [==============================] - 8s 163ms/step - loss: 1.1896 - accuracy: 0.7618 - val_loss: 1.3715 - val_accuracy: 0.7290\n",
            "Epoch 19/200\n",
            "47/47 [==============================] - 8s 166ms/step - loss: 1.1402 - accuracy: 0.7719 - val_loss: 1.2995 - val_accuracy: 0.7226\n",
            "Epoch 20/200\n",
            "47/47 [==============================] - 8s 164ms/step - loss: 1.1005 - accuracy: 0.7704 - val_loss: 1.2609 - val_accuracy: 0.7484\n",
            "Epoch 21/200\n",
            "47/47 [==============================] - 8s 163ms/step - loss: 1.0589 - accuracy: 0.7855 - val_loss: 1.2272 - val_accuracy: 0.7419\n",
            "Epoch 22/200\n",
            "47/47 [==============================] - 8s 162ms/step - loss: 1.0247 - accuracy: 0.7891 - val_loss: 1.1981 - val_accuracy: 0.7548\n",
            "Epoch 23/200\n",
            "47/47 [==============================] - 8s 162ms/step - loss: 1.0014 - accuracy: 0.8049 - val_loss: 1.1573 - val_accuracy: 0.7871\n",
            "Epoch 24/200\n",
            "47/47 [==============================] - 8s 166ms/step - loss: 0.9697 - accuracy: 0.8020 - val_loss: 1.1397 - val_accuracy: 0.7871\n",
            "Epoch 25/200\n",
            "47/47 [==============================] - 7s 159ms/step - loss: 0.9443 - accuracy: 0.8099 - val_loss: 1.1153 - val_accuracy: 0.7871\n",
            "Epoch 26/200\n",
            "47/47 [==============================] - 8s 166ms/step - loss: 0.9143 - accuracy: 0.8142 - val_loss: 1.0937 - val_accuracy: 0.7742\n",
            "Epoch 27/200\n",
            "47/47 [==============================] - 8s 161ms/step - loss: 0.8849 - accuracy: 0.8171 - val_loss: 1.0503 - val_accuracy: 0.8065\n",
            "Epoch 28/200\n",
            "47/47 [==============================] - 8s 162ms/step - loss: 0.8631 - accuracy: 0.8192 - val_loss: 1.0449 - val_accuracy: 0.7935\n",
            "Epoch 29/200\n",
            "47/47 [==============================] - 8s 163ms/step - loss: 0.8391 - accuracy: 0.8221 - val_loss: 1.0444 - val_accuracy: 0.7871\n",
            "Epoch 30/200\n",
            "47/47 [==============================] - 8s 163ms/step - loss: 0.8198 - accuracy: 0.8214 - val_loss: 0.9998 - val_accuracy: 0.8065\n",
            "Epoch 31/200\n",
            "47/47 [==============================] - 8s 163ms/step - loss: 0.7982 - accuracy: 0.8235 - val_loss: 0.9869 - val_accuracy: 0.8129\n",
            "Epoch 32/200\n",
            "47/47 [==============================] - 8s 163ms/step - loss: 0.7820 - accuracy: 0.8307 - val_loss: 0.9811 - val_accuracy: 0.8129\n",
            "Epoch 33/200\n",
            "47/47 [==============================] - 8s 162ms/step - loss: 0.7660 - accuracy: 0.8329 - val_loss: 0.9633 - val_accuracy: 0.7871\n",
            "Epoch 34/200\n",
            "47/47 [==============================] - 8s 162ms/step - loss: 0.7524 - accuracy: 0.8307 - val_loss: 0.9605 - val_accuracy: 0.8129\n",
            "Epoch 35/200\n",
            "47/47 [==============================] - 8s 162ms/step - loss: 0.7461 - accuracy: 0.8314 - val_loss: 0.9449 - val_accuracy: 0.8194\n",
            "Epoch 36/200\n",
            "47/47 [==============================] - 8s 161ms/step - loss: 0.7311 - accuracy: 0.8336 - val_loss: 0.9523 - val_accuracy: 0.7935\n",
            "Epoch 37/200\n",
            "47/47 [==============================] - 8s 163ms/step - loss: 0.7232 - accuracy: 0.8364 - val_loss: 0.9389 - val_accuracy: 0.8258\n",
            "Epoch 38/200\n",
            "47/47 [==============================] - 8s 162ms/step - loss: 0.7107 - accuracy: 0.8393 - val_loss: 0.9174 - val_accuracy: 0.8194\n",
            "Epoch 39/200\n",
            "47/47 [==============================] - 8s 166ms/step - loss: 0.7012 - accuracy: 0.8429 - val_loss: 0.9216 - val_accuracy: 0.8194\n",
            "Epoch 40/200\n",
            "47/47 [==============================] - 8s 162ms/step - loss: 0.6942 - accuracy: 0.8357 - val_loss: 0.9229 - val_accuracy: 0.8129\n",
            "Epoch 41/200\n",
            "47/47 [==============================] - 8s 161ms/step - loss: 0.6851 - accuracy: 0.8400 - val_loss: 0.9125 - val_accuracy: 0.8194\n",
            "Epoch 42/200\n",
            "47/47 [==============================] - 8s 169ms/step - loss: 0.6800 - accuracy: 0.8479 - val_loss: 0.9023 - val_accuracy: 0.8452\n",
            "Epoch 43/200\n",
            "47/47 [==============================] - 8s 166ms/step - loss: 0.6701 - accuracy: 0.8458 - val_loss: 0.9250 - val_accuracy: 0.8129\n",
            "Epoch 44/200\n",
            "47/47 [==============================] - 8s 166ms/step - loss: 0.6651 - accuracy: 0.8522 - val_loss: 0.9179 - val_accuracy: 0.8129\n",
            "Epoch 45/200\n",
            "47/47 [==============================] - 8s 164ms/step - loss: 0.6582 - accuracy: 0.8465 - val_loss: 0.9263 - val_accuracy: 0.8129\n",
            "Epoch 46/200\n",
            "47/47 [==============================] - 8s 168ms/step - loss: 0.6513 - accuracy: 0.8537 - val_loss: 0.9151 - val_accuracy: 0.8387\n",
            "Epoch 47/200\n",
            "47/47 [==============================] - 8s 164ms/step - loss: 0.6501 - accuracy: 0.8479 - val_loss: 0.9002 - val_accuracy: 0.8387\n",
            "Epoch 48/200\n",
            "47/47 [==============================] - 8s 164ms/step - loss: 0.6433 - accuracy: 0.8451 - val_loss: 0.9112 - val_accuracy: 0.8065\n",
            "Epoch 49/200\n",
            "47/47 [==============================] - 8s 163ms/step - loss: 0.6357 - accuracy: 0.8558 - val_loss: 0.9121 - val_accuracy: 0.8387\n",
            "Epoch 50/200\n",
            "47/47 [==============================] - 8s 161ms/step - loss: 0.6324 - accuracy: 0.8515 - val_loss: 0.9150 - val_accuracy: 0.8323\n",
            "Epoch 51/200\n",
            "47/47 [==============================] - 8s 164ms/step - loss: 0.6247 - accuracy: 0.8522 - val_loss: 0.9348 - val_accuracy: 0.8000\n",
            "Epoch 52/200\n",
            "47/47 [==============================] - 8s 160ms/step - loss: 0.6188 - accuracy: 0.8494 - val_loss: 0.9085 - val_accuracy: 0.8323\n",
            "Epoch 53/200\n",
            "47/47 [==============================] - 8s 164ms/step - loss: 0.6164 - accuracy: 0.8508 - val_loss: 0.9211 - val_accuracy: 0.8000\n",
            "Epoch 54/200\n",
            "47/47 [==============================] - 8s 166ms/step - loss: 0.6133 - accuracy: 0.8508 - val_loss: 0.9214 - val_accuracy: 0.8129\n",
            "Epoch 55/200\n",
            "47/47 [==============================] - 8s 160ms/step - loss: 0.6109 - accuracy: 0.8508 - val_loss: 0.9229 - val_accuracy: 0.7935\n",
            "Epoch 56/200\n",
            "47/47 [==============================] - 8s 160ms/step - loss: 0.5991 - accuracy: 0.8580 - val_loss: 0.9117 - val_accuracy: 0.8194\n",
            "Epoch 57/200\n",
            "47/47 [==============================] - 8s 163ms/step - loss: 0.5958 - accuracy: 0.8508 - val_loss: 0.9473 - val_accuracy: 0.7935\n",
            "Epoch 58/200\n",
            "47/47 [==============================] - 8s 161ms/step - loss: 0.5920 - accuracy: 0.8486 - val_loss: 0.9290 - val_accuracy: 0.7935\n",
            "Epoch 59/200\n",
            "47/47 [==============================] - 8s 162ms/step - loss: 0.5869 - accuracy: 0.8522 - val_loss: 0.9181 - val_accuracy: 0.7935\n",
            "Epoch 60/200\n",
            "47/47 [==============================] - 8s 165ms/step - loss: 0.5803 - accuracy: 0.8551 - val_loss: 0.9071 - val_accuracy: 0.8323\n",
            "Epoch 61/200\n",
            "47/47 [==============================] - 8s 163ms/step - loss: 0.5750 - accuracy: 0.8587 - val_loss: 0.9201 - val_accuracy: 0.7871\n",
            "Epoch 62/200\n",
            "47/47 [==============================] - 8s 164ms/step - loss: 0.5780 - accuracy: 0.8522 - val_loss: 0.9099 - val_accuracy: 0.8000\n",
            "Epoch 63/200\n",
            "47/47 [==============================] - 8s 163ms/step - loss: 0.5709 - accuracy: 0.8529 - val_loss: 0.9067 - val_accuracy: 0.8258\n",
            "Epoch 64/200\n",
            "47/47 [==============================] - 8s 161ms/step - loss: 0.5648 - accuracy: 0.8580 - val_loss: 0.9176 - val_accuracy: 0.7935\n",
            "Epoch 65/200\n",
            "47/47 [==============================] - 8s 162ms/step - loss: 0.5631 - accuracy: 0.8522 - val_loss: 0.9019 - val_accuracy: 0.8258\n",
            "Epoch 66/200\n",
            "47/47 [==============================] - 8s 162ms/step - loss: 0.5653 - accuracy: 0.8537 - val_loss: 0.9328 - val_accuracy: 0.8194\n",
            "Epoch 67/200\n",
            "47/47 [==============================] - 8s 164ms/step - loss: 0.5549 - accuracy: 0.8522 - val_loss: 0.9150 - val_accuracy: 0.8065\n",
            "Epoch 68/200\n",
            "47/47 [==============================] - 8s 162ms/step - loss: 0.5517 - accuracy: 0.8551 - val_loss: 0.9122 - val_accuracy: 0.8129\n",
            "Epoch 69/200\n",
            "47/47 [==============================] - 8s 161ms/step - loss: 0.5477 - accuracy: 0.8537 - val_loss: 0.9185 - val_accuracy: 0.8194\n",
            "Epoch 70/200\n",
            "47/47 [==============================] - 8s 167ms/step - loss: 0.5423 - accuracy: 0.8608 - val_loss: 0.9094 - val_accuracy: 0.8387\n",
            "Epoch 71/200\n",
            "47/47 [==============================] - 8s 163ms/step - loss: 0.5377 - accuracy: 0.8594 - val_loss: 0.8798 - val_accuracy: 0.8323\n",
            "Epoch 72/200\n",
            "47/47 [==============================] - 8s 162ms/step - loss: 0.5343 - accuracy: 0.8651 - val_loss: 0.9185 - val_accuracy: 0.7935\n",
            "Epoch 73/200\n",
            "47/47 [==============================] - 8s 164ms/step - loss: 0.5328 - accuracy: 0.8651 - val_loss: 0.9129 - val_accuracy: 0.8387\n",
            "Epoch 74/200\n",
            "47/47 [==============================] - 8s 161ms/step - loss: 0.5260 - accuracy: 0.8587 - val_loss: 0.9165 - val_accuracy: 0.8000\n",
            "Epoch 75/200\n",
            "47/47 [==============================] - 8s 162ms/step - loss: 0.5195 - accuracy: 0.8587 - val_loss: 0.9032 - val_accuracy: 0.8129\n",
            "Epoch 76/200\n",
            "47/47 [==============================] - 7s 159ms/step - loss: 0.5218 - accuracy: 0.8587 - val_loss: 0.8986 - val_accuracy: 0.7935\n",
            "Epoch 77/200\n",
            "47/47 [==============================] - 8s 164ms/step - loss: 0.5191 - accuracy: 0.8608 - val_loss: 0.8903 - val_accuracy: 0.8000\n",
            "Epoch 78/200\n",
            "47/47 [==============================] - 8s 164ms/step - loss: 0.5091 - accuracy: 0.8637 - val_loss: 0.9072 - val_accuracy: 0.8194\n",
            "Epoch 79/200\n",
            "47/47 [==============================] - 8s 162ms/step - loss: 0.5055 - accuracy: 0.8637 - val_loss: 0.9114 - val_accuracy: 0.7935\n",
            "Epoch 80/200\n",
            "47/47 [==============================] - 8s 168ms/step - loss: 0.5004 - accuracy: 0.8615 - val_loss: 0.9067 - val_accuracy: 0.8323\n",
            "Epoch 81/200\n",
            "47/47 [==============================] - 8s 163ms/step - loss: 0.4978 - accuracy: 0.8673 - val_loss: 0.9000 - val_accuracy: 0.8323\n",
            "Epoch 82/200\n",
            "47/47 [==============================] - 8s 163ms/step - loss: 0.4935 - accuracy: 0.8565 - val_loss: 0.8995 - val_accuracy: 0.8258\n",
            "Epoch 83/200\n",
            "47/47 [==============================] - 8s 161ms/step - loss: 0.4870 - accuracy: 0.8666 - val_loss: 0.9047 - val_accuracy: 0.8323\n",
            "Epoch 84/200\n",
            "47/47 [==============================] - 8s 167ms/step - loss: 0.4839 - accuracy: 0.8594 - val_loss: 0.9057 - val_accuracy: 0.8387\n",
            "Epoch 85/200\n",
            "47/47 [==============================] - 8s 165ms/step - loss: 0.4774 - accuracy: 0.8630 - val_loss: 0.8804 - val_accuracy: 0.8323\n",
            "Epoch 86/200\n",
            "47/47 [==============================] - 8s 163ms/step - loss: 0.4741 - accuracy: 0.8687 - val_loss: 0.9129 - val_accuracy: 0.7806\n",
            "Epoch 87/200\n",
            "47/47 [==============================] - 8s 164ms/step - loss: 0.4720 - accuracy: 0.8608 - val_loss: 0.8966 - val_accuracy: 0.8387\n",
            "Epoch 88/200\n",
            "47/47 [==============================] - 8s 164ms/step - loss: 0.4667 - accuracy: 0.8687 - val_loss: 0.9056 - val_accuracy: 0.8323\n",
            "Epoch 89/200\n",
            "47/47 [==============================] - 8s 161ms/step - loss: 0.4639 - accuracy: 0.8716 - val_loss: 0.8843 - val_accuracy: 0.8323\n",
            "Epoch 90/200\n",
            "47/47 [==============================] - 8s 167ms/step - loss: 0.4612 - accuracy: 0.8659 - val_loss: 0.8761 - val_accuracy: 0.8258\n",
            "Epoch 91/200\n",
            "47/47 [==============================] - 8s 164ms/step - loss: 0.4553 - accuracy: 0.8702 - val_loss: 0.8830 - val_accuracy: 0.7935\n",
            "Epoch 92/200\n",
            "47/47 [==============================] - 8s 162ms/step - loss: 0.4536 - accuracy: 0.8673 - val_loss: 0.8727 - val_accuracy: 0.8065\n",
            "Epoch 93/200\n",
            "47/47 [==============================] - 8s 163ms/step - loss: 0.4468 - accuracy: 0.8666 - val_loss: 0.8938 - val_accuracy: 0.8065\n",
            "Epoch 94/200\n",
            "47/47 [==============================] - 8s 160ms/step - loss: 0.4429 - accuracy: 0.8766 - val_loss: 0.8967 - val_accuracy: 0.8258\n",
            "Epoch 95/200\n",
            "47/47 [==============================] - 8s 161ms/step - loss: 0.4397 - accuracy: 0.8766 - val_loss: 0.8923 - val_accuracy: 0.8258\n",
            "Epoch 96/200\n",
            "47/47 [==============================] - 8s 163ms/step - loss: 0.4354 - accuracy: 0.8730 - val_loss: 0.8944 - val_accuracy: 0.7935\n",
            "Epoch 97/200\n",
            "47/47 [==============================] - 8s 162ms/step - loss: 0.4298 - accuracy: 0.8766 - val_loss: 0.8865 - val_accuracy: 0.8258\n",
            "Epoch 98/200\n",
            "47/47 [==============================] - 8s 164ms/step - loss: 0.4293 - accuracy: 0.8766 - val_loss: 0.9109 - val_accuracy: 0.8000\n",
            "Epoch 99/200\n",
            "47/47 [==============================] - 7s 159ms/step - loss: 0.4257 - accuracy: 0.8737 - val_loss: 0.8903 - val_accuracy: 0.8258\n",
            "Epoch 100/200\n",
            "47/47 [==============================] - 8s 168ms/step - loss: 0.4204 - accuracy: 0.8759 - val_loss: 0.8817 - val_accuracy: 0.8065\n",
            "Epoch 101/200\n",
            "47/47 [==============================] - 8s 161ms/step - loss: 0.4225 - accuracy: 0.8745 - val_loss: 0.8879 - val_accuracy: 0.8000\n",
            "Epoch 102/200\n",
            "47/47 [==============================] - 8s 167ms/step - loss: 0.4155 - accuracy: 0.8745 - val_loss: 0.9081 - val_accuracy: 0.7806\n",
            "Epoch 103/200\n",
            "47/47 [==============================] - 8s 165ms/step - loss: 0.4109 - accuracy: 0.8766 - val_loss: 0.9016 - val_accuracy: 0.8065\n",
            "Epoch 104/200\n",
            "47/47 [==============================] - 8s 161ms/step - loss: 0.4095 - accuracy: 0.8759 - val_loss: 0.8910 - val_accuracy: 0.8258\n",
            "Epoch 105/200\n",
            "47/47 [==============================] - 8s 165ms/step - loss: 0.4062 - accuracy: 0.8773 - val_loss: 0.9139 - val_accuracy: 0.7742\n",
            "Epoch 106/200\n",
            "47/47 [==============================] - 8s 164ms/step - loss: 0.4000 - accuracy: 0.8795 - val_loss: 0.9060 - val_accuracy: 0.8065\n",
            "Epoch 107/200\n",
            "47/47 [==============================] - 8s 164ms/step - loss: 0.4000 - accuracy: 0.8780 - val_loss: 0.9291 - val_accuracy: 0.7806\n",
            "Epoch 108/200\n",
            "47/47 [==============================] - 8s 164ms/step - loss: 0.3968 - accuracy: 0.8745 - val_loss: 0.9189 - val_accuracy: 0.8000\n",
            "Epoch 109/200\n",
            "47/47 [==============================] - 8s 165ms/step - loss: 0.3918 - accuracy: 0.8780 - val_loss: 0.9189 - val_accuracy: 0.7935\n",
            "Epoch 110/200\n",
            "47/47 [==============================] - 8s 164ms/step - loss: 0.3883 - accuracy: 0.8737 - val_loss: 0.9255 - val_accuracy: 0.7935\n",
            "Epoch 111/200\n",
            "47/47 [==============================] - 8s 161ms/step - loss: 0.3867 - accuracy: 0.8745 - val_loss: 0.9131 - val_accuracy: 0.7806\n",
            "Epoch 112/200\n",
            "47/47 [==============================] - 8s 166ms/step - loss: 0.3847 - accuracy: 0.8766 - val_loss: 0.9153 - val_accuracy: 0.8258\n",
            "Epoch 113/200\n",
            "47/47 [==============================] - 8s 162ms/step - loss: 0.3822 - accuracy: 0.8773 - val_loss: 0.9166 - val_accuracy: 0.7871\n",
            "Epoch 114/200\n",
            "47/47 [==============================] - 8s 165ms/step - loss: 0.3785 - accuracy: 0.8773 - val_loss: 0.9409 - val_accuracy: 0.8194\n",
            "Epoch 115/200\n",
            "47/47 [==============================] - 8s 164ms/step - loss: 0.3842 - accuracy: 0.8773 - val_loss: 0.9025 - val_accuracy: 0.8194\n",
            "Epoch 116/200\n",
            "47/47 [==============================] - 8s 165ms/step - loss: 0.3801 - accuracy: 0.8730 - val_loss: 0.9269 - val_accuracy: 0.8065\n",
            "Epoch 117/200\n",
            "47/47 [==============================] - 8s 165ms/step - loss: 0.3762 - accuracy: 0.8773 - val_loss: 0.9259 - val_accuracy: 0.7935\n",
            "Epoch 118/200\n",
            "47/47 [==============================] - 8s 162ms/step - loss: 0.3705 - accuracy: 0.8780 - val_loss: 0.9297 - val_accuracy: 0.7806\n",
            "Epoch 119/200\n",
            "47/47 [==============================] - 8s 162ms/step - loss: 0.3670 - accuracy: 0.8752 - val_loss: 0.9355 - val_accuracy: 0.7935\n",
            "Epoch 120/200\n",
            "47/47 [==============================] - 8s 160ms/step - loss: 0.3655 - accuracy: 0.8809 - val_loss: 0.9089 - val_accuracy: 0.8065\n",
            "Epoch 121/200\n",
            "47/47 [==============================] - 8s 165ms/step - loss: 0.3620 - accuracy: 0.8759 - val_loss: 0.9057 - val_accuracy: 0.8323\n",
            "Epoch 122/200\n",
            "47/47 [==============================] - 8s 163ms/step - loss: 0.3657 - accuracy: 0.8780 - val_loss: 0.9657 - val_accuracy: 0.7871\n",
            "Epoch 123/200\n",
            "47/47 [==============================] - 8s 164ms/step - loss: 0.3611 - accuracy: 0.8766 - val_loss: 0.9231 - val_accuracy: 0.7871\n",
            "Epoch 124/200\n",
            "47/47 [==============================] - 8s 166ms/step - loss: 0.3636 - accuracy: 0.8809 - val_loss: 0.9082 - val_accuracy: 0.8258\n",
            "Epoch 125/200\n",
            "47/47 [==============================] - 8s 165ms/step - loss: 0.3542 - accuracy: 0.8802 - val_loss: 0.9521 - val_accuracy: 0.8129\n",
            "Epoch 126/200\n",
            "47/47 [==============================] - 8s 164ms/step - loss: 0.3522 - accuracy: 0.8780 - val_loss: 0.9414 - val_accuracy: 0.8258\n",
            "Epoch 127/200\n",
            "47/47 [==============================] - 8s 165ms/step - loss: 0.3474 - accuracy: 0.8780 - val_loss: 0.9438 - val_accuracy: 0.7935\n",
            "Epoch 128/200\n",
            "47/47 [==============================] - 8s 164ms/step - loss: 0.3466 - accuracy: 0.8773 - val_loss: 0.9301 - val_accuracy: 0.8000\n",
            "Epoch 129/200\n",
            "47/47 [==============================] - 8s 163ms/step - loss: 0.3424 - accuracy: 0.8816 - val_loss: 0.9440 - val_accuracy: 0.7871\n",
            "Epoch 130/200\n",
            "47/47 [==============================] - 8s 161ms/step - loss: 0.3430 - accuracy: 0.8766 - val_loss: 0.9255 - val_accuracy: 0.8129\n",
            "Epoch 131/200\n",
            "47/47 [==============================] - 8s 166ms/step - loss: 0.3399 - accuracy: 0.8773 - val_loss: 0.9363 - val_accuracy: 0.7806\n",
            "Epoch 132/200\n",
            "47/47 [==============================] - 8s 163ms/step - loss: 0.3354 - accuracy: 0.8809 - val_loss: 0.9471 - val_accuracy: 0.7935\n",
            "Epoch 133/200\n",
            "47/47 [==============================] - 8s 166ms/step - loss: 0.3352 - accuracy: 0.8766 - val_loss: 0.9465 - val_accuracy: 0.7871\n",
            "Epoch 134/200\n",
            "47/47 [==============================] - 7s 159ms/step - loss: 0.3326 - accuracy: 0.8816 - val_loss: 0.9374 - val_accuracy: 0.8258\n",
            "Epoch 135/200\n",
            "47/47 [==============================] - 8s 162ms/step - loss: 0.3343 - accuracy: 0.8766 - val_loss: 0.9272 - val_accuracy: 0.8129\n",
            "Epoch 136/200\n",
            "47/47 [==============================] - 8s 161ms/step - loss: 0.3307 - accuracy: 0.8759 - val_loss: 0.9277 - val_accuracy: 0.8258\n",
            "Epoch 137/200\n",
            "47/47 [==============================] - 7s 159ms/step - loss: 0.3299 - accuracy: 0.8745 - val_loss: 0.9548 - val_accuracy: 0.8258\n",
            "Epoch 138/200\n",
            "47/47 [==============================] - 8s 167ms/step - loss: 0.3249 - accuracy: 0.8788 - val_loss: 0.9427 - val_accuracy: 0.8065\n",
            "Epoch 139/200\n",
            "47/47 [==============================] - 8s 162ms/step - loss: 0.3213 - accuracy: 0.8795 - val_loss: 0.9566 - val_accuracy: 0.7871\n",
            "Epoch 140/200\n",
            "47/47 [==============================] - 8s 169ms/step - loss: 0.3204 - accuracy: 0.8795 - val_loss: 0.9517 - val_accuracy: 0.7871\n",
            "Epoch 141/200\n",
            "47/47 [==============================] - 8s 165ms/step - loss: 0.3190 - accuracy: 0.8773 - val_loss: 0.9509 - val_accuracy: 0.7871\n",
            "Epoch 142/200\n",
            "47/47 [==============================] - 8s 165ms/step - loss: 0.3181 - accuracy: 0.8816 - val_loss: 0.9400 - val_accuracy: 0.8000\n",
            "Epoch 143/200\n",
            "47/47 [==============================] - 8s 165ms/step - loss: 0.3171 - accuracy: 0.8780 - val_loss: 0.9657 - val_accuracy: 0.7935\n",
            "Epoch 144/200\n",
            "47/47 [==============================] - 8s 163ms/step - loss: 0.3161 - accuracy: 0.8838 - val_loss: 0.9656 - val_accuracy: 0.8258\n",
            "Epoch 145/200\n",
            "47/47 [==============================] - 8s 163ms/step - loss: 0.3134 - accuracy: 0.8795 - val_loss: 0.9551 - val_accuracy: 0.8065\n",
            "Epoch 146/200\n",
            "47/47 [==============================] - 8s 163ms/step - loss: 0.3124 - accuracy: 0.8780 - val_loss: 0.9452 - val_accuracy: 0.8065\n",
            "Epoch 147/200\n",
            "47/47 [==============================] - 8s 165ms/step - loss: 0.3101 - accuracy: 0.8816 - val_loss: 0.9575 - val_accuracy: 0.7871\n",
            "Epoch 148/200\n",
            "47/47 [==============================] - 8s 166ms/step - loss: 0.3074 - accuracy: 0.8766 - val_loss: 0.9606 - val_accuracy: 0.7806\n",
            "Epoch 149/200\n",
            "47/47 [==============================] - 8s 168ms/step - loss: 0.3060 - accuracy: 0.8867 - val_loss: 0.9534 - val_accuracy: 0.8065\n",
            "Epoch 150/200\n",
            "47/47 [==============================] - 8s 166ms/step - loss: 0.3052 - accuracy: 0.8824 - val_loss: 0.9712 - val_accuracy: 0.7742\n",
            "Epoch 151/200\n",
            "47/47 [==============================] - 8s 166ms/step - loss: 0.3048 - accuracy: 0.8809 - val_loss: 0.9670 - val_accuracy: 0.8129\n",
            "Epoch 152/200\n",
            "47/47 [==============================] - 8s 162ms/step - loss: 0.3027 - accuracy: 0.8816 - val_loss: 0.9639 - val_accuracy: 0.7742\n",
            "Epoch 153/200\n",
            "47/47 [==============================] - 8s 168ms/step - loss: 0.3044 - accuracy: 0.8802 - val_loss: 0.9659 - val_accuracy: 0.7871\n",
            "Epoch 154/200\n",
            "47/47 [==============================] - 8s 167ms/step - loss: 0.3034 - accuracy: 0.8809 - val_loss: 0.9603 - val_accuracy: 0.7806\n",
            "Epoch 155/200\n",
            "47/47 [==============================] - 8s 167ms/step - loss: 0.2978 - accuracy: 0.8795 - val_loss: 0.9637 - val_accuracy: 0.8000\n",
            "Epoch 156/200\n",
            "47/47 [==============================] - 8s 160ms/step - loss: 0.2995 - accuracy: 0.8816 - val_loss: 0.9612 - val_accuracy: 0.8065\n",
            "Epoch 157/200\n",
            "47/47 [==============================] - 8s 165ms/step - loss: 0.2963 - accuracy: 0.8816 - val_loss: 0.9706 - val_accuracy: 0.8065\n",
            "Epoch 158/200\n",
            "47/47 [==============================] - 8s 165ms/step - loss: 0.2943 - accuracy: 0.8824 - val_loss: 0.9911 - val_accuracy: 0.7677\n",
            "Epoch 159/200\n",
            "47/47 [==============================] - 8s 165ms/step - loss: 0.2950 - accuracy: 0.8795 - val_loss: 0.9665 - val_accuracy: 0.7806\n",
            "Epoch 160/200\n",
            "47/47 [==============================] - 8s 164ms/step - loss: 0.2926 - accuracy: 0.8809 - val_loss: 0.9712 - val_accuracy: 0.8000\n",
            "Epoch 161/200\n",
            "47/47 [==============================] - 8s 162ms/step - loss: 0.2917 - accuracy: 0.8809 - val_loss: 0.9739 - val_accuracy: 0.7871\n",
            "Epoch 162/200\n",
            "47/47 [==============================] - 8s 166ms/step - loss: 0.2908 - accuracy: 0.8809 - val_loss: 0.9901 - val_accuracy: 0.7806\n",
            "Epoch 163/200\n",
            "47/47 [==============================] - 8s 166ms/step - loss: 0.2894 - accuracy: 0.8824 - val_loss: 0.9739 - val_accuracy: 0.8000\n",
            "Epoch 164/200\n",
            "47/47 [==============================] - 8s 163ms/step - loss: 0.2893 - accuracy: 0.8788 - val_loss: 0.9888 - val_accuracy: 0.7742\n",
            "Epoch 165/200\n",
            "47/47 [==============================] - 8s 164ms/step - loss: 0.2863 - accuracy: 0.8824 - val_loss: 0.9914 - val_accuracy: 0.8129\n",
            "Epoch 166/200\n",
            "47/47 [==============================] - 8s 167ms/step - loss: 0.2863 - accuracy: 0.8824 - val_loss: 0.9977 - val_accuracy: 0.7742\n",
            "Epoch 167/200\n",
            "47/47 [==============================] - 8s 162ms/step - loss: 0.2848 - accuracy: 0.8831 - val_loss: 1.0055 - val_accuracy: 0.7935\n",
            "Epoch 168/200\n",
            "47/47 [==============================] - 7s 160ms/step - loss: 0.2833 - accuracy: 0.8824 - val_loss: 0.9969 - val_accuracy: 0.7806\n",
            "Epoch 169/200\n",
            "47/47 [==============================] - 8s 166ms/step - loss: 0.2816 - accuracy: 0.8824 - val_loss: 0.9961 - val_accuracy: 0.8129\n",
            "Epoch 170/200\n",
            "47/47 [==============================] - 8s 168ms/step - loss: 0.2808 - accuracy: 0.8838 - val_loss: 1.0083 - val_accuracy: 0.7806\n",
            "Epoch 171/200\n",
            "47/47 [==============================] - 8s 168ms/step - loss: 0.2823 - accuracy: 0.8780 - val_loss: 1.0003 - val_accuracy: 0.8000\n",
            "Epoch 172/200\n",
            "47/47 [==============================] - 8s 164ms/step - loss: 0.2791 - accuracy: 0.8816 - val_loss: 1.0066 - val_accuracy: 0.7871\n",
            "Epoch 173/200\n",
            "47/47 [==============================] - 8s 166ms/step - loss: 0.2796 - accuracy: 0.8824 - val_loss: 0.9823 - val_accuracy: 0.8129\n",
            "Epoch 174/200\n",
            "47/47 [==============================] - 8s 164ms/step - loss: 0.2789 - accuracy: 0.8845 - val_loss: 1.0130 - val_accuracy: 0.7806\n",
            "Epoch 175/200\n",
            "47/47 [==============================] - 8s 165ms/step - loss: 0.2809 - accuracy: 0.8788 - val_loss: 0.9315 - val_accuracy: 0.7935\n",
            "Epoch 176/200\n",
            "47/47 [==============================] - 8s 160ms/step - loss: 0.2907 - accuracy: 0.8795 - val_loss: 0.9698 - val_accuracy: 0.7742\n",
            "Epoch 177/200\n",
            "47/47 [==============================] - 8s 163ms/step - loss: 0.3012 - accuracy: 0.8737 - val_loss: 0.9097 - val_accuracy: 0.7806\n",
            "Epoch 178/200\n",
            "47/47 [==============================] - 8s 161ms/step - loss: 0.2971 - accuracy: 0.8802 - val_loss: 0.8697 - val_accuracy: 0.8258\n",
            "Epoch 179/200\n",
            "47/47 [==============================] - 8s 163ms/step - loss: 0.3010 - accuracy: 0.8788 - val_loss: 0.8634 - val_accuracy: 0.7935\n",
            "Epoch 180/200\n",
            "47/47 [==============================] - 8s 161ms/step - loss: 0.2875 - accuracy: 0.8852 - val_loss: 0.8978 - val_accuracy: 0.7935\n",
            "Epoch 181/200\n",
            "47/47 [==============================] - 7s 159ms/step - loss: 0.2836 - accuracy: 0.8773 - val_loss: 0.8833 - val_accuracy: 0.8194\n",
            "Epoch 182/200\n",
            "47/47 [==============================] - 8s 164ms/step - loss: 0.2785 - accuracy: 0.8852 - val_loss: 0.9049 - val_accuracy: 0.7935\n",
            "Epoch 183/200\n",
            "47/47 [==============================] - 8s 166ms/step - loss: 0.2774 - accuracy: 0.8838 - val_loss: 0.9037 - val_accuracy: 0.8129\n",
            "Epoch 184/200\n",
            "47/47 [==============================] - 8s 165ms/step - loss: 0.2747 - accuracy: 0.8824 - val_loss: 0.9219 - val_accuracy: 0.8258\n",
            "Epoch 185/200\n",
            "47/47 [==============================] - 8s 160ms/step - loss: 0.2741 - accuracy: 0.8824 - val_loss: 0.9328 - val_accuracy: 0.8258\n",
            "Epoch 186/200\n",
            "47/47 [==============================] - 7s 158ms/step - loss: 0.2714 - accuracy: 0.8824 - val_loss: 0.9326 - val_accuracy: 0.8000\n",
            "Epoch 187/200\n",
            "47/47 [==============================] - 8s 163ms/step - loss: 0.2708 - accuracy: 0.8824 - val_loss: 0.9050 - val_accuracy: 0.8129\n",
            "Epoch 188/200\n",
            "47/47 [==============================] - 8s 164ms/step - loss: 0.2722 - accuracy: 0.8824 - val_loss: 0.9389 - val_accuracy: 0.8258\n",
            "Epoch 189/200\n",
            "47/47 [==============================] - 8s 164ms/step - loss: 0.2675 - accuracy: 0.8809 - val_loss: 0.9327 - val_accuracy: 0.8000\n",
            "Epoch 190/200\n",
            "47/47 [==============================] - 8s 164ms/step - loss: 0.2704 - accuracy: 0.8824 - val_loss: 0.9339 - val_accuracy: 0.8065\n",
            "Epoch 191/200\n",
            "47/47 [==============================] - 8s 161ms/step - loss: 0.2708 - accuracy: 0.8867 - val_loss: 0.9506 - val_accuracy: 0.8000\n",
            "Epoch 192/200\n",
            "47/47 [==============================] - 8s 163ms/step - loss: 0.2695 - accuracy: 0.8824 - val_loss: 0.9390 - val_accuracy: 0.8323\n",
            "Epoch 193/200\n",
            "47/47 [==============================] - 8s 163ms/step - loss: 0.2678 - accuracy: 0.8824 - val_loss: 0.9569 - val_accuracy: 0.8065\n",
            "Epoch 194/200\n",
            "47/47 [==============================] - 8s 163ms/step - loss: 0.2653 - accuracy: 0.8852 - val_loss: 0.9609 - val_accuracy: 0.8258\n",
            "Epoch 195/200\n",
            "47/47 [==============================] - 8s 165ms/step - loss: 0.2663 - accuracy: 0.8824 - val_loss: 0.9665 - val_accuracy: 0.8000\n",
            "Epoch 196/200\n",
            "47/47 [==============================] - 8s 167ms/step - loss: 0.2643 - accuracy: 0.8809 - val_loss: 0.9506 - val_accuracy: 0.8065\n",
            "Epoch 197/200\n",
            "47/47 [==============================] - 8s 167ms/step - loss: 0.2636 - accuracy: 0.8859 - val_loss: 0.9605 - val_accuracy: 0.8258\n",
            "Epoch 198/200\n",
            "47/47 [==============================] - 8s 162ms/step - loss: 0.2650 - accuracy: 0.8859 - val_loss: 0.9583 - val_accuracy: 0.8258\n",
            "Epoch 199/200\n",
            "47/47 [==============================] - 8s 160ms/step - loss: 0.2626 - accuracy: 0.8852 - val_loss: 0.9748 - val_accuracy: 0.7935\n",
            "Epoch 200/200\n",
            "47/47 [==============================] - 8s 164ms/step - loss: 0.2628 - accuracy: 0.8881 - val_loss: 0.9691 - val_accuracy: 0.8065\n"
          ]
        }
      ],
      "source": [
        "from tensorflow.keras.models import Sequential\n",
        "from tensorflow.keras.layers import Embedding, Dense, GRU\n",
        "from keras.callbacks import EarlyStopping\n",
        "\n",
        "# early_stopping = EarlyStopping() \n",
        "# 조기종료 : epoch를 길게 돌리지 않고, 이전 epoch보다 accuracy가 낮을 경우 종료\n",
        "\n",
        "model = Sequential()\n",
        "model.add(Embedding(5000, 300, input_length=max_len-1, mask_zero=True)) \n",
        "# 레이블을 분리하였으므로 이제 X의 길이는 max_len-1\n",
        "model.add(GRU(128))\n",
        "model.add(Dense(5000, activation='softmax'))\n",
        "model.compile(loss='sparse_categorical_crossentropy', optimizer='adam', metrics=['accuracy'])\n",
        "# sparse_categorical_crossentropy\n",
        "# categorical_crossentropy와 다른점은 정답 integer값을 원-핫벡터로 만들어주지 않아도 된다는점\n",
        "\n",
        "model.summary()\n",
        "\n",
        "# hist = model.fit(X, y,validation_split=0.1,shuffle=True, epochs=100, batch_size=30, verbose=1, callbacks=[early_stopping])\n",
        "hist = model.fit(X, y,validation_split=0.1, shuffle=True, epochs=200, batch_size=30, verbose=1)"
      ]
    },
    {
      "cell_type": "code",
      "execution_count": 18,
      "metadata": {
        "colab": {
          "base_uri": "https://localhost:8080/",
          "height": 387
        },
        "id": "WTcXpJLJf6dN",
        "outputId": "89ebac41-1a69-4581-d3ae-3b76d1814af0"
      },
      "outputs": [
        {
          "data": {
            "image/svg+xml": "<svg height=\"274pt\" viewBox=\"0.00 0.00 354.00 304.00\" width=\"320pt\" xmlns=\"http://www.w3.org/2000/svg\" xmlns:xlink=\"http://www.w3.org/1999/xlink\">\n<g class=\"graph\" id=\"graph0\" transform=\"scale(.9028 .9028) rotate(0) translate(4 300)\">\n<title>G</title>\n<polygon fill=\"#ffffff\" points=\"-4,4 -4,-300 350,-300 350,4 -4,4\" stroke=\"transparent\"/>\n<!-- 139830386076176 -->\n<g class=\"node\" id=\"node1\">\n<title>139830386076176</title>\n<polygon fill=\"none\" points=\"0,-249.5 0,-295.5 346,-295.5 346,-249.5 0,-249.5\" stroke=\"#000000\"/>\n<text fill=\"#000000\" font-family=\"Times,serif\" font-size=\"14.00\" text-anchor=\"middle\" x=\"59.5\" y=\"-268.8\">embedding_input</text>\n<polyline fill=\"none\" points=\"119,-249.5 119,-295.5 \" stroke=\"#000000\"/>\n<text fill=\"#000000\" font-family=\"Times,serif\" font-size=\"14.00\" text-anchor=\"middle\" x=\"159\" y=\"-268.8\">InputLayer</text>\n<polyline fill=\"none\" points=\"199,-249.5 199,-295.5 \" stroke=\"#000000\"/>\n<text fill=\"#000000\" font-family=\"Times,serif\" font-size=\"14.00\" text-anchor=\"middle\" x=\"228\" y=\"-280.3\">input:</text>\n<polyline fill=\"none\" points=\"199,-272.5 257,-272.5 \" stroke=\"#000000\"/>\n<text fill=\"#000000\" font-family=\"Times,serif\" font-size=\"14.00\" text-anchor=\"middle\" x=\"228\" y=\"-257.3\">output:</text>\n<polyline fill=\"none\" points=\"257,-249.5 257,-295.5 \" stroke=\"#000000\"/>\n<text fill=\"#000000\" font-family=\"Times,serif\" font-size=\"14.00\" text-anchor=\"middle\" x=\"301.5\" y=\"-280.3\">[(None, 32)]</text>\n<polyline fill=\"none\" points=\"257,-272.5 346,-272.5 \" stroke=\"#000000\"/>\n<text fill=\"#000000\" font-family=\"Times,serif\" font-size=\"14.00\" text-anchor=\"middle\" x=\"301.5\" y=\"-257.3\">[(None, 32)]</text>\n</g>\n<!-- 139830386458384 -->\n<g class=\"node\" id=\"node2\">\n<title>139830386458384</title>\n<polygon fill=\"none\" points=\"6.5,-166.5 6.5,-212.5 339.5,-212.5 339.5,-166.5 6.5,-166.5\" stroke=\"#000000\"/>\n<text fill=\"#000000\" font-family=\"Times,serif\" font-size=\"14.00\" text-anchor=\"middle\" x=\"47\" y=\"-185.8\">embedding</text>\n<polyline fill=\"none\" points=\"87.5,-166.5 87.5,-212.5 \" stroke=\"#000000\"/>\n<text fill=\"#000000\" font-family=\"Times,serif\" font-size=\"14.00\" text-anchor=\"middle\" x=\"129.5\" y=\"-185.8\">Embedding</text>\n<polyline fill=\"none\" points=\"171.5,-166.5 171.5,-212.5 \" stroke=\"#000000\"/>\n<text fill=\"#000000\" font-family=\"Times,serif\" font-size=\"14.00\" text-anchor=\"middle\" x=\"200.5\" y=\"-197.3\">input:</text>\n<polyline fill=\"none\" points=\"171.5,-189.5 229.5,-189.5 \" stroke=\"#000000\"/>\n<text fill=\"#000000\" font-family=\"Times,serif\" font-size=\"14.00\" text-anchor=\"middle\" x=\"200.5\" y=\"-174.3\">output:</text>\n<polyline fill=\"none\" points=\"229.5,-166.5 229.5,-212.5 \" stroke=\"#000000\"/>\n<text fill=\"#000000\" font-family=\"Times,serif\" font-size=\"14.00\" text-anchor=\"middle\" x=\"284.5\" y=\"-197.3\">(None, 32)</text>\n<polyline fill=\"none\" points=\"229.5,-189.5 339.5,-189.5 \" stroke=\"#000000\"/>\n<text fill=\"#000000\" font-family=\"Times,serif\" font-size=\"14.00\" text-anchor=\"middle\" x=\"284.5\" y=\"-174.3\">(None, 32, 300)</text>\n</g>\n<!-- 139830386076176&#45;&gt;139830386458384 -->\n<g class=\"edge\" id=\"edge1\">\n<title>139830386076176-&gt;139830386458384</title>\n<path d=\"M173,-249.3799C173,-241.1745 173,-231.7679 173,-222.8786\" fill=\"none\" stroke=\"#000000\"/>\n<polygon fill=\"#000000\" points=\"176.5001,-222.784 173,-212.784 169.5001,-222.784 176.5001,-222.784\" stroke=\"#000000\"/>\n</g>\n<!-- 139830386429392 -->\n<g class=\"node\" id=\"node3\">\n<title>139830386429392</title>\n<polygon fill=\"none\" points=\"47.5,-83.5 47.5,-129.5 298.5,-129.5 298.5,-83.5 47.5,-83.5\" stroke=\"#000000\"/>\n<text fill=\"#000000\" font-family=\"Times,serif\" font-size=\"14.00\" text-anchor=\"middle\" x=\"65.5\" y=\"-102.8\">gru</text>\n<polyline fill=\"none\" points=\"83.5,-83.5 83.5,-129.5 \" stroke=\"#000000\"/>\n<text fill=\"#000000\" font-family=\"Times,serif\" font-size=\"14.00\" text-anchor=\"middle\" x=\"107\" y=\"-102.8\">GRU</text>\n<polyline fill=\"none\" points=\"130.5,-83.5 130.5,-129.5 \" stroke=\"#000000\"/>\n<text fill=\"#000000\" font-family=\"Times,serif\" font-size=\"14.00\" text-anchor=\"middle\" x=\"159.5\" y=\"-114.3\">input:</text>\n<polyline fill=\"none\" points=\"130.5,-106.5 188.5,-106.5 \" stroke=\"#000000\"/>\n<text fill=\"#000000\" font-family=\"Times,serif\" font-size=\"14.00\" text-anchor=\"middle\" x=\"159.5\" y=\"-91.3\">output:</text>\n<polyline fill=\"none\" points=\"188.5,-83.5 188.5,-129.5 \" stroke=\"#000000\"/>\n<text fill=\"#000000\" font-family=\"Times,serif\" font-size=\"14.00\" text-anchor=\"middle\" x=\"243.5\" y=\"-114.3\">(None, 32, 300)</text>\n<polyline fill=\"none\" points=\"188.5,-106.5 298.5,-106.5 \" stroke=\"#000000\"/>\n<text fill=\"#000000\" font-family=\"Times,serif\" font-size=\"14.00\" text-anchor=\"middle\" x=\"243.5\" y=\"-91.3\">(None, 128)</text>\n</g>\n<!-- 139830386458384&#45;&gt;139830386429392 -->\n<g class=\"edge\" id=\"edge2\">\n<title>139830386458384-&gt;139830386429392</title>\n<path d=\"M173,-166.3799C173,-158.1745 173,-148.7679 173,-139.8786\" fill=\"none\" stroke=\"#000000\"/>\n<polygon fill=\"#000000\" points=\"176.5001,-139.784 173,-129.784 169.5001,-139.784 176.5001,-139.784\" stroke=\"#000000\"/>\n</g>\n<!-- 139830386457168 -->\n<g class=\"node\" id=\"node4\">\n<title>139830386457168</title>\n<polygon fill=\"none\" points=\"46,-.5 46,-46.5 300,-46.5 300,-.5 46,-.5\" stroke=\"#000000\"/>\n<text fill=\"#000000\" font-family=\"Times,serif\" font-size=\"14.00\" text-anchor=\"middle\" x=\"70.5\" y=\"-19.8\">dense</text>\n<polyline fill=\"none\" points=\"95,-.5 95,-46.5 \" stroke=\"#000000\"/>\n<text fill=\"#000000\" font-family=\"Times,serif\" font-size=\"14.00\" text-anchor=\"middle\" x=\"121\" y=\"-19.8\">Dense</text>\n<polyline fill=\"none\" points=\"147,-.5 147,-46.5 \" stroke=\"#000000\"/>\n<text fill=\"#000000\" font-family=\"Times,serif\" font-size=\"14.00\" text-anchor=\"middle\" x=\"176\" y=\"-31.3\">input:</text>\n<polyline fill=\"none\" points=\"147,-23.5 205,-23.5 \" stroke=\"#000000\"/>\n<text fill=\"#000000\" font-family=\"Times,serif\" font-size=\"14.00\" text-anchor=\"middle\" x=\"176\" y=\"-8.3\">output:</text>\n<polyline fill=\"none\" points=\"205,-.5 205,-46.5 \" stroke=\"#000000\"/>\n<text fill=\"#000000\" font-family=\"Times,serif\" font-size=\"14.00\" text-anchor=\"middle\" x=\"252.5\" y=\"-31.3\">(None, 128)</text>\n<polyline fill=\"none\" points=\"205,-23.5 300,-23.5 \" stroke=\"#000000\"/>\n<text fill=\"#000000\" font-family=\"Times,serif\" font-size=\"14.00\" text-anchor=\"middle\" x=\"252.5\" y=\"-8.3\">(None, 5000)</text>\n</g>\n<!-- 139830386429392&#45;&gt;139830386457168 -->\n<g class=\"edge\" id=\"edge3\">\n<title>139830386429392-&gt;139830386457168</title>\n<path d=\"M173,-83.3799C173,-75.1745 173,-65.7679 173,-56.8786\" fill=\"none\" stroke=\"#000000\"/>\n<polygon fill=\"#000000\" points=\"176.5001,-56.784 173,-46.784 169.5001,-56.784 176.5001,-56.784\" stroke=\"#000000\"/>\n</g>\n</g>\n</svg>",
            "text/plain": [
              "<IPython.core.display.SVG object>"
            ]
          },
          "execution_count": 18,
          "metadata": {},
          "output_type": "execute_result"
        }
      ],
      "source": [
        "from IPython.display import SVG\n",
        "from keras.utils.vis_utils import model_to_dot\n",
        "\n",
        "%matplotlib inline\n",
        "\n",
        "SVG(model_to_dot(model, show_shapes=True, dpi=65).create(prog='dot', format='svg'))"
      ]
    },
    {
      "cell_type": "code",
      "execution_count": 19,
      "metadata": {
        "colab": {
          "base_uri": "https://localhost:8080/",
          "height": 279
        },
        "id": "AXy02lZLDJB3",
        "outputId": "db73c5ec-f7f6-4d26-c019-a5428e1a46b3"
      },
      "outputs": [
        {
          "data": {
            "image/png": "[encoded data removed]",
            "text/plain": [
              "<Figure size 432x288 with 2 Axes>"
            ]
          },
          "metadata": {
            "needs_background": "light"
          },
          "output_type": "display_data"
        }
      ],
      "source": [
        "%matplotlib inline\n",
        "import matplotlib.pyplot as plt\n",
        "\n",
        "fig, loss_ax = plt.subplots()\n",
        "\n",
        "acc_ax = loss_ax.twinx()\n",
        "\n",
        "loss_ax.plot(hist.history['loss'], 'y', label='train loss')\n",
        "loss_ax.plot(hist.history['val_loss'], 'r', label='val loss')\n",
        "\n",
        "acc_ax.plot(hist.history['accuracy'], 'b', label='train acc')\n",
        "acc_ax.plot(hist.history['val_accuracy'], 'g', label='val acc')\n",
        "\n",
        "loss_ax.set_xlabel('epoch')\n",
        "loss_ax.set_ylabel('loss')\n",
        "acc_ax.set_ylabel('accuray')\n",
        "\n",
        "loss_ax.legend(loc='upper left')\n",
        "acc_ax.legend(loc='lower left')\n",
        "\n",
        "plt.show()\n"
      ]
    },
    {
      "cell_type": "code",
      "execution_count": 20,
      "metadata": {
        "colab": {
          "base_uri": "https://localhost:8080/"
        },
        "id": "NVEUJNcgF5v8",
        "outputId": "cd39a23c-fd2f-4116-fcb1-bfd179431f53"
      },
      "outputs": [
        {
          "name": "stdout",
          "output_type": "stream",
          "text": [
            "13/13 [==============================] - 0s 25ms/step - loss: 0.9439 - accuracy: 0.7938\n",
            "\n",
            "loss : 0.9439195394515991\n",
            "accuray : 0.7938144207000732\n"
          ]
        }
      ],
      "source": [
        "loss_and_metrics = model.evaluate(X_test, y_test, batch_size=32)\n",
        "\n",
        "print('')\n",
        "print('loss : ' + str(loss_and_metrics[0]))\n",
        "print('accuray : ' + str(loss_and_metrics[1]))"
      ]
    },
    {
      "cell_type": "code",
      "execution_count": 23,
      "metadata": {
        "colab": {
          "base_uri": "https://localhost:8080/",
          "height": 35
        },
        "id": "AblqWiyVGLsQ",
        "outputId": "7323c40a-43bb-4d00-d21b-8ceee16b2221"
      },
      "outputs": [
        {
          "data": {
            "application/vnd.google.colaboratory.intrinsic+json": {
              "type": "string"
            },
            "text/plain": [
              "'사람이 다가오고 있습니다'"
            ]
          },
          "execution_count": 23,
          "metadata": {},
          "output_type": "execute_result"
        }
      ],
      "source": [
        "current_word = '사람'\n",
        "init_word = current_word # 처음 들어온 단어도 마지막에 같이 출력하기위해 저장\n",
        "sentence = ''\n",
        "n = 35\n",
        "for _ in range(n): # n번 반복\n",
        "    encoded = [char2idx[token] for token in current_word]#t.texts_to_sequences([current_word])[0] \n",
        "    # 현재 단어에 대한 정수 인코딩\n",
        "    \n",
        "    encoded = pad_sequences([encoded], maxlen=max_len-1, padding='pre') \n",
        "    # 데이터에 대한 패딩\n",
        "    \n",
        "    result = np.argmax(model.predict(encoded), axis=-1) \n",
        "\t\n",
        "    # 입력한 X(현재 단어)에 대해서 Y를 예측하고 Y(예측한 단어)를 result에 저장.\n",
        "    for word, index in char2idx.items(): \n",
        "        if index == result: # 만약 예측한 단어와 인덱스와 동일한 단어가 있다면\n",
        "            break # 해당 단어가 예측 단어이므로 break\n",
        "    current_word = current_word + word # 현재 단어 + ' ' + 예측 단어를 현재 단어로 변경\n",
        "    sentence = sentence + word # 예측 단어를 문장에 저장\n",
        "    if word == '<EOS>':\n",
        "        break\n",
        "# for문이므로 이 행동을 다시 반복\n",
        "sentence = init_word + sentence\n",
        "sentence.replace('<EOS>',\"\")"
      ]
    },
    {
      "cell_type": "code",
      "execution_count": 24,
      "metadata": {
        "id": "GFDb6XF1GeHN"
      },
      "outputs": [],
      "source": [
        "from keras.models import load_model\n",
        "model.save('senten_generating_model.h5')"
      ]
    },
    {
      "cell_type": "markdown",
      "metadata": {
        "id": "zyjEWuWo8hhP"
      },
      "source": [
        "모델 불러와 사용해보기"
      ]
    },
    {
      "cell_type": "code",
      "execution_count": 3,
      "metadata": {
        "id": "_8eh5fcdoAav"
      },
      "outputs": [],
      "source": [
        "from keras.utils import np_utils\n",
        "from keras.datasets import mnist\n",
        "from keras.models import Sequential\n",
        "from keras.layers import Dense, Activation\n",
        "import numpy as np\n",
        "from numpy import argmax\n",
        "\n",
        "from keras.models import load_model\n",
        "model = load_model('/content/senten_generating_model.h5')"
      ]
    },
    {
      "cell_type": "code",
      "execution_count": 16,
      "metadata": {
        "colab": {
          "base_uri": "https://localhost:8080/",
          "height": 35
        },
        "id": "Yuz0YBB58s2g",
        "outputId": "85a9bfe0-afa0-449e-bdfe-ac029ff8253c"
      },
      "outputs": [
        {
          "data": {
            "application/vnd.google.colaboratory.intrinsic+json": {
              "type": "string"
            },
            "text/plain": [
              "'사람동으킥 워폴,어,어,거토자,앞둘,걸탄되놓치놓치져되놓치놓치져되놓치'"
            ]
          },
          "execution_count": 16,
          "metadata": {},
          "output_type": "execute_result"
        }
      ],
      "source": [
        "current_word = '사람'\n",
        "init_word = current_word # 처음 들어온 단어도 마지막에 같이 출력하기위해 저장\n",
        "sentence = ''\n",
        "n = 35\n",
        "for _ in range(n): # n번 반복\n",
        "    encoded = [char2idx[token] for token in current_word]#t.texts_to_sequences([current_word])[0] \n",
        "    # 현재 단어에 대한 정수 인코딩\n",
        "    \n",
        "    encoded = pad_sequences([encoded], maxlen=max_len-1, padding='pre') \n",
        "    # 데이터에 대한 패딩\n",
        "    \n",
        "    result = np.argmax(model.predict(encoded), axis=-1) \n",
        "\t\n",
        "    # 입력한 X(현재 단어)에 대해서 Y를 예측하고 Y(예측한 단어)를 result에 저장.\n",
        "    for word, index in char2idx.items(): \n",
        "        if index == result: # 만약 예측한 단어와 인덱스와 동일한 단어가 있다면\n",
        "            break # 해당 단어가 예측 단어이므로 break\n",
        "    current_word = current_word + word # 현재 단어 + ' ' + 예측 단어를 현재 단어로 변경\n",
        "    sentence = sentence + word # 예측 단어를 문장에 저장\n",
        "    if word == '<EOS>':\n",
        "        break;\n",
        "# for문이므로 이 행동을 다시 반복\n",
        "sentence = init_word + sentence\n",
        "sentence.replace('<EOS>',\"\")"
      ]
    },
    {
      "cell_type": "code",
      "execution_count": 17,
      "metadata": {
        "colab": {
          "base_uri": "https://localhost:8080/",
          "height": 35
        },
        "id": "Jv6euZpP-Qbo",
        "outputId": "dab78045-0515-479d-cc23-a47ae18b170d"
      },
      "outputs": [
        {
          "data": {
            "application/vnd.google.colaboratory.intrinsic+json": {
              "type": "string"
            },
            "text/plain": [
              "'사람이동으킥킥킥  워킥킥 워킥있동다가,거토자,걸탄되놓치놓치갑고개자,걸'"
            ]
          },
          "execution_count": 17,
          "metadata": {},
          "output_type": "execute_result"
        }
      ],
      "source": [
        "current_word = '사람이'\n",
        "init_word = current_word # 처음 들어온 단어도 마지막에 같이 출력하기위해 저장\n",
        "sentence = ''\n",
        "n = 35\n",
        "for _ in range(n): # n번 반복\n",
        "    encoded = [char2idx[token] for token in current_word]#t.texts_to_sequences([current_word])[0] \n",
        "    # 현재 단어에 대한 정수 인코딩\n",
        "    \n",
        "    encoded = pad_sequences([encoded], maxlen=max_len-1, padding='pre') \n",
        "    # 데이터에 대한 패딩\n",
        "    \n",
        "    result = np.argmax(model.predict(encoded), axis=-1) \n",
        "\t\n",
        "    # 입력한 X(현재 단어)에 대해서 Y를 예측하고 Y(예측한 단어)를 result에 저장.\n",
        "    for word, index in char2idx.items(): \n",
        "        if index == result: # 만약 예측한 단어와 인덱스와 동일한 단어가 있다면\n",
        "            break # 해당 단어가 예측 단어이므로 break\n",
        "    current_word = current_word + word # 현재 단어 + ' ' + 예측 단어를 현재 단어로 변경\n",
        "    sentence = sentence + word # 예측 단어를 문장에 저장\n",
        "    if word == '<EOS>':\n",
        "        break;\n",
        "# for문이므로 이 행동을 다시 반복\n",
        "sentence = init_word + sentence\n",
        "sentence.replace('<EOS>',\"\")"
      ]
    },
    {
      "cell_type": "code",
      "execution_count": null,
      "metadata": {
        "id": "iGbJVMe1-9l-"
      },
      "outputs": [],
      "source": []
    }
  ],
  "metadata": {
    "accelerator": "GPU",
    "colab": {
      "name": "sentenceGenerate.ipynb",
      "provenance": []
    },
    "kernelspec": {
      "display_name": "Python 3",
      "name": "python3"
    },
    "language_info": {
      "name": "python"
    }
  },
  "nbformat": 4,
  "nbformat_minor": 0
}
