{
  "cells": [
    {
      "cell_type": "code",
      "execution_count": 2,
      "metadata": {
        "colab": {
          "base_uri": "https://localhost:8080/",
          "height": 206
        },
        "id": "tfo_QNB47GAI",
        "outputId": "4ff2da7e-3d1d-49e6-e15e-cf1272d92a4e"
      },
      "outputs": [
        {
          "data": {
            "text/html": [
              "\n",
              "  <div id=\"df-a12d4a35-0a07-4959-b712-3e6e2c20bdee\">\n",
              "    <div class=\"colab-df-container\">\n",
              "      <div>\n",
              "<style scoped>\n",
              "    .dataframe tbody tr th:only-of-type {\n",
              "        vertical-align: middle;\n",
              "    }\n",
              "\n",
              "    .dataframe tbody tr th {\n",
              "        vertical-align: top;\n",
              "    }\n",
              "\n",
              "    .dataframe thead th {\n",
              "        text-align: right;\n",
              "    }\n",
              "</style>\n",
              "<table border=\"1\" class=\"dataframe\">\n",
              "  <thead>\n",
              "    <tr style=\"text-align: right;\">\n",
              "      <th></th>\n",
              "      <th>sentence</th>\n",
              "    </tr>\n",
              "  </thead>\n",
              "  <tbody>\n",
              "    <tr>\n",
              "      <th>0</th>\n",
              "      <td>사람이 다가오고 있습니다</td>\n",
              "    </tr>\n",
              "    <tr>\n",
              "      <th>1</th>\n",
              "      <td>사람이 있습니다</td>\n",
              "    </tr>\n",
              "    <tr>\n",
              "      <th>2</th>\n",
              "      <td>사람이 앞에 있습니다</td>\n",
              "    </tr>\n",
              "    <tr>\n",
              "      <th>3</th>\n",
              "      <td>사람과 자전거가 다가오고 있습니다</td>\n",
              "    </tr>\n",
              "    <tr>\n",
              "      <th>4</th>\n",
              "      <td>자전거와 사람이 다가오고 있습니다</td>\n",
              "    </tr>\n",
              "  </tbody>\n",
              "</table>\n",
              "</div>\n",
              "      <button class=\"colab-df-convert\" onclick=\"convertToInteractive('df-a12d4a35-0a07-4959-b712-3e6e2c20bdee')\"\n",
              "              title=\"Convert this dataframe to an interactive table.\"\n",
              "              style=\"display:none;\">\n",
              "        \n",
              "  <svg xmlns=\"http://www.w3.org/2000/svg\" height=\"24px\"viewBox=\"0 0 24 24\"\n",
              "       width=\"24px\">\n",
              "    <path d=\"M0 0h24v24H0V0z\" fill=\"none\"/>\n",
              "    <path d=\"M18.56 5.44l.94 2.06.94-2.06 2.06-.94-2.06-.94-.94-2.06-.94 2.06-2.06.94zm-11 1L8.5 8.5l.94-2.06 2.06-.94-2.06-.94L8.5 2.5l-.94 2.06-2.06.94zm10 10l.94 2.06.94-2.06 2.06-.94-2.06-.94-.94-2.06-.94 2.06-2.06.94z\"/><path d=\"M17.41 7.96l-1.37-1.37c-.4-.4-.92-.59-1.43-.59-.52 0-1.04.2-1.43.59L10.3 9.45l-7.72 7.72c-.78.78-.78 2.05 0 2.83L4 21.41c.39.39.9.59 1.41.59.51 0 1.02-.2 1.41-.59l7.78-7.78 2.81-2.81c.8-.78.8-2.07 0-2.86zM5.41 20L4 18.59l7.72-7.72 1.47 1.35L5.41 20z\"/>\n",
              "  </svg>\n",
              "      </button>\n",
              "      \n",
              "  <style>\n",
              "    .colab-df-container {\n",
              "      display:flex;\n",
              "      flex-wrap:wrap;\n",
              "      gap: 12px;\n",
              "    }\n",
              "\n",
              "    .colab-df-convert {\n",
              "      background-color: #E8F0FE;\n",
              "      border: none;\n",
              "      border-radius: 50%;\n",
              "      cursor: pointer;\n",
              "      display: none;\n",
              "      fill: #1967D2;\n",
              "      height: 32px;\n",
              "      padding: 0 0 0 0;\n",
              "      width: 32px;\n",
              "    }\n",
              "\n",
              "    .colab-df-convert:hover {\n",
              "      background-color: #E2EBFA;\n",
              "      box-shadow: 0px 1px 2px rgba(60, 64, 67, 0.3), 0px 1px 3px 1px rgba(60, 64, 67, 0.15);\n",
              "      fill: #174EA6;\n",
              "    }\n",
              "\n",
              "    [theme=dark] .colab-df-convert {\n",
              "      background-color: #3B4455;\n",
              "      fill: #D2E3FC;\n",
              "    }\n",
              "\n",
              "    [theme=dark] .colab-df-convert:hover {\n",
              "      background-color: #434B5C;\n",
              "      box-shadow: 0px 1px 3px 1px rgba(0, 0, 0, 0.15);\n",
              "      filter: drop-shadow(0px 1px 2px rgba(0, 0, 0, 0.3));\n",
              "      fill: #FFFFFF;\n",
              "    }\n",
              "  </style>\n",
              "\n",
              "      <script>\n",
              "        const buttonEl =\n",
              "          document.querySelector('#df-a12d4a35-0a07-4959-b712-3e6e2c20bdee button.colab-df-convert');\n",
              "        buttonEl.style.display =\n",
              "          google.colab.kernel.accessAllowed ? 'block' : 'none';\n",
              "\n",
              "        async function convertToInteractive(key) {\n",
              "          const element = document.querySelector('#df-a12d4a35-0a07-4959-b712-3e6e2c20bdee');\n",
              "          const dataTable =\n",
              "            await google.colab.kernel.invokeFunction('convertToInteractive',\n",
              "                                                     [key], {});\n",
              "          if (!dataTable) return;\n",
              "\n",
              "          const docLinkHtml = 'Like what you see? Visit the ' +\n",
              "            '<a target=\"_blank\" href=https://colab.research.google.com/notebooks/data_table.ipynb>data table notebook</a>'\n",
              "            + ' to learn more about interactive tables.';\n",
              "          element.innerHTML = '';\n",
              "          dataTable['output_type'] = 'display_data';\n",
              "          await google.colab.output.renderOutput(dataTable, element);\n",
              "          const docLink = document.createElement('div');\n",
              "          docLink.innerHTML = docLinkHtml;\n",
              "          element.appendChild(docLink);\n",
              "        }\n",
              "      </script>\n",
              "    </div>\n",
              "  </div>\n",
              "  "
            ],
            "text/plain": [
              "             sentence\n",
              "0       사람이 다가오고 있습니다\n",
              "1            사람이 있습니다\n",
              "2         사람이 앞에 있습니다\n",
              "3  사람과 자전거가 다가오고 있습니다\n",
              "4  자전거와 사람이 다가오고 있습니다"
            ]
          },
          "execution_count": 2,
          "metadata": {},
          "output_type": "execute_result"
        }
      ],
      "source": [
        "import pandas as pd\n",
        "\n",
        "train = pd.read_csv('/Users/hongseongmi/Documents/git_ws/Yooninahong/description/data/captionTrain - captionTrain.csv')\n",
        "train.head()"
      ]
    },
    {
      "cell_type": "code",
      "execution_count": 3,
      "metadata": {
        "colab": {
          "base_uri": "https://localhost:8080/"
        },
        "id": "vsTpHzxQN3Tp",
        "outputId": "84bef8c8-c943-4c16-93d2-017272712aac"
      },
      "outputs": [
        {
          "name": "stdout",
          "output_type": "stream",
          "text": [
            "<class 'pandas.core.frame.DataFrame'>\n",
            "RangeIndex: 111 entries, 0 to 110\n",
            "Data columns (total 1 columns):\n",
            " #   Column    Non-Null Count  Dtype \n",
            "---  ------    --------------  ----- \n",
            " 0   sentence  111 non-null    object\n",
            "dtypes: object(1)\n",
            "memory usage: 1016.0+ bytes\n"
          ]
        }
      ],
      "source": [
        "train.info()"
      ]
    },
    {
      "cell_type": "markdown",
      "metadata": {
        "id": "S658gnsL7krK"
      },
      "source": [
        "음절 단위"
      ]
    },
    {
      "cell_type": "code",
      "execution_count": 4,
      "metadata": {
        "colab": {
          "base_uri": "https://localhost:8080/"
        },
        "id": "hhxpju1P7gvV",
        "outputId": "560bb5e5-83e8-415b-ed36-72b1b9fbfeaa"
      },
      "outputs": [
        {
          "name": "stdout",
          "output_type": "stream",
          "text": [
            "고유 문자수 56개\n"
          ]
        }
      ],
      "source": [
        "vocab = set()\n",
        "for i, row in train.iterrows(): # dataframe의 row별로 반복\n",
        "    sentence = row['sentence']\n",
        "    for token in sentence: #음절 단위 token 반복\n",
        "        if token not in vocab:\n",
        "            vocab.add(token) # token set에 없다면 추가\n",
        "        else:\n",
        "            continue\n",
        "vocab.add('<EOS>') # 문장 마지막을  <EOS>로 끝낼거라 <End of Sequence> token 추가\n",
        "print ('고유 문자수 {}개'.format(len(vocab)))"
      ]
    },
    {
      "cell_type": "code",
      "execution_count": 5,
      "metadata": {
        "colab": {
          "base_uri": "https://localhost:8080/"
        },
        "id": "mjpJbJqkDmsb",
        "outputId": "e3ffdd12-2809-49b1-86ba-76aeecbe122e"
      },
      "outputs": [
        {
          "data": {
            "text/plain": [
              "{' ',\n",
              " ',',\n",
              " '<EOS>',\n",
              " '가',\n",
              " '갑',\n",
              " '거',\n",
              " '걸',\n",
              " '고',\n",
              " '과',\n",
              " '놓',\n",
              " '늘',\n",
              " '니',\n",
              " '다',\n",
              " '대',\n",
              " '동',\n",
              " '되',\n",
              " '두',\n",
              " '둘',\n",
              " '드',\n",
              " '들',\n",
              " '라',\n",
              " '람',\n",
              " '러',\n",
              " '럿',\n",
              " '른',\n",
              " '를',\n",
              " '몇',\n",
              " '바',\n",
              " '보',\n",
              " '볼',\n",
              " '사',\n",
              " '서',\n",
              " '설',\n",
              " '세',\n",
              " '습',\n",
              " '앞',\n",
              " '어',\n",
              " '에',\n",
              " '여',\n",
              " '옆',\n",
              " '오',\n",
              " '옵',\n",
              " '와',\n",
              " '워',\n",
              " '이',\n",
              " '있',\n",
              " '자',\n",
              " '전',\n",
              " '져',\n",
              " '쪽',\n",
              " '차',\n",
              " '치',\n",
              " '킥',\n",
              " '타',\n",
              " '탄',\n",
              " '토'}"
            ]
          },
          "execution_count": 5,
          "metadata": {},
          "output_type": "execute_result"
        }
      ],
      "source": [
        "vocab"
      ]
    },
    {
      "cell_type": "code",
      "execution_count": 6,
      "metadata": {
        "colab": {
          "base_uri": "https://localhost:8080/"
        },
        "id": "TZbgSvQBCMv7",
        "outputId": "f5c0314a-d0df-48c4-c605-35792624711f"
      },
      "outputs": [
        {
          "data": {
            "text/plain": [
              "{' ': 6,\n",
              " ',': 16,\n",
              " '<EOS>': 53,\n",
              " '가': 15,\n",
              " '갑': 11,\n",
              " '거': 2,\n",
              " '걸': 48,\n",
              " '고': 49,\n",
              " '과': 31,\n",
              " '놓': 51,\n",
              " '늘': 37,\n",
              " '니': 41,\n",
              " '다': 22,\n",
              " '대': 20,\n",
              " '동': 3,\n",
              " '되': 18,\n",
              " '두': 47,\n",
              " '둘': 29,\n",
              " '드': 55,\n",
              " '들': 32,\n",
              " '라': 43,\n",
              " '람': 34,\n",
              " '러': 14,\n",
              " '럿': 7,\n",
              " '른': 5,\n",
              " '를': 4,\n",
              " '몇': 52,\n",
              " '바': 12,\n",
              " '보': 13,\n",
              " '볼': 33,\n",
              " '사': 40,\n",
              " '서': 28,\n",
              " '설': 23,\n",
              " '세': 25,\n",
              " '습': 27,\n",
              " '앞': 9,\n",
              " '어': 36,\n",
              " '에': 45,\n",
              " '여': 38,\n",
              " '옆': 21,\n",
              " '오': 10,\n",
              " '옵': 17,\n",
              " '와': 56,\n",
              " '워': 46,\n",
              " '이': 44,\n",
              " '있': 50,\n",
              " '자': 1,\n",
              " '전': 30,\n",
              " '져': 24,\n",
              " '쪽': 39,\n",
              " '차': 42,\n",
              " '치': 8,\n",
              " '킥': 19,\n",
              " '타': 54,\n",
              " '탄': 26,\n",
              " '토': 35}"
            ]
          },
          "execution_count": 6,
          "metadata": {},
          "output_type": "execute_result"
        }
      ],
      "source": [
        "char2idx = {u:i for i, u in enumerate(vocab, start=1)}\n",
        "char2idx"
      ]
    },
    {
      "cell_type": "markdown",
      "metadata": {},
      "source": [
        "음절 id 전환 dictionary 저장"
      ]
    },
    {
      "cell_type": "code",
      "execution_count": 17,
      "metadata": {
        "colab": {
          "base_uri": "https://localhost:8080/"
        },
        "id": "xOMHnAr00R7v",
        "outputId": "10affeda-6d7a-4465-a052-3c9a5a2595e2"
      },
      "outputs": [
        {
          "name": "stdout",
          "output_type": "stream",
          "text": [
            "{'자': 1, '거': 2, '동': 3, '를': 4, '른': 5, ' ': 6, '럿': 7, '치': 8, '앞': 9, '오': 10, '갑': 11, '바': 12, '보': 13, '러': 14, '가': 15, ',': 16, '옵': 17, '되': 18, '킥': 19, '대': 20, '옆': 21, '다': 22, '설': 23, '져': 24, '세': 25, '탄': 26, '습': 27, '서': 28, '둘': 29, '전': 30, '과': 31, '들': 32, '볼': 33, '람': 34, '토': 35, '어': 36, '늘': 37, '여': 38, '쪽': 39, '사': 40, '니': 41, '차': 42, '라': 43, '이': 44, '에': 45, '워': 46, '두': 47, '걸': 48, '고': 49, '있': 50, '놓': 51, '몇': 52, '<EOS>': 53, '타': 54, '드': 55, '와': 56}\n"
          ]
        }
      ],
      "source": [
        "import pickle\n",
        "\n",
        "# save data\n",
        "with open('char2idx.pickle','wb') as fw:\n",
        "    pickle.dump(char2idx, fw)\n",
        "\n",
        "# load data\n",
        "with open('char2idx.pickle', 'rb') as fr:\n",
        "    test = pickle.load(fr)\n",
        "\n",
        "# show data\n",
        "print(test)"
      ]
    },
    {
      "cell_type": "markdown",
      "metadata": {
        "id": "0LzzhUPu8Uq_"
      },
      "source": [
        "음절 단위"
      ]
    },
    {
      "cell_type": "code",
      "execution_count": 7,
      "metadata": {
        "id": "UbByjses8LJq"
      },
      "outputs": [],
      "source": [
        "import numpy as np\n",
        "\n",
        "sentence2vec_list = []\n",
        "for i, row in train.iterrows():\n",
        "    temp_arr = np.array([char2idx[c] for c in row['sentence']] + [char2idx['<EOS>']])\n",
        "    sentence2vec_list.append(temp_arr)"
      ]
    },
    {
      "cell_type": "code",
      "execution_count": 8,
      "metadata": {
        "colab": {
          "base_uri": "https://localhost:8080/"
        },
        "id": "mFjpnkPaGar4",
        "outputId": "bbac5ab6-1cef-4ae5-c638-edcda78465da"
      },
      "outputs": [
        {
          "data": {
            "text/plain": [
              "[array([40, 34, 44,  6, 22, 15, 10, 49,  6, 50, 27, 41, 22, 53]),\n",
              " array([40, 34, 44,  6, 50, 27, 41, 22, 53]),\n",
              " array([40, 34, 44,  6,  9, 45,  6, 50, 27, 41, 22, 53]),\n",
              " array([40, 34, 31,  6,  1, 30,  2, 15,  6, 22, 15, 10, 49,  6, 50, 27, 41,\n",
              "        22, 53]),\n",
              " array([ 1, 30,  2, 56,  6, 40, 34, 44,  6, 22, 15, 10, 49,  6, 50, 27, 41,\n",
              "        22, 53]),\n",
              " array([ 1, 30,  2, 15,  6, 50, 27, 41, 22, 53]),\n",
              " array([ 1, 30,  2, 15,  6,  9, 45,  6, 50, 27, 41, 22, 53]),\n",
              " array([40, 34, 31,  6,  1, 30,  2, 15,  6, 50, 27, 41, 22, 53]),\n",
              " array([ 1, 30,  2, 56,  6, 40, 34, 44,  6, 50, 27, 41, 22, 53]),\n",
              " array([ 1, 30,  2,  6, 38, 14,  6, 20, 56,  6, 40, 34, 44,  6, 50, 27, 41,\n",
              "        22, 53]),\n",
              " array([40, 34, 32, 44,  6, 50, 27, 41, 22, 53]),\n",
              " array([40, 34, 32, 31,  6,  1, 30,  2, 15,  6, 50, 27, 41, 22, 53]),\n",
              " array([40, 34, 44,  6, 48, 36, 15, 49,  6, 50, 27, 41, 22, 53]),\n",
              " array([30,  3, 19, 13, 55,  4,  6, 26,  6, 40, 34, 44,  6, 22, 15, 10, 49,\n",
              "         6, 50, 27, 41, 22, 53]),\n",
              " array([30,  3, 19, 13, 55,  4,  6, 26,  6, 40, 34, 31,  6, 22,  5,  6, 40,\n",
              "        34, 32, 44,  6, 50, 27, 41, 22, 53]),\n",
              " array([30,  3, 19, 13, 55, 15,  6, 50, 27, 41, 22, 53]),\n",
              " array([30,  3, 19, 13, 55, 15,  6,  9, 45,  6, 50, 27, 41, 22, 53]),\n",
              " array([30,  3, 19, 13, 55, 15,  6, 38, 14,  6, 20,  6, 50, 27, 41, 22, 53]),\n",
              " array([40, 34, 31,  6, 30,  3, 19, 13, 55, 15,  6, 50, 27, 41, 22, 53]),\n",
              " array([40, 34, 44,  6, 30,  3, 19, 13, 55,  4,  6, 54, 49,  6, 50, 27, 41,\n",
              "        22, 53]),\n",
              " array([30,  3, 19, 13, 55, 56,  6, 40, 34, 44,  6, 50, 27, 41, 22, 53]),\n",
              " array([40, 34, 32, 44,  6, 30,  3, 19, 13, 55, 56,  6, 50, 27, 41, 22, 53]),\n",
              " array([42, 15,  6, 50, 27, 41, 22, 53]),\n",
              " array([42, 15,  6,  9, 45,  6, 50, 27, 41, 22, 53]),\n",
              " array([42, 15,  6, 38,  7,  6, 50, 27, 41, 22, 53]),\n",
              " array([40, 34, 31,  6, 42, 15,  6, 50, 27, 41, 22, 53]),\n",
              " array([42, 56,  6, 40, 34, 44,  6, 50, 27, 41, 22, 53]),\n",
              " array([10, 35, 12, 44, 15,  6, 50, 27, 41, 22, 53]),\n",
              " array([10, 35, 12, 44, 15,  6,  9, 45,  6, 50, 27, 41, 22, 53]),\n",
              " array([10, 35, 12, 44, 15,  6, 38, 14,  6, 20,  6, 50, 27, 41, 22, 53]),\n",
              " array([10, 35, 12, 44,  4,  6, 26,  6, 40, 34, 44,  6, 50, 27, 41, 22, 53]),\n",
              " array([40, 34, 31,  6, 10, 35, 12, 44, 15,  6, 50, 27, 41, 22, 53]),\n",
              " array([40, 34, 32, 31,  6, 10, 35, 12, 44,  6, 38, 14,  6, 20, 15,  6, 50,\n",
              "        27, 41, 22, 53]),\n",
              " array([10, 35, 12, 44, 56,  6, 40, 34, 32, 44,  6, 50, 27, 41, 22, 53]),\n",
              " array([10, 35, 12, 44, 56,  6, 40, 34, 44,  6, 50, 27, 41, 22, 53]),\n",
              " array([30,  3, 19, 13, 55, 56,  6, 10, 35, 12, 44, 15,  6, 50, 27, 41, 22,\n",
              "        53]),\n",
              " array([ 1, 30,  2, 56,  6, 10, 35, 12, 44, 15,  6, 50, 27, 41, 22, 53]),\n",
              " array([10, 35, 12, 44, 56,  6,  1, 30,  2, 15,  6, 50, 27, 41, 22, 53]),\n",
              " array([10, 35, 12, 44, 56,  6, 30,  3, 19, 13, 55, 15,  6, 50, 27, 41, 22,\n",
              "        53]),\n",
              " array([30,  3, 19, 13, 55, 56,  6,  1, 30,  2, 15,  6, 50, 27, 41, 22, 53]),\n",
              " array([ 1, 30,  2, 56,  6, 30,  3, 19, 13, 55, 15,  6, 50, 27, 41, 22, 53]),\n",
              " array([40, 34, 31,  6, 42, 16,  6, 10, 35, 12, 44, 16,  6,  1, 30,  2, 15,\n",
              "         6, 50, 27, 41, 22, 53]),\n",
              " array([42, 56,  6, 10, 35, 12, 44, 16,  6,  1, 30,  2, 16,  6, 40, 34, 44,\n",
              "         6, 50, 27, 41, 22, 53]),\n",
              " array([ 1, 30,  2, 56,  6, 40, 34, 31,  6, 10, 35, 12, 44, 15,  6, 50, 27,\n",
              "        41, 22, 53]),\n",
              " array([10, 35, 12, 44, 56,  6,  1, 30,  2, 16,  6, 30,  3, 19, 13, 55,  6,\n",
              "        38, 14,  6, 20, 15,  6, 50, 27, 41, 22, 53]),\n",
              " array([42, 56,  6, 10, 35, 12, 44, 15,  6, 50, 27, 41, 22, 53]),\n",
              " array([ 1, 30,  2, 56,  6, 40, 34, 44,  6, 50, 27, 41, 22, 53]),\n",
              " array([40, 34, 44,  6, 10, 35, 12, 44,  4,  6, 54, 49,  6, 50, 27, 41, 22,\n",
              "        53]),\n",
              " array([ 1, 30,  2, 56,  6, 42, 56,  6, 40, 34, 44,  6, 50, 27, 41, 22, 53]),\n",
              " array([40, 34, 44,  6, 30,  3, 19, 13, 55,  4,  6, 54, 49,  6, 50, 49,  6,\n",
              "        21, 45,  6,  1, 30,  2, 15,  6, 50, 27, 41, 22, 53]),\n",
              " array([33, 43, 55, 15,  6, 23,  8,  6, 18, 36,  6, 50, 27, 41, 22, 53]),\n",
              " array([33, 43, 55, 15,  6, 50, 27, 41, 22, 53]),\n",
              " array([33, 43, 55, 15,  6,  9, 45,  6, 50, 27, 41, 22, 53]),\n",
              " array([33, 43, 55, 56,  6,  1, 30,  2, 15,  6, 50, 27, 41, 22, 53]),\n",
              " array([ 1, 30,  2, 56,  6, 33, 43, 55, 15,  6, 50, 27, 41, 22, 53]),\n",
              " array([10, 35, 12, 44,  4,  6, 26,  6, 40, 34, 31,  6, 33, 43, 55, 15,  6,\n",
              "        50, 27, 41, 22, 53]),\n",
              " array([ 1, 30,  2,  4,  6, 26,  6, 40, 34, 31,  6, 10, 35, 12, 44,  4,  6,\n",
              "        26,  6, 40, 34, 44,  6, 50, 27, 41, 22, 53]),\n",
              " array([33, 43, 55, 56,  6, 10, 35, 12, 44, 56,  6, 30,  3, 19, 13, 55, 15,\n",
              "         6, 50, 27, 41, 22, 53]),\n",
              " array([33, 43, 55, 56,  6, 40, 34, 44,  6, 50, 27, 41, 22, 53]),\n",
              " array([30,  3, 19, 13, 55,  4,  6, 26,  6, 40, 34, 31,  6, 33, 43, 55, 15,\n",
              "         6, 50, 27, 41, 22, 53]),\n",
              " array([ 1, 30,  2,  4,  6, 26,  6, 40, 34, 31,  6, 30,  3, 19, 13, 55, 56,\n",
              "         6, 33, 43, 55, 15,  6, 50, 27, 41, 22, 53]),\n",
              " array([40, 34, 44,  6, 22, 15, 10, 49,  6, 50, 27, 41, 22, 53]),\n",
              " array([40, 34, 44,  6, 48, 36, 15, 49,  6, 50, 27, 41, 22, 53]),\n",
              " array([33, 43, 55, 15,  6, 23,  8, 18, 36,  6, 50, 27, 41, 22, 53]),\n",
              " array([42, 15,  6,  9, 39, 45,  6, 50, 27, 41, 22, 53]),\n",
              " array([ 1, 30,  2, 15,  6, 25, 46, 24,  6, 50, 27, 41, 22, 53]),\n",
              " array([ 1, 30,  2,  4,  6, 26,  6, 40, 34, 44,  6, 50, 27, 41, 22, 53]),\n",
              " array([30,  3, 19, 13, 55, 15,  6, 51, 38,  6, 50, 27, 41, 22, 53]),\n",
              " array([30,  3, 19, 13, 55,  4,  6, 26,  6, 40, 34, 44,  6, 50, 27, 41, 22,\n",
              "        53]),\n",
              " array([10, 35, 12, 44, 15,  6, 25, 46, 24,  6, 50, 27, 41, 22, 53]),\n",
              " array([10, 35, 12, 44,  4,  6, 26,  6, 40, 34, 44,  6, 50, 27, 41, 22, 53]),\n",
              " array([40, 34, 44,  6, 22, 15, 17, 41, 22, 53]),\n",
              " array([40, 34, 32, 44,  6, 38,  7,  6, 50, 27, 41, 22, 53]),\n",
              " array([33, 43, 55, 15,  6, 37, 36, 28,  6, 50, 27, 41, 22, 53]),\n",
              " array([ 1,  3, 42, 15,  6, 38, 14,  6, 20,  6, 50, 27, 41, 22, 53]),\n",
              " array([ 1, 30,  2, 15,  6, 38, 14,  6, 20,  6, 51, 38,  6, 50, 27, 41, 22,\n",
              "        53]),\n",
              " array([ 1, 30,  2,  4,  6, 26,  6, 40, 34, 44,  6, 29,  6, 50, 27, 41, 22,\n",
              "        53]),\n",
              " array([ 1, 30,  2,  4,  6, 26,  6, 40, 34, 44,  6, 38,  7,  6, 50, 27, 41,\n",
              "        22, 53]),\n",
              " array([30,  3, 19, 13, 55, 15,  6, 52,  6, 20,  6, 51, 38,  6, 50, 27, 41,\n",
              "        22, 53]),\n",
              " array([30,  3, 19, 13, 55, 15,  6, 38, 14,  6, 20,  6, 51, 38,  6, 50, 27,\n",
              "        41, 22, 53]),\n",
              " array([30,  3, 19, 13, 55,  4,  6, 26,  6, 40, 34, 44,  6, 29,  6, 50, 27,\n",
              "        41, 22, 53]),\n",
              " array([30,  3, 19, 13, 55,  4,  6, 26,  6, 40, 34, 44,  6, 38,  7,  6, 50,\n",
              "        27, 41, 22, 53]),\n",
              " array([10, 35, 12, 44, 15,  6, 47,  6, 20,  6, 25, 46, 24,  6, 50, 27, 41,\n",
              "        22, 53]),\n",
              " array([10, 35, 12, 44, 15,  6, 38, 14,  6, 20,  6, 28,  6, 50, 27, 41, 22,\n",
              "        53]),\n",
              " array([10, 35, 12, 44,  4,  6, 26,  6, 40, 34, 44,  6, 38,  7,  6, 50, 27,\n",
              "        41, 22, 53]),\n",
              " array([40, 34, 44,  6, 22, 15, 10, 49,  6, 50, 49,  6, 33, 43, 55, 15,  6,\n",
              "        50, 27, 41, 22, 53]),\n",
              " array([33, 43, 55, 15,  6, 50, 49,  6, 40, 34, 44,  6, 22, 15, 10, 49,  6,\n",
              "        50, 27, 41, 22, 53]),\n",
              " array([33, 43, 55, 56,  6, 42, 15,  6, 50, 27, 41, 22, 53]),\n",
              " array([42, 56,  6, 33, 43, 55, 15,  6, 50, 27, 41, 22, 53]),\n",
              " array([42, 56,  6,  1, 30,  2, 15,  6, 50, 27, 41, 22, 53]),\n",
              " array([ 1, 30,  2, 56,  6, 42, 15,  6, 50, 27, 41, 22, 53]),\n",
              " array([ 1, 30,  2,  4,  6, 26,  6, 40, 34, 31,  6, 42, 15,  6, 50, 27, 41,\n",
              "        22, 53]),\n",
              " array([ 1, 30,  2, 56,  6, 30,  3, 19, 13, 55, 15,  6, 51, 38,  6, 50, 27,\n",
              "        41, 22, 53]),\n",
              " array([30,  3, 19, 13, 55, 56,  6,  1, 30,  2, 15,  6, 51, 38,  6, 50, 27,\n",
              "        41, 22, 53]),\n",
              " array([30,  3, 19, 13, 55, 56,  6, 10, 35, 12, 44, 15,  6, 51, 38,  6, 50,\n",
              "        27, 41, 22, 53]),\n",
              " array([10, 35, 12, 44, 56,  6, 30,  3, 19, 13, 55, 15,  6, 51, 38,  6, 50,\n",
              "        27, 41, 22, 53]),\n",
              " array([ 1, 30,  2,  4,  6, 26,  6, 40, 34, 31,  6, 33, 43, 55, 15,  6, 50,\n",
              "        27, 41, 22, 53]),\n",
              " array([30,  3, 19, 13, 55,  4,  6, 26,  6, 40, 34, 31,  6, 33, 43, 55, 15,\n",
              "         6, 50, 27, 41, 22, 53]),\n",
              " array([10, 35, 12, 44,  4,  6, 26,  6, 40, 34, 31,  6, 33, 43, 55, 15,  6,\n",
              "        50, 27, 41, 22, 53]),\n",
              " array([ 1, 30,  2,  4,  6, 26,  6, 40, 34, 31,  6, 30,  3, 19, 13, 55,  4,\n",
              "         6, 26,  6, 40, 34, 44,  6, 50, 27, 41, 22, 53]),\n",
              " array([30,  3, 19, 13, 55,  4,  6, 26,  6, 40, 34, 31,  6,  1, 30,  2,  4,\n",
              "         6, 26,  6, 40, 34, 44,  6, 50, 27, 41, 22, 53]),\n",
              " array([10, 35, 12, 44,  4,  6, 26,  6, 40, 34, 31,  6,  1, 30,  2,  4,  6,\n",
              "        26,  6, 40, 34, 44,  6, 50, 27, 41, 22, 53]),\n",
              " array([ 1, 30,  2,  4,  6, 26,  6, 40, 34, 31,  6, 10, 35, 12, 44,  4,  6,\n",
              "        26,  6, 40, 34, 44,  6, 50, 27, 41, 22, 53]),\n",
              " array([42, 56,  6, 10, 35, 12, 44, 15,  6, 50, 27, 41, 22, 53]),\n",
              " array([10, 35, 12, 44, 56,  6, 42, 15,  6, 50, 27, 41, 22, 53]),\n",
              " array([10, 35, 12, 44, 15,  6, 50, 49,  6, 40, 34, 44,  6, 48, 36, 11, 41,\n",
              "        22, 53]),\n",
              " array([ 1, 30,  2, 15,  6, 51, 38,  6, 50, 49,  6, 40, 34, 44,  6, 48, 36,\n",
              "        11, 41, 22, 53]),\n",
              " array([30,  3, 19, 13, 55, 15,  6, 50, 49,  6, 40, 34, 44,  6, 48, 36, 11,\n",
              "        41, 22, 53]),\n",
              " array([10, 35, 12, 44, 15,  6, 51, 38,  6, 50, 49,  6, 40, 34, 44,  6, 22,\n",
              "        15, 17, 41, 22, 53]),\n",
              " array([ 1, 30,  2, 15,  6, 50, 49,  6, 40, 34, 44,  6, 22, 15, 17, 41, 22,\n",
              "        53]),\n",
              " array([30,  3, 19, 13, 55, 15,  6, 51, 38,  6, 50, 49,  6, 40, 34, 44,  6,\n",
              "        22, 15, 17, 41, 22, 53])]"
            ]
          },
          "execution_count": 8,
          "metadata": {},
          "output_type": "execute_result"
        }
      ],
      "source": [
        "sentence2vec_list"
      ]
    },
    {
      "cell_type": "code",
      "execution_count": 10,
      "metadata": {
        "id": "H7Es6J949m4H"
      },
      "outputs": [],
      "source": [
        "import numpy as np\n",
        "\n",
        "sentence2vec = np.array(sentence2vec_list, dtype=object)\n",
        "\n",
        "sequence_list = []\n",
        "for vec in sentence2vec:\n",
        "    for i in range(len(vec)):\n",
        "        sequence = vec[:i+1]\n",
        "        sequence_list.append(sequence)"
      ]
    },
    {
      "cell_type": "code",
      "execution_count": 11,
      "metadata": {
        "colab": {
          "base_uri": "https://localhost:8080/"
        },
        "id": "ioNgQx7p-fN3",
        "outputId": "b45b9fc6-19ad-42b9-c6d6-c3e041ecfabb"
      },
      "outputs": [
        {
          "data": {
            "text/plain": [
              "[array([40]),\n",
              " array([40, 34]),\n",
              " array([40, 34, 44]),\n",
              " array([40, 34, 44,  6]),\n",
              " array([40, 34, 44,  6, 22]),\n",
              " array([40, 34, 44,  6, 22, 15]),\n",
              " array([40, 34, 44,  6, 22, 15, 10]),\n",
              " array([40, 34, 44,  6, 22, 15, 10, 49]),\n",
              " array([40, 34, 44,  6, 22, 15, 10, 49,  6]),\n",
              " array([40, 34, 44,  6, 22, 15, 10, 49,  6, 50]),\n",
              " array([40, 34, 44,  6, 22, 15, 10, 49,  6, 50, 27]),\n",
              " array([40, 34, 44,  6, 22, 15, 10, 49,  6, 50, 27, 41]),\n",
              " array([40, 34, 44,  6, 22, 15, 10, 49,  6, 50, 27, 41, 22]),\n",
              " array([40, 34, 44,  6, 22, 15, 10, 49,  6, 50, 27, 41, 22, 53]),\n",
              " array([40])]"
            ]
          },
          "execution_count": 11,
          "metadata": {},
          "output_type": "execute_result"
        }
      ],
      "source": [
        "sequence_list[:15]"
      ]
    },
    {
      "cell_type": "code",
      "execution_count": 12,
      "metadata": {
        "colab": {
          "base_uri": "https://localhost:8080/",
          "height": 279
        },
        "id": "3nGG-HIR_T11",
        "outputId": "df739b91-abec-48c4-ebb7-db96466a6a22"
      },
      "outputs": [
        {
          "data": {
            "image/png": "[encoded data removed]",
            "text/plain": [
              "<Figure size 432x288 with 1 Axes>"
            ]
          },
          "metadata": {
            "needs_background": "light"
          },
          "output_type": "display_data"
        }
      ],
      "source": [
        "import matplotlib.pyplot as plt\n",
        "\n",
        "plt.hist([len(s) for s in sentence2vec_list], bins=50)\n",
        "plt.xlabel('length of samples')\n",
        "plt.ylabel('number of samples')\n",
        "plt.show()"
      ]
    },
    {
      "cell_type": "code",
      "execution_count": 13,
      "metadata": {
        "id": "gLJA50vr_9I3"
      },
      "outputs": [],
      "source": [
        "from tensorflow.keras.preprocessing.sequence import pad_sequences\n",
        "\n",
        "max_len = max(map(len, sentence2vec_list))\n",
        "sequences = pad_sequences(sequence_list, maxlen=max_len, padding='pre')"
      ]
    },
    {
      "cell_type": "code",
      "execution_count": 16,
      "metadata": {
        "colab": {
          "base_uri": "https://localhost:8080/"
        },
        "id": "Cqg4Qh1G0G-b",
        "outputId": "c4448f14-47ea-4047-da02-1ee514b34aee"
      },
      "outputs": [
        {
          "data": {
            "text/plain": [
              "30"
            ]
          },
          "execution_count": 16,
          "metadata": {},
          "output_type": "execute_result"
        }
      ],
      "source": [
        "max_len"
      ]
    },
    {
      "cell_type": "code",
      "execution_count": 14,
      "metadata": {
        "colab": {
          "base_uri": "https://localhost:8080/"
        },
        "id": "UACXWsOPBTn2",
        "outputId": "e0333f27-e6e9-4d87-deb9-9736d7e7729b"
      },
      "outputs": [
        {
          "data": {
            "text/plain": [
              "array([ 0,  0,  0,  0,  0,  0,  0,  0,  0,  0,  0,  0,  0,  0,  0,  0,  0,\n",
              "        0,  0,  0,  0,  0,  0,  0,  0,  0,  0,  0,  0, 40], dtype=int32)"
            ]
          },
          "execution_count": 14,
          "metadata": {},
          "output_type": "execute_result"
        }
      ],
      "source": [
        "sequences[0]"
      ]
    },
    {
      "cell_type": "code",
      "execution_count": 15,
      "metadata": {
        "id": "H1OXg0IwBqUt"
      },
      "outputs": [],
      "source": [
        "np.random.shuffle(sequences)\n",
        "split_num = int(len(sequences) * 0.8)\n",
        "\n",
        "X = sequences[:split_num,:-1]\n",
        "y = sequences[:split_num,-1]\n",
        "\n",
        "X_test = sequences[split_num:,:-1]\n",
        "y_test = sequences[split_num:,-1]"
      ]
    },
    {
      "cell_type": "code",
      "execution_count": 18,
      "metadata": {
        "colab": {
          "base_uri": "https://localhost:8080/"
        },
        "id": "2Xe6WUSPCD5F",
        "outputId": "031a82df-27e2-4b5a-b815-f1f53fddf18b"
      },
      "outputs": [
        {
          "name": "stdout",
          "output_type": "stream",
          "text": [
            "Model: \"sequential\"\n",
            "_________________________________________________________________\n",
            " Layer (type)                Output Shape              Param #   \n",
            "=================================================================\n",
            " embedding (Embedding)       (None, 29, 300)           1500000   \n",
            "                                                                 \n",
            " gru (GRU)                   (None, 128)               165120    \n",
            "                                                                 \n",
            " dense (Dense)               (None, 5000)              645000    \n",
            "                                                                 \n",
            "=================================================================\n",
            "Total params: 2,310,120\n",
            "Trainable params: 2,310,120\n",
            "Non-trainable params: 0\n",
            "_________________________________________________________________\n",
            "Epoch 1/100\n",
            "47/47 [==============================] - 12s 148ms/step - loss: 6.3597 - accuracy: 0.2393 - val_loss: 3.9171 - val_accuracy: 0.1154\n",
            "Epoch 2/100\n",
            "47/47 [==============================] - 7s 140ms/step - loss: 3.6782 - accuracy: 0.1755 - val_loss: 3.7669 - val_accuracy: 0.1218\n",
            "Epoch 3/100\n",
            "47/47 [==============================] - 7s 155ms/step - loss: 3.5718 - accuracy: 0.1848 - val_loss: 3.7320 - val_accuracy: 0.1218\n",
            "Epoch 4/100\n",
            "47/47 [==============================] - 9s 197ms/step - loss: 3.5458 - accuracy: 0.1855 - val_loss: 3.7346 - val_accuracy: 0.1218\n",
            "Epoch 5/100\n",
            "47/47 [==============================] - 10s 221ms/step - loss: 3.5156 - accuracy: 0.1855 - val_loss: 3.7280 - val_accuracy: 0.1218\n",
            "Epoch 6/100\n",
            "47/47 [==============================] - 5s 98ms/step - loss: 3.4434 - accuracy: 0.1855 - val_loss: 3.6614 - val_accuracy: 0.1218\n",
            "Epoch 7/100\n",
            "47/47 [==============================] - 5s 99ms/step - loss: 3.3151 - accuracy: 0.2128 - val_loss: 3.4472 - val_accuracy: 0.1987\n",
            "Epoch 8/100\n",
            "47/47 [==============================] - 8s 171ms/step - loss: 3.0787 - accuracy: 0.3023 - val_loss: 3.1786 - val_accuracy: 0.3141\n",
            "Epoch 9/100\n",
            "47/47 [==============================] - 10s 205ms/step - loss: 2.6948 - accuracy: 0.4284 - val_loss: 2.8131 - val_accuracy: 0.3974\n",
            "Epoch 10/100\n",
            "47/47 [==============================] - 8s 166ms/step - loss: 2.3253 - accuracy: 0.5494 - val_loss: 2.4854 - val_accuracy: 0.6346\n",
            "Epoch 11/100\n",
            "47/47 [==============================] - 5s 105ms/step - loss: 2.0380 - accuracy: 0.6533 - val_loss: 2.2539 - val_accuracy: 0.6795\n",
            "Epoch 12/100\n",
            "47/47 [==============================] - 4s 92ms/step - loss: 1.8046 - accuracy: 0.6999 - val_loss: 2.0396 - val_accuracy: 0.6859\n",
            "Epoch 13/100\n",
            "47/47 [==============================] - 4s 88ms/step - loss: 1.6068 - accuracy: 0.7235 - val_loss: 1.8632 - val_accuracy: 0.7051\n",
            "Epoch 14/100\n",
            "47/47 [==============================] - 4s 89ms/step - loss: 1.4443 - accuracy: 0.7443 - val_loss: 1.7281 - val_accuracy: 0.7308\n",
            "Epoch 15/100\n",
            "47/47 [==============================] - 4s 87ms/step - loss: 1.3180 - accuracy: 0.7650 - val_loss: 1.6160 - val_accuracy: 0.7244\n",
            "Epoch 16/100\n",
            "47/47 [==============================] - 4s 88ms/step - loss: 1.2206 - accuracy: 0.7787 - val_loss: 1.5258 - val_accuracy: 0.7372\n",
            "Epoch 17/100\n",
            "47/47 [==============================] - 4s 89ms/step - loss: 1.1477 - accuracy: 0.7880 - val_loss: 1.4706 - val_accuracy: 0.7436\n",
            "Epoch 18/100\n",
            "47/47 [==============================] - 4s 89ms/step - loss: 1.0909 - accuracy: 0.7901 - val_loss: 1.4289 - val_accuracy: 0.7436\n",
            "Epoch 19/100\n",
            "47/47 [==============================] - 4s 88ms/step - loss: 1.0447 - accuracy: 0.8009 - val_loss: 1.3884 - val_accuracy: 0.7436\n",
            "Epoch 20/100\n",
            "47/47 [==============================] - 4s 86ms/step - loss: 1.0056 - accuracy: 0.8016 - val_loss: 1.3519 - val_accuracy: 0.7756\n",
            "Epoch 21/100\n",
            "47/47 [==============================] - 4s 87ms/step - loss: 0.9718 - accuracy: 0.8073 - val_loss: 1.3299 - val_accuracy: 0.7628\n",
            "Epoch 22/100\n",
            "47/47 [==============================] - 5s 102ms/step - loss: 0.9435 - accuracy: 0.8080 - val_loss: 1.2954 - val_accuracy: 0.7564\n",
            "Epoch 23/100\n",
            "47/47 [==============================] - 4s 92ms/step - loss: 0.9203 - accuracy: 0.8109 - val_loss: 1.2682 - val_accuracy: 0.7692\n",
            "Epoch 24/100\n",
            "47/47 [==============================] - 4s 88ms/step - loss: 0.8934 - accuracy: 0.8188 - val_loss: 1.2576 - val_accuracy: 0.7756\n",
            "Epoch 25/100\n",
            "47/47 [==============================] - 5s 99ms/step - loss: 0.8688 - accuracy: 0.8309 - val_loss: 1.2384 - val_accuracy: 0.7756\n",
            "Epoch 26/100\n",
            "47/47 [==============================] - 4s 87ms/step - loss: 0.8510 - accuracy: 0.8302 - val_loss: 1.2357 - val_accuracy: 0.7885\n",
            "Epoch 27/100\n",
            "47/47 [==============================] - 4s 90ms/step - loss: 0.8327 - accuracy: 0.8374 - val_loss: 1.1891 - val_accuracy: 0.7756\n",
            "Epoch 28/100\n",
            "47/47 [==============================] - 4s 88ms/step - loss: 0.8085 - accuracy: 0.8374 - val_loss: 1.1948 - val_accuracy: 0.7756\n",
            "Epoch 29/100\n",
            "47/47 [==============================] - 4s 90ms/step - loss: 0.7949 - accuracy: 0.8395 - val_loss: 1.1794 - val_accuracy: 0.7821\n",
            "Epoch 30/100\n",
            "47/47 [==============================] - 4s 86ms/step - loss: 0.7814 - accuracy: 0.8360 - val_loss: 1.1629 - val_accuracy: 0.7821\n",
            "Epoch 31/100\n",
            "47/47 [==============================] - 4s 87ms/step - loss: 0.7646 - accuracy: 0.8417 - val_loss: 1.1439 - val_accuracy: 0.7756\n",
            "Epoch 32/100\n",
            "47/47 [==============================] - 4s 85ms/step - loss: 0.7589 - accuracy: 0.8424 - val_loss: 1.1633 - val_accuracy: 0.7692\n",
            "Epoch 33/100\n",
            "47/47 [==============================] - 4s 87ms/step - loss: 0.7480 - accuracy: 0.8438 - val_loss: 1.1142 - val_accuracy: 0.7885\n",
            "Epoch 34/100\n",
            "47/47 [==============================] - 4s 87ms/step - loss: 0.7363 - accuracy: 0.8438 - val_loss: 1.0940 - val_accuracy: 0.7756\n",
            "Epoch 35/100\n",
            "47/47 [==============================] - 4s 85ms/step - loss: 0.7250 - accuracy: 0.8417 - val_loss: 1.1080 - val_accuracy: 0.7885\n",
            "Epoch 36/100\n",
            "47/47 [==============================] - 4s 86ms/step - loss: 0.7170 - accuracy: 0.8467 - val_loss: 1.0971 - val_accuracy: 0.7949\n",
            "Epoch 37/100\n",
            "47/47 [==============================] - 4s 89ms/step - loss: 0.7095 - accuracy: 0.8467 - val_loss: 1.1046 - val_accuracy: 0.7885\n",
            "Epoch 38/100\n",
            "47/47 [==============================] - 4s 88ms/step - loss: 0.7025 - accuracy: 0.8438 - val_loss: 1.0903 - val_accuracy: 0.7692\n",
            "Epoch 39/100\n",
            "47/47 [==============================] - 4s 86ms/step - loss: 0.6954 - accuracy: 0.8489 - val_loss: 1.0995 - val_accuracy: 0.7756\n",
            "Epoch 40/100\n",
            "47/47 [==============================] - 4s 87ms/step - loss: 0.6874 - accuracy: 0.8524 - val_loss: 1.0971 - val_accuracy: 0.7821\n",
            "Epoch 41/100\n",
            "47/47 [==============================] - 4s 87ms/step - loss: 0.6836 - accuracy: 0.8460 - val_loss: 1.0974 - val_accuracy: 0.7692\n",
            "Epoch 42/100\n",
            "47/47 [==============================] - 4s 90ms/step - loss: 0.6751 - accuracy: 0.8524 - val_loss: 1.0946 - val_accuracy: 0.7821\n",
            "Epoch 43/100\n",
            "47/47 [==============================] - 4s 87ms/step - loss: 0.6713 - accuracy: 0.8474 - val_loss: 1.1177 - val_accuracy: 0.7564\n",
            "Epoch 44/100\n",
            "47/47 [==============================] - 4s 87ms/step - loss: 0.6639 - accuracy: 0.8517 - val_loss: 1.0957 - val_accuracy: 0.7692\n",
            "Epoch 45/100\n",
            "47/47 [==============================] - 4s 88ms/step - loss: 0.6582 - accuracy: 0.8489 - val_loss: 1.0887 - val_accuracy: 0.7821\n",
            "Epoch 46/100\n",
            "47/47 [==============================] - 4s 87ms/step - loss: 0.6506 - accuracy: 0.8524 - val_loss: 1.0800 - val_accuracy: 0.8013\n",
            "Epoch 47/100\n",
            "47/47 [==============================] - 4s 90ms/step - loss: 0.6498 - accuracy: 0.8503 - val_loss: 1.0934 - val_accuracy: 0.7756\n",
            "Epoch 48/100\n",
            "47/47 [==============================] - 5s 110ms/step - loss: 0.6427 - accuracy: 0.8524 - val_loss: 1.0884 - val_accuracy: 0.7692\n",
            "Epoch 49/100\n",
            "47/47 [==============================] - 4s 89ms/step - loss: 0.6372 - accuracy: 0.8510 - val_loss: 1.0761 - val_accuracy: 0.7756\n",
            "Epoch 50/100\n",
            "47/47 [==============================] - 4s 87ms/step - loss: 0.6342 - accuracy: 0.8524 - val_loss: 1.0882 - val_accuracy: 0.7628\n",
            "Epoch 51/100\n",
            "47/47 [==============================] - 5s 98ms/step - loss: 0.6268 - accuracy: 0.8567 - val_loss: 1.0751 - val_accuracy: 0.7821\n",
            "Epoch 52/100\n",
            "47/47 [==============================] - 4s 86ms/step - loss: 0.6220 - accuracy: 0.8560 - val_loss: 1.0735 - val_accuracy: 0.7756\n",
            "Epoch 53/100\n",
            "47/47 [==============================] - 4s 86ms/step - loss: 0.6185 - accuracy: 0.8553 - val_loss: 1.0645 - val_accuracy: 0.7885\n",
            "Epoch 54/100\n",
            "47/47 [==============================] - 4s 86ms/step - loss: 0.6136 - accuracy: 0.8574 - val_loss: 1.0758 - val_accuracy: 0.7821\n",
            "Epoch 55/100\n",
            "47/47 [==============================] - 4s 90ms/step - loss: 0.6100 - accuracy: 0.8589 - val_loss: 1.0851 - val_accuracy: 0.7756\n",
            "Epoch 56/100\n",
            "47/47 [==============================] - 4s 85ms/step - loss: 0.6045 - accuracy: 0.8553 - val_loss: 1.0671 - val_accuracy: 0.7821\n",
            "Epoch 57/100\n",
            "47/47 [==============================] - 4s 88ms/step - loss: 0.6040 - accuracy: 0.8617 - val_loss: 1.0848 - val_accuracy: 0.7756\n",
            "Epoch 58/100\n",
            "47/47 [==============================] - 4s 88ms/step - loss: 0.5985 - accuracy: 0.8610 - val_loss: 1.0574 - val_accuracy: 0.7821\n",
            "Epoch 59/100\n",
            "47/47 [==============================] - 4s 88ms/step - loss: 0.5965 - accuracy: 0.8517 - val_loss: 1.0792 - val_accuracy: 0.7821\n",
            "Epoch 60/100\n",
            "47/47 [==============================] - 4s 88ms/step - loss: 0.5872 - accuracy: 0.8503 - val_loss: 1.0600 - val_accuracy: 0.7949\n",
            "Epoch 61/100\n",
            "47/47 [==============================] - 4s 92ms/step - loss: 0.5846 - accuracy: 0.8560 - val_loss: 1.0558 - val_accuracy: 0.7885\n",
            "Epoch 62/100\n",
            "47/47 [==============================] - 4s 87ms/step - loss: 0.5829 - accuracy: 0.8539 - val_loss: 1.0629 - val_accuracy: 0.7885\n",
            "Epoch 63/100\n",
            "47/47 [==============================] - 4s 85ms/step - loss: 0.5798 - accuracy: 0.8524 - val_loss: 1.0528 - val_accuracy: 0.7885\n",
            "Epoch 64/100\n",
            "47/47 [==============================] - 4s 86ms/step - loss: 0.5724 - accuracy: 0.8603 - val_loss: 1.0601 - val_accuracy: 0.7756\n",
            "Epoch 65/100\n",
            "47/47 [==============================] - 4s 87ms/step - loss: 0.5667 - accuracy: 0.8567 - val_loss: 1.0827 - val_accuracy: 0.7692\n",
            "Epoch 66/100\n",
            "47/47 [==============================] - 4s 85ms/step - loss: 0.5626 - accuracy: 0.8603 - val_loss: 1.0607 - val_accuracy: 0.7885\n",
            "Epoch 67/100\n",
            "47/47 [==============================] - 4s 87ms/step - loss: 0.5617 - accuracy: 0.8567 - val_loss: 1.0491 - val_accuracy: 0.7885\n",
            "Epoch 68/100\n",
            "47/47 [==============================] - 4s 86ms/step - loss: 0.5574 - accuracy: 0.8589 - val_loss: 1.0653 - val_accuracy: 0.7692\n",
            "Epoch 69/100\n",
            "47/47 [==============================] - 4s 85ms/step - loss: 0.5586 - accuracy: 0.8553 - val_loss: 1.0565 - val_accuracy: 0.7756\n",
            "Epoch 70/100\n",
            "47/47 [==============================] - 4s 87ms/step - loss: 0.5507 - accuracy: 0.8596 - val_loss: 1.0587 - val_accuracy: 0.7821\n",
            "Epoch 71/100\n",
            "47/47 [==============================] - 4s 87ms/step - loss: 0.5449 - accuracy: 0.8582 - val_loss: 1.0497 - val_accuracy: 0.7692\n",
            "Epoch 72/100\n",
            "47/47 [==============================] - 5s 110ms/step - loss: 0.5403 - accuracy: 0.8617 - val_loss: 1.0528 - val_accuracy: 0.7821\n",
            "Epoch 73/100\n",
            "47/47 [==============================] - 4s 89ms/step - loss: 0.5369 - accuracy: 0.8567 - val_loss: 1.0565 - val_accuracy: 0.7692\n",
            "Epoch 74/100\n",
            "47/47 [==============================] - 4s 87ms/step - loss: 0.5331 - accuracy: 0.8617 - val_loss: 1.0506 - val_accuracy: 0.7821\n",
            "Epoch 75/100\n",
            "47/47 [==============================] - 4s 89ms/step - loss: 0.5317 - accuracy: 0.8574 - val_loss: 1.0486 - val_accuracy: 0.7692\n",
            "Epoch 76/100\n",
            "47/47 [==============================] - 4s 89ms/step - loss: 0.5283 - accuracy: 0.8574 - val_loss: 1.0338 - val_accuracy: 0.7821\n",
            "Epoch 77/100\n",
            "47/47 [==============================] - 4s 88ms/step - loss: 0.5243 - accuracy: 0.8582 - val_loss: 1.0492 - val_accuracy: 0.7756\n",
            "Epoch 78/100\n",
            "47/47 [==============================] - 4s 85ms/step - loss: 0.5201 - accuracy: 0.8589 - val_loss: 1.0563 - val_accuracy: 0.7628\n",
            "Epoch 79/100\n",
            "47/47 [==============================] - 4s 85ms/step - loss: 0.5134 - accuracy: 0.8625 - val_loss: 1.0469 - val_accuracy: 0.7692\n",
            "Epoch 80/100\n",
            "47/47 [==============================] - 4s 86ms/step - loss: 0.5085 - accuracy: 0.8646 - val_loss: 1.0575 - val_accuracy: 0.7692\n",
            "Epoch 81/100\n",
            "47/47 [==============================] - 4s 87ms/step - loss: 0.5050 - accuracy: 0.8682 - val_loss: 1.0548 - val_accuracy: 0.7692\n",
            "Epoch 82/100\n",
            "47/47 [==============================] - 4s 88ms/step - loss: 0.5046 - accuracy: 0.8653 - val_loss: 1.0493 - val_accuracy: 0.7628\n",
            "Epoch 83/100\n",
            "47/47 [==============================] - 4s 88ms/step - loss: 0.5009 - accuracy: 0.8639 - val_loss: 1.0378 - val_accuracy: 0.7628\n",
            "Epoch 84/100\n",
            "47/47 [==============================] - 4s 88ms/step - loss: 0.4951 - accuracy: 0.8675 - val_loss: 1.0319 - val_accuracy: 0.7821\n",
            "Epoch 85/100\n",
            "47/47 [==============================] - 4s 89ms/step - loss: 0.4920 - accuracy: 0.8603 - val_loss: 1.0431 - val_accuracy: 0.7756\n",
            "Epoch 86/100\n",
            "47/47 [==============================] - 4s 86ms/step - loss: 0.4865 - accuracy: 0.8675 - val_loss: 1.0535 - val_accuracy: 0.7756\n",
            "Epoch 87/100\n",
            "47/47 [==============================] - 4s 88ms/step - loss: 0.4825 - accuracy: 0.8596 - val_loss: 1.0512 - val_accuracy: 0.7500\n",
            "Epoch 88/100\n",
            "47/47 [==============================] - 4s 90ms/step - loss: 0.4810 - accuracy: 0.8703 - val_loss: 1.0511 - val_accuracy: 0.7692\n",
            "Epoch 89/100\n",
            "47/47 [==============================] - 4s 86ms/step - loss: 0.4775 - accuracy: 0.8668 - val_loss: 1.0460 - val_accuracy: 0.7628\n",
            "Epoch 90/100\n",
            "47/47 [==============================] - 4s 90ms/step - loss: 0.4740 - accuracy: 0.8675 - val_loss: 1.0530 - val_accuracy: 0.7500\n",
            "Epoch 91/100\n",
            "47/47 [==============================] - 4s 86ms/step - loss: 0.4734 - accuracy: 0.8639 - val_loss: 1.0444 - val_accuracy: 0.7692\n",
            "Epoch 92/100\n",
            "47/47 [==============================] - 4s 86ms/step - loss: 0.4669 - accuracy: 0.8689 - val_loss: 1.0365 - val_accuracy: 0.7628\n",
            "Epoch 93/100\n",
            "47/47 [==============================] - 4s 87ms/step - loss: 0.4751 - accuracy: 0.8660 - val_loss: 1.0522 - val_accuracy: 0.7500\n",
            "Epoch 94/100\n",
            "47/47 [==============================] - 4s 87ms/step - loss: 0.4745 - accuracy: 0.8596 - val_loss: 1.0450 - val_accuracy: 0.7628\n",
            "Epoch 95/100\n",
            "47/47 [==============================] - 4s 86ms/step - loss: 0.4679 - accuracy: 0.8660 - val_loss: 1.0457 - val_accuracy: 0.7436\n",
            "Epoch 96/100\n",
            "47/47 [==============================] - 4s 87ms/step - loss: 0.4557 - accuracy: 0.8632 - val_loss: 1.0424 - val_accuracy: 0.7628\n",
            "Epoch 97/100\n",
            "47/47 [==============================] - 4s 90ms/step - loss: 0.4533 - accuracy: 0.8646 - val_loss: 1.0278 - val_accuracy: 0.7692\n",
            "Epoch 98/100\n",
            "47/47 [==============================] - 4s 87ms/step - loss: 0.4492 - accuracy: 0.8696 - val_loss: 1.0293 - val_accuracy: 0.7692\n",
            "Epoch 99/100\n",
            "47/47 [==============================] - 4s 89ms/step - loss: 0.4409 - accuracy: 0.8682 - val_loss: 1.0316 - val_accuracy: 0.7564\n",
            "Epoch 100/100\n",
            "47/47 [==============================] - 4s 86ms/step - loss: 0.4444 - accuracy: 0.8632 - val_loss: 1.0227 - val_accuracy: 0.7692\n"
          ]
        }
      ],
      "source": [
        "from tensorflow.keras.models import Sequential\n",
        "from tensorflow.keras.layers import Embedding, Dense, GRU\n",
        "\n",
        "model = Sequential()\n",
        "model.add(Embedding(5000, 300, input_length=max_len-1, mask_zero=True)) \n",
        "# 레이블을 분리하였으므로 이제 X의 길이는 max_len-1\n",
        "model.add(GRU(128))\n",
        "model.add(Dense(5000, activation='softmax'))\n",
        "model.compile(loss='sparse_categorical_crossentropy', optimizer='adam', metrics=['accuracy'])\n",
        "# sparse_categorical_crossentropy\n",
        "# categorical_crossentropy와 다른점은 정답 integer값을 원-핫벡터로 만들어주지 않아도 된다는점\n",
        "\n",
        "model.summary()\n",
        "\n",
        "hist = model.fit(X, y,validation_split=0.1, shuffle=True, epochs=100, batch_size=30, verbose=1)"
      ]
    },
    {
      "cell_type": "code",
      "execution_count": 19,
      "metadata": {
        "colab": {
          "base_uri": "https://localhost:8080/",
          "height": 387
        },
        "id": "WTcXpJLJf6dN",
        "outputId": "a9f458e3-d2b5-4af5-c7ad-946bdde54d43"
      },
      "outputs": [
        {
          "data": {
            "image/svg+xml": "<svg height=\"274pt\" viewBox=\"0.00 0.00 354.00 304.00\" width=\"320pt\" xmlns=\"http://www.w3.org/2000/svg\" xmlns:xlink=\"http://www.w3.org/1999/xlink\">\n<g class=\"graph\" id=\"graph0\" transform=\"scale(.9028 .9028) rotate(0) translate(4 300)\">\n<title>G</title>\n<polygon fill=\"#ffffff\" points=\"-4,4 -4,-300 350,-300 350,4 -4,4\" stroke=\"transparent\"/>\n<!-- 140379751770000 -->\n<g class=\"node\" id=\"node1\">\n<title>140379751770000</title>\n<polygon fill=\"none\" points=\"0,-249.5 0,-295.5 346,-295.5 346,-249.5 0,-249.5\" stroke=\"#000000\"/>\n<text fill=\"#000000\" font-family=\"Times,serif\" font-size=\"14.00\" text-anchor=\"middle\" x=\"59.5\" y=\"-268.8\">embedding_input</text>\n<polyline fill=\"none\" points=\"119,-249.5 119,-295.5 \" stroke=\"#000000\"/>\n<text fill=\"#000000\" font-family=\"Times,serif\" font-size=\"14.00\" text-anchor=\"middle\" x=\"159\" y=\"-268.8\">InputLayer</text>\n<polyline fill=\"none\" points=\"199,-249.5 199,-295.5 \" stroke=\"#000000\"/>\n<text fill=\"#000000\" font-family=\"Times,serif\" font-size=\"14.00\" text-anchor=\"middle\" x=\"228\" y=\"-280.3\">input:</text>\n<polyline fill=\"none\" points=\"199,-272.5 257,-272.5 \" stroke=\"#000000\"/>\n<text fill=\"#000000\" font-family=\"Times,serif\" font-size=\"14.00\" text-anchor=\"middle\" x=\"228\" y=\"-257.3\">output:</text>\n<polyline fill=\"none\" points=\"257,-249.5 257,-295.5 \" stroke=\"#000000\"/>\n<text fill=\"#000000\" font-family=\"Times,serif\" font-size=\"14.00\" text-anchor=\"middle\" x=\"301.5\" y=\"-280.3\">[(None, 29)]</text>\n<polyline fill=\"none\" points=\"257,-272.5 346,-272.5 \" stroke=\"#000000\"/>\n<text fill=\"#000000\" font-family=\"Times,serif\" font-size=\"14.00\" text-anchor=\"middle\" x=\"301.5\" y=\"-257.3\">[(None, 29)]</text>\n</g>\n<!-- 140379742927888 -->\n<g class=\"node\" id=\"node2\">\n<title>140379742927888</title>\n<polygon fill=\"none\" points=\"6.5,-166.5 6.5,-212.5 339.5,-212.5 339.5,-166.5 6.5,-166.5\" stroke=\"#000000\"/>\n<text fill=\"#000000\" font-family=\"Times,serif\" font-size=\"14.00\" text-anchor=\"middle\" x=\"47\" y=\"-185.8\">embedding</text>\n<polyline fill=\"none\" points=\"87.5,-166.5 87.5,-212.5 \" stroke=\"#000000\"/>\n<text fill=\"#000000\" font-family=\"Times,serif\" font-size=\"14.00\" text-anchor=\"middle\" x=\"129.5\" y=\"-185.8\">Embedding</text>\n<polyline fill=\"none\" points=\"171.5,-166.5 171.5,-212.5 \" stroke=\"#000000\"/>\n<text fill=\"#000000\" font-family=\"Times,serif\" font-size=\"14.00\" text-anchor=\"middle\" x=\"200.5\" y=\"-197.3\">input:</text>\n<polyline fill=\"none\" points=\"171.5,-189.5 229.5,-189.5 \" stroke=\"#000000\"/>\n<text fill=\"#000000\" font-family=\"Times,serif\" font-size=\"14.00\" text-anchor=\"middle\" x=\"200.5\" y=\"-174.3\">output:</text>\n<polyline fill=\"none\" points=\"229.5,-166.5 229.5,-212.5 \" stroke=\"#000000\"/>\n<text fill=\"#000000\" font-family=\"Times,serif\" font-size=\"14.00\" text-anchor=\"middle\" x=\"284.5\" y=\"-197.3\">(None, 29)</text>\n<polyline fill=\"none\" points=\"229.5,-189.5 339.5,-189.5 \" stroke=\"#000000\"/>\n<text fill=\"#000000\" font-family=\"Times,serif\" font-size=\"14.00\" text-anchor=\"middle\" x=\"284.5\" y=\"-174.3\">(None, 29, 300)</text>\n</g>\n<!-- 140379751770000&#45;&gt;140379742927888 -->\n<g class=\"edge\" id=\"edge1\">\n<title>140379751770000-&gt;140379742927888</title>\n<path d=\"M173,-249.3799C173,-241.1745 173,-231.7679 173,-222.8786\" fill=\"none\" stroke=\"#000000\"/>\n<polygon fill=\"#000000\" points=\"176.5001,-222.784 173,-212.784 169.5001,-222.784 176.5001,-222.784\" stroke=\"#000000\"/>\n</g>\n<!-- 140379747025552 -->\n<g class=\"node\" id=\"node3\">\n<title>140379747025552</title>\n<polygon fill=\"none\" points=\"47.5,-83.5 47.5,-129.5 298.5,-129.5 298.5,-83.5 47.5,-83.5\" stroke=\"#000000\"/>\n<text fill=\"#000000\" font-family=\"Times,serif\" font-size=\"14.00\" text-anchor=\"middle\" x=\"65.5\" y=\"-102.8\">gru</text>\n<polyline fill=\"none\" points=\"83.5,-83.5 83.5,-129.5 \" stroke=\"#000000\"/>\n<text fill=\"#000000\" font-family=\"Times,serif\" font-size=\"14.00\" text-anchor=\"middle\" x=\"107\" y=\"-102.8\">GRU</text>\n<polyline fill=\"none\" points=\"130.5,-83.5 130.5,-129.5 \" stroke=\"#000000\"/>\n<text fill=\"#000000\" font-family=\"Times,serif\" font-size=\"14.00\" text-anchor=\"middle\" x=\"159.5\" y=\"-114.3\">input:</text>\n<polyline fill=\"none\" points=\"130.5,-106.5 188.5,-106.5 \" stroke=\"#000000\"/>\n<text fill=\"#000000\" font-family=\"Times,serif\" font-size=\"14.00\" text-anchor=\"middle\" x=\"159.5\" y=\"-91.3\">output:</text>\n<polyline fill=\"none\" points=\"188.5,-83.5 188.5,-129.5 \" stroke=\"#000000\"/>\n<text fill=\"#000000\" font-family=\"Times,serif\" font-size=\"14.00\" text-anchor=\"middle\" x=\"243.5\" y=\"-114.3\">(None, 29, 300)</text>\n<polyline fill=\"none\" points=\"188.5,-106.5 298.5,-106.5 \" stroke=\"#000000\"/>\n<text fill=\"#000000\" font-family=\"Times,serif\" font-size=\"14.00\" text-anchor=\"middle\" x=\"243.5\" y=\"-91.3\">(None, 128)</text>\n</g>\n<!-- 140379742927888&#45;&gt;140379747025552 -->\n<g class=\"edge\" id=\"edge2\">\n<title>140379742927888-&gt;140379747025552</title>\n<path d=\"M173,-166.3799C173,-158.1745 173,-148.7679 173,-139.8786\" fill=\"none\" stroke=\"#000000\"/>\n<polygon fill=\"#000000\" points=\"176.5001,-139.784 173,-129.784 169.5001,-139.784 176.5001,-139.784\" stroke=\"#000000\"/>\n</g>\n<!-- 140379742374672 -->\n<g class=\"node\" id=\"node4\">\n<title>140379742374672</title>\n<polygon fill=\"none\" points=\"46,-.5 46,-46.5 300,-46.5 300,-.5 46,-.5\" stroke=\"#000000\"/>\n<text fill=\"#000000\" font-family=\"Times,serif\" font-size=\"14.00\" text-anchor=\"middle\" x=\"70.5\" y=\"-19.8\">dense</text>\n<polyline fill=\"none\" points=\"95,-.5 95,-46.5 \" stroke=\"#000000\"/>\n<text fill=\"#000000\" font-family=\"Times,serif\" font-size=\"14.00\" text-anchor=\"middle\" x=\"121\" y=\"-19.8\">Dense</text>\n<polyline fill=\"none\" points=\"147,-.5 147,-46.5 \" stroke=\"#000000\"/>\n<text fill=\"#000000\" font-family=\"Times,serif\" font-size=\"14.00\" text-anchor=\"middle\" x=\"176\" y=\"-31.3\">input:</text>\n<polyline fill=\"none\" points=\"147,-23.5 205,-23.5 \" stroke=\"#000000\"/>\n<text fill=\"#000000\" font-family=\"Times,serif\" font-size=\"14.00\" text-anchor=\"middle\" x=\"176\" y=\"-8.3\">output:</text>\n<polyline fill=\"none\" points=\"205,-.5 205,-46.5 \" stroke=\"#000000\"/>\n<text fill=\"#000000\" font-family=\"Times,serif\" font-size=\"14.00\" text-anchor=\"middle\" x=\"252.5\" y=\"-31.3\">(None, 128)</text>\n<polyline fill=\"none\" points=\"205,-23.5 300,-23.5 \" stroke=\"#000000\"/>\n<text fill=\"#000000\" font-family=\"Times,serif\" font-size=\"14.00\" text-anchor=\"middle\" x=\"252.5\" y=\"-8.3\">(None, 5000)</text>\n</g>\n<!-- 140379747025552&#45;&gt;140379742374672 -->\n<g class=\"edge\" id=\"edge3\">\n<title>140379747025552-&gt;140379742374672</title>\n<path d=\"M173,-83.3799C173,-75.1745 173,-65.7679 173,-56.8786\" fill=\"none\" stroke=\"#000000\"/>\n<polygon fill=\"#000000\" points=\"176.5001,-56.784 173,-46.784 169.5001,-56.784 176.5001,-56.784\" stroke=\"#000000\"/>\n</g>\n</g>\n</svg>",
            "text/plain": [
              "<IPython.core.display.SVG object>"
            ]
          },
          "execution_count": 19,
          "metadata": {},
          "output_type": "execute_result"
        }
      ],
      "source": [
        "from IPython.display import SVG\n",
        "from keras.utils.vis_utils import model_to_dot\n",
        "\n",
        "%matplotlib inline\n",
        "\n",
        "SVG(model_to_dot(model, show_shapes=True, dpi=65).create(prog='dot', format='svg'))"
      ]
    },
    {
      "cell_type": "code",
      "execution_count": 20,
      "metadata": {
        "colab": {
          "base_uri": "https://localhost:8080/",
          "height": 281
        },
        "id": "AXy02lZLDJB3",
        "outputId": "89546020-c41f-46ec-d580-ecd9b56e060f"
      },
      "outputs": [
        {
          "data": {
            "image/png": "[encoded data removed]",
            "text/plain": [
              "<Figure size 432x288 with 2 Axes>"
            ]
          },
          "metadata": {
            "needs_background": "light"
          },
          "output_type": "display_data"
        }
      ],
      "source": [
        "%matplotlib inline\n",
        "import matplotlib.pyplot as plt\n",
        "\n",
        "fig, loss_ax = plt.subplots()\n",
        "\n",
        "acc_ax = loss_ax.twinx()\n",
        "\n",
        "loss_ax.plot(hist.history['loss'], 'y', label='train loss')\n",
        "loss_ax.plot(hist.history['val_loss'], 'r', label='val loss')\n",
        "\n",
        "acc_ax.plot(hist.history['accuracy'], 'b', label='train acc')\n",
        "acc_ax.plot(hist.history['val_accuracy'], 'g', label='val acc')\n",
        "\n",
        "loss_ax.set_xlabel('epoch')\n",
        "loss_ax.set_ylabel('loss')\n",
        "acc_ax.set_ylabel('accuray')\n",
        "\n",
        "loss_ax.legend(loc='upper left')\n",
        "acc_ax.legend(loc='lower left')\n",
        "\n",
        "plt.show()\n"
      ]
    },
    {
      "cell_type": "code",
      "execution_count": 21,
      "metadata": {
        "colab": {
          "base_uri": "https://localhost:8080/"
        },
        "id": "NVEUJNcgF5v8",
        "outputId": "e3aaf4fe-e11e-4e09-cc2a-ed1fe1a6ed9f"
      },
      "outputs": [
        {
          "name": "stdout",
          "output_type": "stream",
          "text": [
            "13/13 [==============================] - 0s 10ms/step - loss: 0.8811 - accuracy: 0.7938\n",
            "\n",
            "loss : 0.8811118602752686\n",
            "accuray : 0.7938144207000732\n"
          ]
        }
      ],
      "source": [
        "loss_and_metrics = model.evaluate(X_test, y_test, batch_size=32)\n",
        "\n",
        "print('')\n",
        "print('loss : ' + str(loss_and_metrics[0]))\n",
        "print('accuray : ' + str(loss_and_metrics[1]))"
      ]
    },
    {
      "cell_type": "code",
      "execution_count": 22,
      "metadata": {
        "colab": {
          "base_uri": "https://localhost:8080/",
          "height": 35
        },
        "id": "AblqWiyVGLsQ",
        "outputId": "7b39ca10-fb75-40d5-e50d-91cbe7d1a74f"
      },
      "outputs": [
        {
          "data": {
            "application/vnd.google.colaboratory.intrinsic+json": {
              "type": "string"
            },
            "text/plain": [
              "'차가 있습니다'"
            ]
          },
          "execution_count": 22,
          "metadata": {},
          "output_type": "execute_result"
        }
      ],
      "source": [
        "n = 35\n",
        "max_len = 30\n",
        "\n",
        "\n",
        "current_word = '차'\n",
        "init_word = current_word # 처음 들어온 단어도 마지막에 같이 출력하기위해 저장\n",
        "sentence = ''\n",
        "\n",
        "for _ in range(n): # n번 반복\n",
        "    encoded = [char2idx[token] for token in current_word]#t.texts_to_sequences([current_word])[0] \n",
        "    # 현재 단어에 대한 정수 인코딩\n",
        "    \n",
        "    encoded = pad_sequences([encoded], maxlen=max_len-1, padding='pre') \n",
        "    # 데이터에 대한 패딩\n",
        "    \n",
        "    result = np.argmax(model.predict(encoded), axis=-1) \n",
        "\t\n",
        "    # 입력한 X(현재 단어)에 대해서 Y를 예측하고 Y(예측한 단어)를 result에 저장.\n",
        "    for word, index in char2idx.items(): \n",
        "        if index == result: # 만약 예측한 단어와 인덱스와 동일한 단어가 있다면\n",
        "            break # 해당 단어가 예측 단어이므로 break\n",
        "    current_word = current_word + word # 현재 단어 + ' ' + 예측 단어를 현재 단어로 변경\n",
        "    sentence = sentence + word # 예측 단어를 문장에 저장\n",
        "    if word == '<EOS>':\n",
        "        break;\n",
        "# for문이므로 이 행동을 다시 반복\n",
        "sentence = init_word + sentence\n",
        "sentence.replace('<EOS>',\"\")"
      ]
    },
    {
      "cell_type": "code",
      "execution_count": 23,
      "metadata": {
        "colab": {
          "base_uri": "https://localhost:8080/",
          "height": 35
        },
        "id": "_FlANvt-S_Vu",
        "outputId": "1cd61c25-8f09-41e5-ac31-58b91f92722d"
      },
      "outputs": [
        {
          "data": {
            "application/vnd.google.colaboratory.intrinsic+json": {
              "type": "string"
            },
            "text/plain": [
              "'사람이 다가오고 있습니다'"
            ]
          },
          "execution_count": 23,
          "metadata": {},
          "output_type": "execute_result"
        }
      ],
      "source": [
        "n = 35\n",
        "\n",
        "\n",
        "current_word = '사람이'\n",
        "init_word = current_word # 처음 들어온 단어도 마지막에 같이 출력하기위해 저장\n",
        "sentence = ''\n",
        "\n",
        "for _ in range(n): # n번 반복\n",
        "    encoded = [char2idx[token] for token in current_word]#t.texts_to_sequences([current_word])[0] \n",
        "    # 현재 단어에 대한 정수 인코딩\n",
        "    \n",
        "    encoded = pad_sequences([encoded], maxlen=max_len-1, padding='pre') \n",
        "    # 데이터에 대한 패딩\n",
        "    \n",
        "    result = np.argmax(model.predict(encoded), axis=-1) \n",
        "\t\n",
        "    # 입력한 X(현재 단어)에 대해서 Y를 예측하고 Y(예측한 단어)를 result에 저장.\n",
        "    for word, index in char2idx.items(): \n",
        "        if index == result: # 만약 예측한 단어와 인덱스와 동일한 단어가 있다면\n",
        "            break # 해당 단어가 예측 단어이므로 break\n",
        "    current_word = current_word + word # 현재 단어 + ' ' + 예측 단어를 현재 단어로 변경\n",
        "    sentence = sentence + word # 예측 단어를 문장에 저장\n",
        "    if word == '<EOS>':\n",
        "        break;\n",
        "# for문이므로 이 행동을 다시 반복\n",
        "sentence = init_word + sentence\n",
        "sentence.replace('<EOS>',\"\")"
      ]
    },
    {
      "cell_type": "code",
      "execution_count": 25,
      "metadata": {
        "colab": {
          "base_uri": "https://localhost:8080/",
          "height": 35
        },
        "id": "BBN5yDGpTh2R",
        "outputId": "92210078-f868-4fb9-e683-de7253b1df1b"
      },
      "outputs": [
        {
          "data": {
            "application/vnd.google.colaboratory.intrinsic+json": {
              "type": "string"
            },
            "text/plain": [
              "'사람들이 여럿 있습니다'"
            ]
          },
          "execution_count": 25,
          "metadata": {},
          "output_type": "execute_result"
        }
      ],
      "source": [
        "n = 35\n",
        "\n",
        "\n",
        "current_word = '사람들이'\n",
        "init_word = current_word # 처음 들어온 단어도 마지막에 같이 출력하기위해 저장\n",
        "sentence = ''\n",
        "\n",
        "for _ in range(n): # n번 반복\n",
        "    encoded = [char2idx[token] for token in current_word]#t.texts_to_sequences([current_word])[0] \n",
        "    # 현재 단어에 대한 정수 인코딩\n",
        "    \n",
        "    encoded = pad_sequences([encoded], maxlen=max_len-1, padding='pre') \n",
        "    # 데이터에 대한 패딩\n",
        "    \n",
        "    result = np.argmax(model.predict(encoded), axis=-1) \n",
        "\t\n",
        "    # 입력한 X(현재 단어)에 대해서 Y를 예측하고 Y(예측한 단어)를 result에 저장.\n",
        "    for word, index in char2idx.items(): \n",
        "        if index == result: # 만약 예측한 단어와 인덱스와 동일한 단어가 있다면\n",
        "            break # 해당 단어가 예측 단어이므로 break\n",
        "    current_word = current_word + word # 현재 단어 + ' ' + 예측 단어를 현재 단어로 변경\n",
        "    sentence = sentence + word # 예측 단어를 문장에 저장\n",
        "    if word == '<EOS>':\n",
        "        break;\n",
        "# for문이므로 이 행동을 다시 반복\n",
        "sentence = init_word + sentence\n",
        "sentence.replace('<EOS>',\"\")"
      ]
    },
    {
      "cell_type": "code",
      "execution_count": 26,
      "metadata": {
        "colab": {
          "base_uri": "https://localhost:8080/"
        },
        "id": "YWtT-UWzT7mb",
        "outputId": "419b57e0-ef6b-4a35-fcf3-64eb3cf56c97"
      },
      "outputs": [
        {
          "name": "stdout",
          "output_type": "stream",
          "text": [
            "사람이 다가오고 있습니다<EOS>\n",
            "차가 있습니다<EOS>\n"
          ]
        }
      ],
      "source": [
        "n = 35\n",
        "key = ['사람', '차']\n",
        "for k in key:\n",
        "  current_word = k\n",
        "  init_word = current_word # 처음 들어온 단어도 마지막에 같이 출력하기위해 저장\n",
        "  sentence = ''\n",
        "  for _ in range(n): # n번 반복\n",
        "      encoded = [char2idx[token] for token in current_word]#t.texts_to_sequences([current_word])[0] \n",
        "      # 현재 단어에 대한 정수 인코딩\n",
        "      \n",
        "      encoded = pad_sequences([encoded], maxlen=max_len-1, padding='pre') \n",
        "      # 데이터에 대한 패딩\n",
        "      \n",
        "      result = np.argmax(model.predict(encoded), axis=-1) \n",
        "    \n",
        "      # 입력한 X(현재 단어)에 대해서 Y를 예측하고 Y(예측한 단어)를 result에 저장.\n",
        "      for word, index in char2idx.items(): \n",
        "          if index == result: # 만약 예측한 단어와 인덱스와 동일한 단어가 있다면\n",
        "              break # 해당 단어가 예측 단어이므로 break\n",
        "      current_word = current_word + word # 현재 단어 + ' ' + 예측 단어를 현재 단어로 변경\n",
        "      sentence = sentence + word # 예측 단어를 문장에 저장\n",
        "      if word == '<EOS>':\n",
        "          break;\n",
        "  # for문이므로 이 행동을 다시 반복\n",
        "  sentence = init_word + sentence\n",
        "  sentence.replace('<EOS>',\"\")\n",
        "  print(sentence)"
      ]
    },
    {
      "cell_type": "markdown",
      "metadata": {
        "id": "t93MDv1t01kv"
      },
      "source": [
        "모델 저장"
      ]
    },
    {
      "cell_type": "code",
      "execution_count": 27,
      "metadata": {
        "id": "GFDb6XF1GeHN"
      },
      "outputs": [],
      "source": [
        "from keras.models import load_model\n",
        "model.save('senten_generating_model.h5')"
      ]
    },
    {
      "cell_type": "markdown",
      "metadata": {
        "id": "zyjEWuWo8hhP"
      },
      "source": [
        "모델 불러와 사용해보기"
      ]
    },
    {
      "cell_type": "code",
      "execution_count": 40,
      "metadata": {
        "id": "_8eh5fcdoAav"
      },
      "outputs": [],
      "source": [
        "from keras.utils import np_utils\n",
        "from keras.datasets import mnist\n",
        "from keras.models import Sequential\n",
        "from keras.layers import Dense, Activation\n",
        "import numpy as np\n",
        "from numpy import argmax\n",
        "\n",
        "from keras.models import load_model\n",
        "model = load_model('/content/senten_generating_model.h5')"
      ]
    },
    {
      "cell_type": "code",
      "execution_count": 41,
      "metadata": {
        "colab": {
          "base_uri": "https://localhost:8080/",
          "height": 387
        },
        "id": "86gdzLKUHzRy",
        "outputId": "c4ccb2ac-d1eb-481e-e912-36d3b3432062"
      },
      "outputs": [
        {
          "data": {
            "image/svg+xml": "<svg height=\"274pt\" viewBox=\"0.00 0.00 354.00 304.00\" width=\"320pt\" xmlns=\"http://www.w3.org/2000/svg\" xmlns:xlink=\"http://www.w3.org/1999/xlink\">\n<g class=\"graph\" id=\"graph0\" transform=\"scale(.9028 .9028) rotate(0) translate(4 300)\">\n<title>G</title>\n<polygon fill=\"#ffffff\" points=\"-4,4 -4,-300 350,-300 350,4 -4,4\" stroke=\"transparent\"/>\n<!-- 140377150519376 -->\n<g class=\"node\" id=\"node1\">\n<title>140377150519376</title>\n<polygon fill=\"none\" points=\"0,-249.5 0,-295.5 346,-295.5 346,-249.5 0,-249.5\" stroke=\"#000000\"/>\n<text fill=\"#000000\" font-family=\"Times,serif\" font-size=\"14.00\" text-anchor=\"middle\" x=\"59.5\" y=\"-268.8\">embedding_input</text>\n<polyline fill=\"none\" points=\"119,-249.5 119,-295.5 \" stroke=\"#000000\"/>\n<text fill=\"#000000\" font-family=\"Times,serif\" font-size=\"14.00\" text-anchor=\"middle\" x=\"159\" y=\"-268.8\">InputLayer</text>\n<polyline fill=\"none\" points=\"199,-249.5 199,-295.5 \" stroke=\"#000000\"/>\n<text fill=\"#000000\" font-family=\"Times,serif\" font-size=\"14.00\" text-anchor=\"middle\" x=\"228\" y=\"-280.3\">input:</text>\n<polyline fill=\"none\" points=\"199,-272.5 257,-272.5 \" stroke=\"#000000\"/>\n<text fill=\"#000000\" font-family=\"Times,serif\" font-size=\"14.00\" text-anchor=\"middle\" x=\"228\" y=\"-257.3\">output:</text>\n<polyline fill=\"none\" points=\"257,-249.5 257,-295.5 \" stroke=\"#000000\"/>\n<text fill=\"#000000\" font-family=\"Times,serif\" font-size=\"14.00\" text-anchor=\"middle\" x=\"301.5\" y=\"-280.3\">[(None, 29)]</text>\n<polyline fill=\"none\" points=\"257,-272.5 346,-272.5 \" stroke=\"#000000\"/>\n<text fill=\"#000000\" font-family=\"Times,serif\" font-size=\"14.00\" text-anchor=\"middle\" x=\"301.5\" y=\"-257.3\">[(None, 29)]</text>\n</g>\n<!-- 140377150519504 -->\n<g class=\"node\" id=\"node2\">\n<title>140377150519504</title>\n<polygon fill=\"none\" points=\"6.5,-166.5 6.5,-212.5 339.5,-212.5 339.5,-166.5 6.5,-166.5\" stroke=\"#000000\"/>\n<text fill=\"#000000\" font-family=\"Times,serif\" font-size=\"14.00\" text-anchor=\"middle\" x=\"47\" y=\"-185.8\">embedding</text>\n<polyline fill=\"none\" points=\"87.5,-166.5 87.5,-212.5 \" stroke=\"#000000\"/>\n<text fill=\"#000000\" font-family=\"Times,serif\" font-size=\"14.00\" text-anchor=\"middle\" x=\"129.5\" y=\"-185.8\">Embedding</text>\n<polyline fill=\"none\" points=\"171.5,-166.5 171.5,-212.5 \" stroke=\"#000000\"/>\n<text fill=\"#000000\" font-family=\"Times,serif\" font-size=\"14.00\" text-anchor=\"middle\" x=\"200.5\" y=\"-197.3\">input:</text>\n<polyline fill=\"none\" points=\"171.5,-189.5 229.5,-189.5 \" stroke=\"#000000\"/>\n<text fill=\"#000000\" font-family=\"Times,serif\" font-size=\"14.00\" text-anchor=\"middle\" x=\"200.5\" y=\"-174.3\">output:</text>\n<polyline fill=\"none\" points=\"229.5,-166.5 229.5,-212.5 \" stroke=\"#000000\"/>\n<text fill=\"#000000\" font-family=\"Times,serif\" font-size=\"14.00\" text-anchor=\"middle\" x=\"284.5\" y=\"-197.3\">(None, 29)</text>\n<polyline fill=\"none\" points=\"229.5,-189.5 339.5,-189.5 \" stroke=\"#000000\"/>\n<text fill=\"#000000\" font-family=\"Times,serif\" font-size=\"14.00\" text-anchor=\"middle\" x=\"284.5\" y=\"-174.3\">(None, 29, 300)</text>\n</g>\n<!-- 140377150519376&#45;&gt;140377150519504 -->\n<g class=\"edge\" id=\"edge1\">\n<title>140377150519376-&gt;140377150519504</title>\n<path d=\"M173,-249.3799C173,-241.1745 173,-231.7679 173,-222.8786\" fill=\"none\" stroke=\"#000000\"/>\n<polygon fill=\"#000000\" points=\"176.5001,-222.784 173,-212.784 169.5001,-222.784 176.5001,-222.784\" stroke=\"#000000\"/>\n</g>\n<!-- 140377170477776 -->\n<g class=\"node\" id=\"node3\">\n<title>140377170477776</title>\n<polygon fill=\"none\" points=\"47.5,-83.5 47.5,-129.5 298.5,-129.5 298.5,-83.5 47.5,-83.5\" stroke=\"#000000\"/>\n<text fill=\"#000000\" font-family=\"Times,serif\" font-size=\"14.00\" text-anchor=\"middle\" x=\"65.5\" y=\"-102.8\">gru</text>\n<polyline fill=\"none\" points=\"83.5,-83.5 83.5,-129.5 \" stroke=\"#000000\"/>\n<text fill=\"#000000\" font-family=\"Times,serif\" font-size=\"14.00\" text-anchor=\"middle\" x=\"107\" y=\"-102.8\">GRU</text>\n<polyline fill=\"none\" points=\"130.5,-83.5 130.5,-129.5 \" stroke=\"#000000\"/>\n<text fill=\"#000000\" font-family=\"Times,serif\" font-size=\"14.00\" text-anchor=\"middle\" x=\"159.5\" y=\"-114.3\">input:</text>\n<polyline fill=\"none\" points=\"130.5,-106.5 188.5,-106.5 \" stroke=\"#000000\"/>\n<text fill=\"#000000\" font-family=\"Times,serif\" font-size=\"14.00\" text-anchor=\"middle\" x=\"159.5\" y=\"-91.3\">output:</text>\n<polyline fill=\"none\" points=\"188.5,-83.5 188.5,-129.5 \" stroke=\"#000000\"/>\n<text fill=\"#000000\" font-family=\"Times,serif\" font-size=\"14.00\" text-anchor=\"middle\" x=\"243.5\" y=\"-114.3\">(None, 29, 300)</text>\n<polyline fill=\"none\" points=\"188.5,-106.5 298.5,-106.5 \" stroke=\"#000000\"/>\n<text fill=\"#000000\" font-family=\"Times,serif\" font-size=\"14.00\" text-anchor=\"middle\" x=\"243.5\" y=\"-91.3\">(None, 128)</text>\n</g>\n<!-- 140377150519504&#45;&gt;140377170477776 -->\n<g class=\"edge\" id=\"edge2\">\n<title>140377150519504-&gt;140377170477776</title>\n<path d=\"M173,-166.3799C173,-158.1745 173,-148.7679 173,-139.8786\" fill=\"none\" stroke=\"#000000\"/>\n<polygon fill=\"#000000\" points=\"176.5001,-139.784 173,-129.784 169.5001,-139.784 176.5001,-139.784\" stroke=\"#000000\"/>\n</g>\n<!-- 140377170528400 -->\n<g class=\"node\" id=\"node4\">\n<title>140377170528400</title>\n<polygon fill=\"none\" points=\"46,-.5 46,-46.5 300,-46.5 300,-.5 46,-.5\" stroke=\"#000000\"/>\n<text fill=\"#000000\" font-family=\"Times,serif\" font-size=\"14.00\" text-anchor=\"middle\" x=\"70.5\" y=\"-19.8\">dense</text>\n<polyline fill=\"none\" points=\"95,-.5 95,-46.5 \" stroke=\"#000000\"/>\n<text fill=\"#000000\" font-family=\"Times,serif\" font-size=\"14.00\" text-anchor=\"middle\" x=\"121\" y=\"-19.8\">Dense</text>\n<polyline fill=\"none\" points=\"147,-.5 147,-46.5 \" stroke=\"#000000\"/>\n<text fill=\"#000000\" font-family=\"Times,serif\" font-size=\"14.00\" text-anchor=\"middle\" x=\"176\" y=\"-31.3\">input:</text>\n<polyline fill=\"none\" points=\"147,-23.5 205,-23.5 \" stroke=\"#000000\"/>\n<text fill=\"#000000\" font-family=\"Times,serif\" font-size=\"14.00\" text-anchor=\"middle\" x=\"176\" y=\"-8.3\">output:</text>\n<polyline fill=\"none\" points=\"205,-.5 205,-46.5 \" stroke=\"#000000\"/>\n<text fill=\"#000000\" font-family=\"Times,serif\" font-size=\"14.00\" text-anchor=\"middle\" x=\"252.5\" y=\"-31.3\">(None, 128)</text>\n<polyline fill=\"none\" points=\"205,-23.5 300,-23.5 \" stroke=\"#000000\"/>\n<text fill=\"#000000\" font-family=\"Times,serif\" font-size=\"14.00\" text-anchor=\"middle\" x=\"252.5\" y=\"-8.3\">(None, 5000)</text>\n</g>\n<!-- 140377170477776&#45;&gt;140377170528400 -->\n<g class=\"edge\" id=\"edge3\">\n<title>140377170477776-&gt;140377170528400</title>\n<path d=\"M173,-83.3799C173,-75.1745 173,-65.7679 173,-56.8786\" fill=\"none\" stroke=\"#000000\"/>\n<polygon fill=\"#000000\" points=\"176.5001,-56.784 173,-46.784 169.5001,-56.784 176.5001,-56.784\" stroke=\"#000000\"/>\n</g>\n</g>\n</svg>",
            "text/plain": [
              "<IPython.core.display.SVG object>"
            ]
          },
          "execution_count": 41,
          "metadata": {},
          "output_type": "execute_result"
        }
      ],
      "source": [
        "from IPython.display import SVG\n",
        "from keras.utils.vis_utils import model_to_dot\n",
        "\n",
        "%matplotlib inline\n",
        "\n",
        "SVG(model_to_dot(model, show_shapes=True, dpi=65).create(prog='dot', format='svg'))"
      ]
    },
    {
      "cell_type": "code",
      "execution_count": 42,
      "metadata": {
        "colab": {
          "base_uri": "https://localhost:8080/"
        },
        "id": "Dte2Iptn03vA",
        "outputId": "18006cfd-36b4-4e15-9d7c-7ad2397a8ddc"
      },
      "outputs": [
        {
          "name": "stdout",
          "output_type": "stream",
          "text": [
            "{'자': 1, '거': 2, '동': 3, '를': 4, '른': 5, ' ': 6, '럿': 7, '치': 8, '앞': 9, '오': 10, '갑': 11, '바': 12, '보': 13, '러': 14, '가': 15, ',': 16, '옵': 17, '되': 18, '킥': 19, '대': 20, '옆': 21, '다': 22, '설': 23, '져': 24, '세': 25, '탄': 26, '습': 27, '서': 28, '둘': 29, '전': 30, '과': 31, '들': 32, '볼': 33, '람': 34, '토': 35, '어': 36, '늘': 37, '여': 38, '쪽': 39, '사': 40, '니': 41, '차': 42, '라': 43, '이': 44, '에': 45, '워': 46, '두': 47, '걸': 48, '고': 49, '있': 50, '놓': 51, '몇': 52, '<EOS>': 53, '타': 54, '드': 55, '와': 56}\n"
          ]
        }
      ],
      "source": [
        "import pickle\n",
        "\n",
        "# load data\n",
        "with open('/Users/hongseongmi/Documents/git_ws/Yooninahong/description/data/char2idx.pickle', 'rb') as fr:\n",
        "    train = pickle.load(fr)\n",
        "\n",
        "# show data\n",
        "print(train)"
      ]
    },
    {
      "cell_type": "code",
      "execution_count": 43,
      "metadata": {
        "colab": {
          "base_uri": "https://localhost:8080/",
          "height": 35
        },
        "id": "D5shXlLXH5xa",
        "outputId": "93ab4d38-bd02-4e14-f63e-68cd0b795f10"
      },
      "outputs": [
        {
          "data": {
            "application/vnd.google.colaboratory.intrinsic+json": {
              "type": "string"
            },
            "text/plain": [
              "'사람이 다가오고 있습니다'"
            ]
          },
          "execution_count": 43,
          "metadata": {},
          "output_type": "execute_result"
        }
      ],
      "source": [
        "n = 35\n",
        "max_len = 30\n",
        "\n",
        "current_word = '사람'\n",
        "init_word = current_word # 처음 들어온 단어도 마지막에 같이 출력하기위해 저장\n",
        "sentence = ''\n",
        "\n",
        "for _ in range(n): # n번 반복\n",
        "    encoded = [char2idx[token] for token in current_word]#t.texts_to_sequences([current_word])[0] \n",
        "    # 현재 단어에 대한 정수 인코딩\n",
        "    \n",
        "    encoded = pad_sequences([encoded], maxlen=max_len-1, padding='pre') \n",
        "    # 데이터에 대한 패딩\n",
        "    \n",
        "    result = np.argmax(model.predict(encoded), axis=-1) \n",
        "\t\n",
        "    # 입력한 X(현재 단어)에 대해서 Y를 예측하고 Y(예측한 단어)를 result에 저장.\n",
        "    for word, index in char2idx.items(): \n",
        "        if index == result: # 만약 예측한 단어와 인덱스와 동일한 단어가 있다면\n",
        "            break # 해당 단어가 예측 단어이므로 break\n",
        "    current_word = current_word + word # 현재 단어 + ' ' + 예측 단어를 현재 단어로 변경\n",
        "    sentence = sentence + word # 예측 단어를 문장에 저장\n",
        "    if word == '<EOS>':\n",
        "        break;\n",
        "# for문이므로 이 행동을 다시 반복\n",
        "sentence = init_word + sentence\n",
        "sentence.replace('<EOS>',\"\")"
      ]
    },
    {
      "cell_type": "code",
      "execution_count": 31,
      "metadata": {
        "colab": {
          "base_uri": "https://localhost:8080/",
          "height": 35
        },
        "id": "iGbJVMe1-9l-",
        "outputId": "d766986d-d4d4-4dfe-8088-d2f3755d8ca7"
      },
      "outputs": [
        {
          "data": {
            "application/vnd.google.colaboratory.intrinsic+json": {
              "type": "string"
            },
            "text/plain": [
              "'차가 있습니다'"
            ]
          },
          "execution_count": 31,
          "metadata": {},
          "output_type": "execute_result"
        }
      ],
      "source": [
        "n = 35\n",
        "max_len = 30\n",
        "\n",
        "current_word = '차'\n",
        "init_word = current_word # 처음 들어온 단어도 마지막에 같이 출력하기위해 저장\n",
        "sentence = ''\n",
        "\n",
        "for _ in range(n): # n번 반복\n",
        "    encoded = [char2idx[token] for token in current_word]#t.texts_to_sequences([current_word])[0] \n",
        "    # 현재 단어에 대한 정수 인코딩\n",
        "    \n",
        "    encoded = pad_sequences([encoded], maxlen=max_len-1, padding='pre') \n",
        "    # 데이터에 대한 패딩\n",
        "    \n",
        "    result = np.argmax(model.predict(encoded), axis=-1) \n",
        "\t\n",
        "    # 입력한 X(현재 단어)에 대해서 Y를 예측하고 Y(예측한 단어)를 result에 저장.\n",
        "    for word, index in char2idx.items(): \n",
        "        if index == result: # 만약 예측한 단어와 인덱스와 동일한 단어가 있다면\n",
        "            break # 해당 단어가 예측 단어이므로 break\n",
        "    current_word = current_word + word # 현재 단어 + ' ' + 예측 단어를 현재 단어로 변경\n",
        "    sentence = sentence + word # 예측 단어를 문장에 저장\n",
        "    if word == '<EOS>':\n",
        "        break;\n",
        "# for문이므로 이 행동을 다시 반복\n",
        "sentence = init_word + sentence\n",
        "sentence.replace('<EOS>',\"\")"
      ]
    },
    {
      "cell_type": "code",
      "execution_count": 44,
      "metadata": {
        "colab": {
          "base_uri": "https://localhost:8080/"
        },
        "id": "hbG2b1-W9P5x",
        "outputId": "2f967c36-334d-49c3-d9d3-c880821ccf3b"
      },
      "outputs": [
        {
          "name": "stdout",
          "output_type": "stream",
          "text": [
            "2\n",
            "사람이 다가오고 있고 \n",
            "차가 있습니다\n",
            "사람이 다가오고 있고 차가 있습니다\n"
          ]
        }
      ],
      "source": [
        "n = 35\n",
        "max_len = 30\n",
        "total = []\n",
        "\n",
        "key = ['사람', '차']\n",
        "klen = len(key)\n",
        "print(klen)\n",
        "\n",
        "for k in key:\n",
        "  current_word = k\n",
        "  init_word = current_word # 처음 들어온 단어도 마지막에 같이 출력하기위해 저장\n",
        "  sentence = ''\n",
        "  for _ in range(n): # n번 반복\n",
        "      encoded = [char2idx[token] for token in current_word]#t.texts_to_sequences([current_word])[0] \n",
        "      # 현재 단어에 대한 정수 인코딩\n",
        "      \n",
        "      encoded = pad_sequences([encoded], maxlen=max_len-1, padding='pre') \n",
        "      # 데이터에 대한 패딩\n",
        "      \n",
        "      result = np.argmax(model.predict(encoded), axis=-1) \n",
        "    \n",
        "      # 입력한 X(현재 단어)에 대해서 Y를 예측하고 Y(예측한 단어)를 result에 저장.\n",
        "      for word, index in char2idx.items(): \n",
        "          if index == result: # 만약 예측한 단어와 인덱스와 동일한 단어가 있다면\n",
        "              break # 해당 단어가 예측 단어이므로 break\n",
        "      current_word = current_word + word # 현재 단어 + ' ' + 예측 단어를 현재 단어로 변경\n",
        "      sentence = sentence + word # 예측 단어를 문장에 저장\n",
        "      if word == '<EOS>':\n",
        "          break;\n",
        "  # for문이므로 이 행동을 다시 반복\n",
        "  sentence = init_word + sentence\n",
        "  if klen > 1:\n",
        "    sentence = sentence.replace('습니다<EOS>',\"고 \")\n",
        "    klen -= 1\n",
        "  else:\n",
        "    sentence = sentence.replace('<EOS>',\"\")\n",
        "  print(sentence)\n",
        "  total.append(sentence)\n",
        "\n",
        "print(''.join(total))"
      ]
    },
    {
      "cell_type": "code",
      "execution_count": null,
      "metadata": {
        "id": "JHu_EAXTH-a7"
      },
      "outputs": [],
      "source": []
    }
  ],
  "metadata": {
    "accelerator": "GPU",
    "colab": {
      "name": "sentenceGenerate.ipynb",
      "provenance": []
    },
    "kernelspec": {
      "display_name": "Python 3",
      "name": "python3"
    },
    "language_info": {
      "name": "python"
    }
  },
  "nbformat": 4,
  "nbformat_minor": 0
}
