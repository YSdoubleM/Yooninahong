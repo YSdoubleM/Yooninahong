{
  "nbformat": 4,
  "nbformat_minor": 0,
  "metadata": {
    "colab": {
      "name": "sentenceGenerate.ipynb",
      "provenance": [],
      "collapsed_sections": []
    },
    "kernelspec": {
      "name": "python3",
      "display_name": "Python 3"
    },
    "language_info": {
      "name": "python"
    },
    "accelerator": "GPU"
  },
  "cells": [
    {
      "cell_type": "code",
      "source": [
        "import pandas as pd"
      ],
      "metadata": {
        "id": "cHzDHDL0WwcM"
      },
      "execution_count": null,
      "outputs": []
    },
    {
      "cell_type": "code",
      "source": [
        "head = ['sentence']\n",
        "\n",
        "df = pd.read_table('/content/content.txt', names=head)\n",
        "df.head()"
      ],
      "metadata": {
        "colab": {
          "base_uri": "https://localhost:8080/",
          "height": 206
        },
        "id": "aSG3mvIC_4KA",
        "outputId": "59ca6232-062e-4f7b-d66c-ef8e66a20785"
      },
      "execution_count": null,
      "outputs": [
        {
          "output_type": "execute_result",
          "data": {
            "text/html": [
              "\n",
              "  <div id=\"df-1869314e-7545-42d6-a83c-7b9e6a634d68\">\n",
              "    <div class=\"colab-df-container\">\n",
              "      <div>\n",
              "<style scoped>\n",
              "    .dataframe tbody tr th:only-of-type {\n",
              "        vertical-align: middle;\n",
              "    }\n",
              "\n",
              "    .dataframe tbody tr th {\n",
              "        vertical-align: top;\n",
              "    }\n",
              "\n",
              "    .dataframe thead th {\n",
              "        text-align: right;\n",
              "    }\n",
              "</style>\n",
              "<table border=\"1\" class=\"dataframe\">\n",
              "  <thead>\n",
              "    <tr style=\"text-align: right;\">\n",
              "      <th></th>\n",
              "      <th>sentence</th>\n",
              "    </tr>\n",
              "  </thead>\n",
              "  <tbody>\n",
              "    <tr>\n",
              "      <th>0</th>\n",
              "      <td>사람이 다가오고 있습니다</td>\n",
              "    </tr>\n",
              "    <tr>\n",
              "      <th>1</th>\n",
              "      <td>사람과 자전거가 다가오고 있습니다</td>\n",
              "    </tr>\n",
              "    <tr>\n",
              "      <th>2</th>\n",
              "      <td>자전거와 사람이 다가오고 있습니다</td>\n",
              "    </tr>\n",
              "    <tr>\n",
              "      <th>3</th>\n",
              "      <td>사람과 자전거가 있습니다</td>\n",
              "    </tr>\n",
              "    <tr>\n",
              "      <th>4</th>\n",
              "      <td>자전거와 사람이 있습니다</td>\n",
              "    </tr>\n",
              "  </tbody>\n",
              "</table>\n",
              "</div>\n",
              "      <button class=\"colab-df-convert\" onclick=\"convertToInteractive('df-1869314e-7545-42d6-a83c-7b9e6a634d68')\"\n",
              "              title=\"Convert this dataframe to an interactive table.\"\n",
              "              style=\"display:none;\">\n",
              "        \n",
              "  <svg xmlns=\"http://www.w3.org/2000/svg\" height=\"24px\"viewBox=\"0 0 24 24\"\n",
              "       width=\"24px\">\n",
              "    <path d=\"M0 0h24v24H0V0z\" fill=\"none\"/>\n",
              "    <path d=\"M18.56 5.44l.94 2.06.94-2.06 2.06-.94-2.06-.94-.94-2.06-.94 2.06-2.06.94zm-11 1L8.5 8.5l.94-2.06 2.06-.94-2.06-.94L8.5 2.5l-.94 2.06-2.06.94zm10 10l.94 2.06.94-2.06 2.06-.94-2.06-.94-.94-2.06-.94 2.06-2.06.94z\"/><path d=\"M17.41 7.96l-1.37-1.37c-.4-.4-.92-.59-1.43-.59-.52 0-1.04.2-1.43.59L10.3 9.45l-7.72 7.72c-.78.78-.78 2.05 0 2.83L4 21.41c.39.39.9.59 1.41.59.51 0 1.02-.2 1.41-.59l7.78-7.78 2.81-2.81c.8-.78.8-2.07 0-2.86zM5.41 20L4 18.59l7.72-7.72 1.47 1.35L5.41 20z\"/>\n",
              "  </svg>\n",
              "      </button>\n",
              "      \n",
              "  <style>\n",
              "    .colab-df-container {\n",
              "      display:flex;\n",
              "      flex-wrap:wrap;\n",
              "      gap: 12px;\n",
              "    }\n",
              "\n",
              "    .colab-df-convert {\n",
              "      background-color: #E8F0FE;\n",
              "      border: none;\n",
              "      border-radius: 50%;\n",
              "      cursor: pointer;\n",
              "      display: none;\n",
              "      fill: #1967D2;\n",
              "      height: 32px;\n",
              "      padding: 0 0 0 0;\n",
              "      width: 32px;\n",
              "    }\n",
              "\n",
              "    .colab-df-convert:hover {\n",
              "      background-color: #E2EBFA;\n",
              "      box-shadow: 0px 1px 2px rgba(60, 64, 67, 0.3), 0px 1px 3px 1px rgba(60, 64, 67, 0.15);\n",
              "      fill: #174EA6;\n",
              "    }\n",
              "\n",
              "    [theme=dark] .colab-df-convert {\n",
              "      background-color: #3B4455;\n",
              "      fill: #D2E3FC;\n",
              "    }\n",
              "\n",
              "    [theme=dark] .colab-df-convert:hover {\n",
              "      background-color: #434B5C;\n",
              "      box-shadow: 0px 1px 3px 1px rgba(0, 0, 0, 0.15);\n",
              "      filter: drop-shadow(0px 1px 2px rgba(0, 0, 0, 0.3));\n",
              "      fill: #FFFFFF;\n",
              "    }\n",
              "  </style>\n",
              "\n",
              "      <script>\n",
              "        const buttonEl =\n",
              "          document.querySelector('#df-1869314e-7545-42d6-a83c-7b9e6a634d68 button.colab-df-convert');\n",
              "        buttonEl.style.display =\n",
              "          google.colab.kernel.accessAllowed ? 'block' : 'none';\n",
              "\n",
              "        async function convertToInteractive(key) {\n",
              "          const element = document.querySelector('#df-1869314e-7545-42d6-a83c-7b9e6a634d68');\n",
              "          const dataTable =\n",
              "            await google.colab.kernel.invokeFunction('convertToInteractive',\n",
              "                                                     [key], {});\n",
              "          if (!dataTable) return;\n",
              "\n",
              "          const docLinkHtml = 'Like what you see? Visit the ' +\n",
              "            '<a target=\"_blank\" href=https://colab.research.google.com/notebooks/data_table.ipynb>data table notebook</a>'\n",
              "            + ' to learn more about interactive tables.';\n",
              "          element.innerHTML = '';\n",
              "          dataTable['output_type'] = 'display_data';\n",
              "          await google.colab.output.renderOutput(dataTable, element);\n",
              "          const docLink = document.createElement('div');\n",
              "          docLink.innerHTML = docLinkHtml;\n",
              "          element.appendChild(docLink);\n",
              "        }\n",
              "      </script>\n",
              "    </div>\n",
              "  </div>\n",
              "  "
            ],
            "text/plain": [
              "             sentence\n",
              "0       사람이 다가오고 있습니다\n",
              "1  사람과 자전거가 다가오고 있습니다\n",
              "2  자전거와 사람이 다가오고 있습니다\n",
              "3       사람과 자전거가 있습니다\n",
              "4       자전거와 사람이 있습니다"
            ]
          },
          "metadata": {},
          "execution_count": 10
        }
      ]
    },
    {
      "cell_type": "code",
      "source": [
        "head = ['sentence']\n",
        "\n",
        "df2 = pd.read_table('/content/captions.txt', names=head)\n",
        "df2.head()"
      ],
      "metadata": {
        "colab": {
          "base_uri": "https://localhost:8080/",
          "height": 206
        },
        "id": "cMMSKlniDtP1",
        "outputId": "09132e3f-f7bd-463f-d250-c92b541cef48"
      },
      "execution_count": null,
      "outputs": [
        {
          "output_type": "execute_result",
          "data": {
            "text/html": [
              "\n",
              "  <div id=\"df-724f2b35-0b1d-472d-9179-551b6d6ac0e4\">\n",
              "    <div class=\"colab-df-container\">\n",
              "      <div>\n",
              "<style scoped>\n",
              "    .dataframe tbody tr th:only-of-type {\n",
              "        vertical-align: middle;\n",
              "    }\n",
              "\n",
              "    .dataframe tbody tr th {\n",
              "        vertical-align: top;\n",
              "    }\n",
              "\n",
              "    .dataframe thead th {\n",
              "        text-align: right;\n",
              "    }\n",
              "</style>\n",
              "<table border=\"1\" class=\"dataframe\">\n",
              "  <thead>\n",
              "    <tr style=\"text-align: right;\">\n",
              "      <th></th>\n",
              "      <th>sentence</th>\n",
              "    </tr>\n",
              "  </thead>\n",
              "  <tbody>\n",
              "    <tr>\n",
              "      <th>0</th>\n",
              "      <td>사람이 다가오고 있습니다</td>\n",
              "    </tr>\n",
              "    <tr>\n",
              "      <th>1</th>\n",
              "      <td>사람이 걸어가고 있습니다</td>\n",
              "    </tr>\n",
              "    <tr>\n",
              "      <th>2</th>\n",
              "      <td>볼라드가 설치되어 있습니다</td>\n",
              "    </tr>\n",
              "    <tr>\n",
              "      <th>3</th>\n",
              "      <td>자동차가 있습니다</td>\n",
              "    </tr>\n",
              "    <tr>\n",
              "      <th>4</th>\n",
              "      <td>자전거가 세워져 있습니다</td>\n",
              "    </tr>\n",
              "  </tbody>\n",
              "</table>\n",
              "</div>\n",
              "      <button class=\"colab-df-convert\" onclick=\"convertToInteractive('df-724f2b35-0b1d-472d-9179-551b6d6ac0e4')\"\n",
              "              title=\"Convert this dataframe to an interactive table.\"\n",
              "              style=\"display:none;\">\n",
              "        \n",
              "  <svg xmlns=\"http://www.w3.org/2000/svg\" height=\"24px\"viewBox=\"0 0 24 24\"\n",
              "       width=\"24px\">\n",
              "    <path d=\"M0 0h24v24H0V0z\" fill=\"none\"/>\n",
              "    <path d=\"M18.56 5.44l.94 2.06.94-2.06 2.06-.94-2.06-.94-.94-2.06-.94 2.06-2.06.94zm-11 1L8.5 8.5l.94-2.06 2.06-.94-2.06-.94L8.5 2.5l-.94 2.06-2.06.94zm10 10l.94 2.06.94-2.06 2.06-.94-2.06-.94-.94-2.06-.94 2.06-2.06.94z\"/><path d=\"M17.41 7.96l-1.37-1.37c-.4-.4-.92-.59-1.43-.59-.52 0-1.04.2-1.43.59L10.3 9.45l-7.72 7.72c-.78.78-.78 2.05 0 2.83L4 21.41c.39.39.9.59 1.41.59.51 0 1.02-.2 1.41-.59l7.78-7.78 2.81-2.81c.8-.78.8-2.07 0-2.86zM5.41 20L4 18.59l7.72-7.72 1.47 1.35L5.41 20z\"/>\n",
              "  </svg>\n",
              "      </button>\n",
              "      \n",
              "  <style>\n",
              "    .colab-df-container {\n",
              "      display:flex;\n",
              "      flex-wrap:wrap;\n",
              "      gap: 12px;\n",
              "    }\n",
              "\n",
              "    .colab-df-convert {\n",
              "      background-color: #E8F0FE;\n",
              "      border: none;\n",
              "      border-radius: 50%;\n",
              "      cursor: pointer;\n",
              "      display: none;\n",
              "      fill: #1967D2;\n",
              "      height: 32px;\n",
              "      padding: 0 0 0 0;\n",
              "      width: 32px;\n",
              "    }\n",
              "\n",
              "    .colab-df-convert:hover {\n",
              "      background-color: #E2EBFA;\n",
              "      box-shadow: 0px 1px 2px rgba(60, 64, 67, 0.3), 0px 1px 3px 1px rgba(60, 64, 67, 0.15);\n",
              "      fill: #174EA6;\n",
              "    }\n",
              "\n",
              "    [theme=dark] .colab-df-convert {\n",
              "      background-color: #3B4455;\n",
              "      fill: #D2E3FC;\n",
              "    }\n",
              "\n",
              "    [theme=dark] .colab-df-convert:hover {\n",
              "      background-color: #434B5C;\n",
              "      box-shadow: 0px 1px 3px 1px rgba(0, 0, 0, 0.15);\n",
              "      filter: drop-shadow(0px 1px 2px rgba(0, 0, 0, 0.3));\n",
              "      fill: #FFFFFF;\n",
              "    }\n",
              "  </style>\n",
              "\n",
              "      <script>\n",
              "        const buttonEl =\n",
              "          document.querySelector('#df-724f2b35-0b1d-472d-9179-551b6d6ac0e4 button.colab-df-convert');\n",
              "        buttonEl.style.display =\n",
              "          google.colab.kernel.accessAllowed ? 'block' : 'none';\n",
              "\n",
              "        async function convertToInteractive(key) {\n",
              "          const element = document.querySelector('#df-724f2b35-0b1d-472d-9179-551b6d6ac0e4');\n",
              "          const dataTable =\n",
              "            await google.colab.kernel.invokeFunction('convertToInteractive',\n",
              "                                                     [key], {});\n",
              "          if (!dataTable) return;\n",
              "\n",
              "          const docLinkHtml = 'Like what you see? Visit the ' +\n",
              "            '<a target=\"_blank\" href=https://colab.research.google.com/notebooks/data_table.ipynb>data table notebook</a>'\n",
              "            + ' to learn more about interactive tables.';\n",
              "          element.innerHTML = '';\n",
              "          dataTable['output_type'] = 'display_data';\n",
              "          await google.colab.output.renderOutput(dataTable, element);\n",
              "          const docLink = document.createElement('div');\n",
              "          docLink.innerHTML = docLinkHtml;\n",
              "          element.appendChild(docLink);\n",
              "        }\n",
              "      </script>\n",
              "    </div>\n",
              "  </div>\n",
              "  "
            ],
            "text/plain": [
              "         sentence\n",
              "0   사람이 다가오고 있습니다\n",
              "1   사람이 걸어가고 있습니다\n",
              "2  볼라드가 설치되어 있습니다\n",
              "3       자동차가 있습니다\n",
              "4   자전거가 세워져 있습니다"
            ]
          },
          "metadata": {},
          "execution_count": 21
        }
      ]
    },
    {
      "cell_type": "code",
      "source": [
        "train = pd.concat([df, df2])\n",
        "train.info()"
      ],
      "metadata": {
        "colab": {
          "base_uri": "https://localhost:8080/"
        },
        "id": "UXDdEJCZEAEA",
        "outputId": "9ffa023b-4d41-4c57-d86f-5b9b011a989b"
      },
      "execution_count": null,
      "outputs": [
        {
          "output_type": "stream",
          "name": "stdout",
          "text": [
            "<class 'pandas.core.frame.DataFrame'>\n",
            "Int64Index: 100 entries, 0 to 49\n",
            "Data columns (total 1 columns):\n",
            " #   Column    Non-Null Count  Dtype \n",
            "---  ------    --------------  ----- \n",
            " 0   sentence  100 non-null    object\n",
            "dtypes: object(1)\n",
            "memory usage: 1.6+ KB\n"
          ]
        }
      ]
    },
    {
      "cell_type": "code",
      "source": [
        "train.to_csv('/content/captionTrain.csv', index=False, encoding='utf-8')"
      ],
      "metadata": {
        "id": "GOsrNcxRJEpF"
      },
      "execution_count": null,
      "outputs": []
    },
    {
      "cell_type": "markdown",
      "source": [
        "여기부터 시작하면 됨"
      ],
      "metadata": {
        "id": "AmSXsRlg5oVp"
      }
    },
    {
      "cell_type": "code",
      "source": [
        "from google.colab import drive\n",
        "drive.mount('/content/drive')"
      ],
      "metadata": {
        "colab": {
          "base_uri": "https://localhost:8080/"
        },
        "id": "Sx_usXXqeR7Q",
        "outputId": "446d3e67-4f9f-425f-873e-a3fe4491e717"
      },
      "execution_count": 1,
      "outputs": [
        {
          "output_type": "stream",
          "name": "stdout",
          "text": [
            "Mounted at /content/drive\n"
          ]
        }
      ]
    },
    {
      "cell_type": "code",
      "source": [
        "import pandas as pd\n",
        "\n",
        "train = pd.read_csv('/content/drive/MyDrive/captionTrain_multiple.csv')\n",
        "train.head()"
      ],
      "metadata": {
        "colab": {
          "base_uri": "https://localhost:8080/",
          "height": 206
        },
        "id": "tfo_QNB47GAI",
        "outputId": "55e132d4-1790-4408-b30a-5212f75241e4"
      },
      "execution_count": null,
      "outputs": [
        {
          "output_type": "execute_result",
          "data": {
            "text/html": [
              "\n",
              "  <div id=\"df-c051cab6-a8b0-4707-b466-333f2e536cc2\">\n",
              "    <div class=\"colab-df-container\">\n",
              "      <div>\n",
              "<style scoped>\n",
              "    .dataframe tbody tr th:only-of-type {\n",
              "        vertical-align: middle;\n",
              "    }\n",
              "\n",
              "    .dataframe tbody tr th {\n",
              "        vertical-align: top;\n",
              "    }\n",
              "\n",
              "    .dataframe thead th {\n",
              "        text-align: right;\n",
              "    }\n",
              "</style>\n",
              "<table border=\"1\" class=\"dataframe\">\n",
              "  <thead>\n",
              "    <tr style=\"text-align: right;\">\n",
              "      <th></th>\n",
              "      <th>sentence</th>\n",
              "    </tr>\n",
              "  </thead>\n",
              "  <tbody>\n",
              "    <tr>\n",
              "      <th>0</th>\n",
              "      <td>사람이 다가오고 있습니다</td>\n",
              "    </tr>\n",
              "    <tr>\n",
              "      <th>1</th>\n",
              "      <td>사람이 있습니다</td>\n",
              "    </tr>\n",
              "    <tr>\n",
              "      <th>2</th>\n",
              "      <td>사람이 앞에 있습니다</td>\n",
              "    </tr>\n",
              "    <tr>\n",
              "      <th>3</th>\n",
              "      <td>자전거가 있습니다</td>\n",
              "    </tr>\n",
              "    <tr>\n",
              "      <th>4</th>\n",
              "      <td>자전거가 앞에 있습니다</td>\n",
              "    </tr>\n",
              "  </tbody>\n",
              "</table>\n",
              "</div>\n",
              "      <button class=\"colab-df-convert\" onclick=\"convertToInteractive('df-c051cab6-a8b0-4707-b466-333f2e536cc2')\"\n",
              "              title=\"Convert this dataframe to an interactive table.\"\n",
              "              style=\"display:none;\">\n",
              "        \n",
              "  <svg xmlns=\"http://www.w3.org/2000/svg\" height=\"24px\"viewBox=\"0 0 24 24\"\n",
              "       width=\"24px\">\n",
              "    <path d=\"M0 0h24v24H0V0z\" fill=\"none\"/>\n",
              "    <path d=\"M18.56 5.44l.94 2.06.94-2.06 2.06-.94-2.06-.94-.94-2.06-.94 2.06-2.06.94zm-11 1L8.5 8.5l.94-2.06 2.06-.94-2.06-.94L8.5 2.5l-.94 2.06-2.06.94zm10 10l.94 2.06.94-2.06 2.06-.94-2.06-.94-.94-2.06-.94 2.06-2.06.94z\"/><path d=\"M17.41 7.96l-1.37-1.37c-.4-.4-.92-.59-1.43-.59-.52 0-1.04.2-1.43.59L10.3 9.45l-7.72 7.72c-.78.78-.78 2.05 0 2.83L4 21.41c.39.39.9.59 1.41.59.51 0 1.02-.2 1.41-.59l7.78-7.78 2.81-2.81c.8-.78.8-2.07 0-2.86zM5.41 20L4 18.59l7.72-7.72 1.47 1.35L5.41 20z\"/>\n",
              "  </svg>\n",
              "      </button>\n",
              "      \n",
              "  <style>\n",
              "    .colab-df-container {\n",
              "      display:flex;\n",
              "      flex-wrap:wrap;\n",
              "      gap: 12px;\n",
              "    }\n",
              "\n",
              "    .colab-df-convert {\n",
              "      background-color: #E8F0FE;\n",
              "      border: none;\n",
              "      border-radius: 50%;\n",
              "      cursor: pointer;\n",
              "      display: none;\n",
              "      fill: #1967D2;\n",
              "      height: 32px;\n",
              "      padding: 0 0 0 0;\n",
              "      width: 32px;\n",
              "    }\n",
              "\n",
              "    .colab-df-convert:hover {\n",
              "      background-color: #E2EBFA;\n",
              "      box-shadow: 0px 1px 2px rgba(60, 64, 67, 0.3), 0px 1px 3px 1px rgba(60, 64, 67, 0.15);\n",
              "      fill: #174EA6;\n",
              "    }\n",
              "\n",
              "    [theme=dark] .colab-df-convert {\n",
              "      background-color: #3B4455;\n",
              "      fill: #D2E3FC;\n",
              "    }\n",
              "\n",
              "    [theme=dark] .colab-df-convert:hover {\n",
              "      background-color: #434B5C;\n",
              "      box-shadow: 0px 1px 3px 1px rgba(0, 0, 0, 0.15);\n",
              "      filter: drop-shadow(0px 1px 2px rgba(0, 0, 0, 0.3));\n",
              "      fill: #FFFFFF;\n",
              "    }\n",
              "  </style>\n",
              "\n",
              "      <script>\n",
              "        const buttonEl =\n",
              "          document.querySelector('#df-c051cab6-a8b0-4707-b466-333f2e536cc2 button.colab-df-convert');\n",
              "        buttonEl.style.display =\n",
              "          google.colab.kernel.accessAllowed ? 'block' : 'none';\n",
              "\n",
              "        async function convertToInteractive(key) {\n",
              "          const element = document.querySelector('#df-c051cab6-a8b0-4707-b466-333f2e536cc2');\n",
              "          const dataTable =\n",
              "            await google.colab.kernel.invokeFunction('convertToInteractive',\n",
              "                                                     [key], {});\n",
              "          if (!dataTable) return;\n",
              "\n",
              "          const docLinkHtml = 'Like what you see? Visit the ' +\n",
              "            '<a target=\"_blank\" href=https://colab.research.google.com/notebooks/data_table.ipynb>data table notebook</a>'\n",
              "            + ' to learn more about interactive tables.';\n",
              "          element.innerHTML = '';\n",
              "          dataTable['output_type'] = 'display_data';\n",
              "          await google.colab.output.renderOutput(dataTable, element);\n",
              "          const docLink = document.createElement('div');\n",
              "          docLink.innerHTML = docLinkHtml;\n",
              "          element.appendChild(docLink);\n",
              "        }\n",
              "      </script>\n",
              "    </div>\n",
              "  </div>\n",
              "  "
            ],
            "text/plain": [
              "        sentence\n",
              "0  사람이 다가오고 있습니다\n",
              "1       사람이 있습니다\n",
              "2    사람이 앞에 있습니다\n",
              "3      자전거가 있습니다\n",
              "4   자전거가 앞에 있습니다"
            ]
          },
          "metadata": {},
          "execution_count": 114
        }
      ]
    },
    {
      "cell_type": "code",
      "source": [
        "train.info()"
      ],
      "metadata": {
        "colab": {
          "base_uri": "https://localhost:8080/"
        },
        "id": "vsTpHzxQN3Tp",
        "outputId": "6cbcc401-3503-4327-ccf6-b6a3fd1940c1"
      },
      "execution_count": null,
      "outputs": [
        {
          "output_type": "stream",
          "name": "stdout",
          "text": [
            "<class 'pandas.core.frame.DataFrame'>\n",
            "RangeIndex: 141 entries, 0 to 140\n",
            "Data columns (total 1 columns):\n",
            " #   Column    Non-Null Count  Dtype \n",
            "---  ------    --------------  ----- \n",
            " 0   sentence  141 non-null    object\n",
            "dtypes: object(1)\n",
            "memory usage: 1.2+ KB\n"
          ]
        }
      ]
    },
    {
      "cell_type": "markdown",
      "source": [
        "음절 단위"
      ],
      "metadata": {
        "id": "S658gnsL7krK"
      }
    },
    {
      "cell_type": "code",
      "source": [
        "vocab = set()\n",
        "for i, row in train.iterrows(): # dataframe의 row별로 반복\n",
        "    sentence = row['sentence']\n",
        "    for token in sentence: #음절 단위 token 반복\n",
        "        if token not in vocab:\n",
        "            vocab.add(token) # token set에 없다면 추가\n",
        "        else:\n",
        "            continue\n",
        "vocab.add('<EOS>') # 문장 마지막을  <EOS>로 끝낼거라 <End of Sequence> token 추가\n",
        "print ('고유 문자수 {}개'.format(len(vocab)))"
      ],
      "metadata": {
        "colab": {
          "base_uri": "https://localhost:8080/"
        },
        "id": "hhxpju1P7gvV",
        "outputId": "f6a7cdac-672f-4fbd-e412-eddf2688f970"
      },
      "execution_count": null,
      "outputs": [
        {
          "output_type": "stream",
          "name": "stdout",
          "text": [
            "고유 문자수 63개\n"
          ]
        }
      ]
    },
    {
      "cell_type": "code",
      "source": [
        "vocab"
      ],
      "metadata": {
        "colab": {
          "base_uri": "https://localhost:8080/"
        },
        "id": "mjpJbJqkDmsb",
        "outputId": "54aedaf5-4eca-41b0-f4b0-b910088c0a68"
      },
      "execution_count": null,
      "outputs": [
        {
          "output_type": "execute_result",
          "data": {
            "text/plain": [
              "{' ',\n",
              " '<EOS>',\n",
              " '가',\n",
              " '갑',\n",
              " '개',\n",
              " '거',\n",
              " '걸',\n",
              " '고',\n",
              " '과',\n",
              " '나',\n",
              " '놓',\n",
              " '늘',\n",
              " '니',\n",
              " '다',\n",
              " '대',\n",
              " '도',\n",
              " '동',\n",
              " '되',\n",
              " '두',\n",
              " '둘',\n",
              " '드',\n",
              " '들',\n",
              " '라',\n",
              " '람',\n",
              " '럿',\n",
              " '른',\n",
              " '를',\n",
              " '몇',\n",
              " '바',\n",
              " '보',\n",
              " '볼',\n",
              " '브',\n",
              " '사',\n",
              " '서',\n",
              " '설',\n",
              " '세',\n",
              " '수',\n",
              " '습',\n",
              " '앞',\n",
              " '어',\n",
              " '에',\n",
              " '여',\n",
              " '옆',\n",
              " '오',\n",
              " '와',\n",
              " '움',\n",
              " '워',\n",
              " '의',\n",
              " '이',\n",
              " '있',\n",
              " '자',\n",
              " '전',\n",
              " '정',\n",
              " '져',\n",
              " '줄',\n",
              " '지',\n",
              " '직',\n",
              " '차',\n",
              " '치',\n",
              " '킥',\n",
              " '타',\n",
              " '탄',\n",
              " '토'}"
            ]
          },
          "metadata": {},
          "execution_count": 118
        }
      ]
    },
    {
      "cell_type": "code",
      "source": [
        "char2idx = {u:i for i, u in enumerate(vocab, start=1)}\n",
        "char2idx"
      ],
      "metadata": {
        "colab": {
          "base_uri": "https://localhost:8080/"
        },
        "id": "TZbgSvQBCMv7",
        "outputId": "e864a01c-72b4-4a82-fbd8-38518f65093b"
      },
      "execution_count": null,
      "outputs": [
        {
          "output_type": "execute_result",
          "data": {
            "text/plain": [
              "{' ': 22,\n",
              " '<EOS>': 40,\n",
              " '가': 46,\n",
              " '갑': 18,\n",
              " '개': 31,\n",
              " '거': 17,\n",
              " '걸': 30,\n",
              " '고': 20,\n",
              " '과': 34,\n",
              " '나': 61,\n",
              " '놓': 38,\n",
              " '늘': 15,\n",
              " '니': 29,\n",
              " '다': 54,\n",
              " '대': 5,\n",
              " '도': 28,\n",
              " '동': 51,\n",
              " '되': 53,\n",
              " '두': 9,\n",
              " '둘': 13,\n",
              " '드': 62,\n",
              " '들': 47,\n",
              " '라': 52,\n",
              " '람': 37,\n",
              " '럿': 11,\n",
              " '른': 58,\n",
              " '를': 43,\n",
              " '몇': 3,\n",
              " '바': 6,\n",
              " '보': 48,\n",
              " '볼': 24,\n",
              " '브': 50,\n",
              " '사': 44,\n",
              " '서': 4,\n",
              " '설': 12,\n",
              " '세': 33,\n",
              " '수': 41,\n",
              " '습': 23,\n",
              " '앞': 59,\n",
              " '어': 55,\n",
              " '에': 1,\n",
              " '여': 16,\n",
              " '옆': 60,\n",
              " '오': 63,\n",
              " '와': 10,\n",
              " '움': 35,\n",
              " '워': 2,\n",
              " '의': 19,\n",
              " '이': 32,\n",
              " '있': 21,\n",
              " '자': 27,\n",
              " '전': 42,\n",
              " '정': 39,\n",
              " '져': 14,\n",
              " '줄': 26,\n",
              " '지': 8,\n",
              " '직': 57,\n",
              " '차': 56,\n",
              " '치': 36,\n",
              " '킥': 49,\n",
              " '타': 25,\n",
              " '탄': 45,\n",
              " '토': 7}"
            ]
          },
          "metadata": {},
          "execution_count": 119
        }
      ]
    },
    {
      "cell_type": "code",
      "source": [
        "import pickle\n",
        "\n",
        "# save data\n",
        "with open('char2idx3.pickle','wb') as fw:\n",
        "    pickle.dump(char2idx, fw)\n",
        "\n",
        "# load data\n",
        "with open('char2idx3.pickle', 'rb') as fr:\n",
        "    test = pickle.load(fr)\n",
        "\n",
        "# show data\n",
        "print(test)"
      ],
      "metadata": {
        "colab": {
          "base_uri": "https://localhost:8080/"
        },
        "id": "xOMHnAr00R7v",
        "outputId": "e21faffa-685d-4633-eb95-3967097e1b72"
      },
      "execution_count": null,
      "outputs": [
        {
          "output_type": "stream",
          "name": "stdout",
          "text": [
            "{'에': 1, '워': 2, '몇': 3, '서': 4, '대': 5, '바': 6, '토': 7, '지': 8, '두': 9, '와': 10, '럿': 11, '설': 12, '둘': 13, '져': 14, '늘': 15, '여': 16, '거': 17, '갑': 18, '의': 19, '고': 20, '있': 21, ' ': 22, '습': 23, '볼': 24, '타': 25, '줄': 26, '자': 27, '도': 28, '니': 29, '걸': 30, '개': 31, '이': 32, '세': 33, '과': 34, '움': 35, '치': 36, '람': 37, '놓': 38, '정': 39, '<EOS>': 40, '수': 41, '전': 42, '를': 43, '사': 44, '탄': 45, '가': 46, '들': 47, '보': 48, '킥': 49, '브': 50, '동': 51, '라': 52, '되': 53, '다': 54, '어': 55, '차': 56, '직': 57, '른': 58, '앞': 59, '옆': 60, '나': 61, '드': 62, '오': 63}\n"
          ]
        }
      ]
    },
    {
      "cell_type": "markdown",
      "source": [
        "음절 단위"
      ],
      "metadata": {
        "id": "0LzzhUPu8Uq_"
      }
    },
    {
      "cell_type": "code",
      "source": [
        "import numpy as np\n",
        "\n",
        "sentence2vec_list = []\n",
        "for i, row in train.iterrows():\n",
        "    temp_arr = np.array([char2idx[c] for c in row['sentence']] + [char2idx['<EOS>']])\n",
        "    sentence2vec_list.append(temp_arr)"
      ],
      "metadata": {
        "id": "UbByjses8LJq"
      },
      "execution_count": null,
      "outputs": []
    },
    {
      "cell_type": "code",
      "source": [
        "sentence2vec_list"
      ],
      "metadata": {
        "colab": {
          "base_uri": "https://localhost:8080/"
        },
        "id": "mFjpnkPaGar4",
        "outputId": "8fced8f6-0bff-49f1-9b51-acfa8160e100"
      },
      "execution_count": null,
      "outputs": [
        {
          "output_type": "execute_result",
          "data": {
            "text/plain": [
              "[array([44, 37, 32, 22, 54, 46, 63, 20, 22, 21, 23, 29, 54, 40]),\n",
              " array([44, 37, 32, 22, 21, 23, 29, 54, 40]),\n",
              " array([44, 37, 32, 22, 59,  1, 22, 21, 23, 29, 54, 40]),\n",
              " array([27, 42, 17, 46, 22, 21, 23, 29, 54, 40]),\n",
              " array([27, 42, 17, 46, 22, 59,  1, 22, 21, 23, 29, 54, 40]),\n",
              " array([44, 37, 34, 22, 27, 42, 17, 46, 22, 21, 23, 29, 54, 40]),\n",
              " array([27, 42, 17, 10, 22, 44, 37, 32, 22, 21, 23, 29, 54, 40]),\n",
              " array([44, 37, 47, 32, 22, 21, 23, 29, 54, 40]),\n",
              " array([44, 37, 47, 34, 22, 27, 42, 17, 46, 22, 21, 23, 29, 54, 40]),\n",
              " array([44, 37, 32, 22, 30, 55, 46, 20, 22, 21, 23, 29, 54, 40]),\n",
              " array([42, 51, 49, 48, 62, 43, 22, 45, 22, 44, 37, 32, 22, 54, 46, 63, 20,\n",
              "        22, 21, 23, 29, 54, 40]),\n",
              " array([42, 51, 49, 48, 62, 43, 22, 45, 22, 44, 37, 34, 22, 54, 58, 22, 44,\n",
              "        37, 47, 32, 22, 21, 23, 29, 54, 40]),\n",
              " array([42, 51, 49, 48, 62, 46, 22, 21, 23, 29, 54, 40]),\n",
              " array([42, 51, 49, 48, 62, 46, 22, 59,  1, 22, 21, 23, 29, 54, 40]),\n",
              " array([42, 51, 49, 48, 62, 46, 22,  3, 22,  5, 22, 21, 23, 29, 54, 40]),\n",
              " array([44, 37, 34, 22, 42, 51, 49, 48, 62, 46, 22, 21, 23, 29, 54, 40]),\n",
              " array([44, 37, 32, 22, 42, 51, 49, 48, 62, 43, 22, 25, 20, 22, 21, 23, 29,\n",
              "        54, 40]),\n",
              " array([42, 51, 49, 48, 62, 10, 22, 44, 37, 32, 22, 21, 23, 29, 54, 40]),\n",
              " array([44, 37, 47, 32, 22, 42, 51, 49, 48, 62, 10, 22, 21, 23, 29, 54, 40]),\n",
              " array([56, 46, 22, 21, 23, 29, 54, 40]),\n",
              " array([56, 46, 22, 59,  1, 22, 21, 23, 29, 54, 40]),\n",
              " array([56, 46, 22, 16, 11, 22, 21, 23, 29, 54, 40]),\n",
              " array([44, 37, 34, 22, 56, 46, 22, 21, 23, 29, 54, 40]),\n",
              " array([63,  7,  6, 32, 46, 22, 21, 23, 29, 54, 40]),\n",
              " array([63,  7,  6, 32, 46, 22, 59,  1, 22, 21, 23, 29, 54, 40]),\n",
              " array([63,  7,  6, 32, 46, 22,  8, 61, 46, 20, 22, 21, 23, 29, 54, 40]),\n",
              " array([63,  7,  6, 32, 43, 22, 45, 22, 44, 37, 32, 22, 21, 23, 29, 54, 40]),\n",
              " array([44, 37, 34, 22, 63,  7,  6, 32, 46, 22, 21, 23, 29, 54, 40]),\n",
              " array([63,  7,  6, 32, 10, 22, 44, 37, 32, 22, 21, 23, 29, 54, 40]),\n",
              " array([42, 51, 49, 48, 62, 10, 22, 63,  7,  6, 32, 46, 22, 21, 23, 29, 54,\n",
              "        40]),\n",
              " array([63,  7,  6, 32, 10, 22, 27, 42, 17, 46, 22, 21, 23, 29, 54, 40]),\n",
              " array([63,  7,  6, 32, 10, 22, 42, 51, 49, 48, 62, 46, 22, 21, 23, 29, 54,\n",
              "        40]),\n",
              " array([42, 51, 49, 48, 62, 10, 22, 27, 42, 17, 46, 22, 21, 23, 29, 54, 40]),\n",
              " array([27, 42, 17, 10, 22, 42, 51, 49, 48, 62, 46, 22, 21, 23, 29, 54, 40]),\n",
              " array([44, 37, 32, 22, 42, 51, 49, 48, 62, 43, 22, 25, 20, 22, 21, 20, 22,\n",
              "        60,  1, 22, 27, 42, 17, 46, 22, 21, 23, 29, 54, 40]),\n",
              " array([24, 52, 62, 46, 22, 12, 36, 22, 53, 55, 22, 21, 23, 29, 54, 40]),\n",
              " array([24, 52, 62, 46, 22, 21, 23, 29, 54, 40]),\n",
              " array([24, 52, 62, 46, 22, 59,  1, 22, 21, 23, 29, 54, 40]),\n",
              " array([24, 52, 62, 10, 22, 27, 42, 17, 46, 22, 21, 23, 29, 54, 40]),\n",
              " array([24, 52, 62, 10, 22, 63,  7,  6, 32, 10, 22, 42, 51, 49, 48, 62, 46,\n",
              "        22, 21, 23, 29, 54, 40]),\n",
              " array([24, 52, 62, 46, 22,  3, 22, 31, 22, 21, 23, 29, 54, 40]),\n",
              " array([42, 51, 49, 48, 62, 10, 22, 24, 52, 62, 46, 22, 21, 23, 29, 54, 40]),\n",
              " array([44, 37, 32, 22, 54, 46, 63, 20, 22, 21, 23, 29, 54, 40]),\n",
              " array([44, 37, 32, 22, 30, 55, 46, 20, 22, 21, 23, 29, 54, 40]),\n",
              " array([24, 52, 62, 46, 22, 12, 36, 53, 55, 22, 21, 23, 29, 54, 40]),\n",
              " array([56, 46, 22, 21, 23, 29, 54, 40]),\n",
              " array([27, 42, 17, 46, 22, 33,  2, 14, 22, 21, 23, 29, 54, 40]),\n",
              " array([27, 42, 17, 43, 22, 45, 22, 44, 37, 32, 22, 21, 23, 29, 54, 40]),\n",
              " array([42, 51, 49, 48, 62, 46, 22, 38, 16, 22, 21, 23, 29, 54, 40]),\n",
              " array([42, 51, 49, 48, 62, 43, 22, 45, 22, 44, 37, 32, 22, 21, 23, 29, 54,\n",
              "        40]),\n",
              " array([63,  7,  6, 32, 46, 22, 33,  2, 14, 22, 21, 23, 29, 54, 40]),\n",
              " array([63,  7,  6, 32, 43, 22, 45, 22, 44, 37, 32, 22, 21, 23, 29, 54, 40]),\n",
              " array([44, 37, 32, 22, 54, 46, 63, 20, 22, 21, 23, 29, 54, 40]),\n",
              " array([44, 37, 47, 32, 22, 16, 11, 22, 21, 23, 29, 54, 40]),\n",
              " array([24, 52, 62, 46, 22, 15, 55,  4, 22, 21, 23, 29, 54, 40]),\n",
              " array([24, 52, 62, 46, 22, 33,  2, 14, 22, 21, 23, 29, 54, 40]),\n",
              " array([56, 46, 22,  8, 61, 46, 20, 22, 21, 23, 29, 54, 40]),\n",
              " array([27, 42, 17, 46, 22, 38, 16, 22, 21, 23, 29, 54, 40]),\n",
              " array([27, 42, 17, 43, 22, 45, 22, 44, 37, 32, 22, 13, 22, 21, 23, 29, 54,\n",
              "        40]),\n",
              " array([27, 42, 17, 43, 22, 45, 22, 44, 37, 32, 22, 16, 11, 22, 21, 23, 29,\n",
              "        54, 40]),\n",
              " array([42, 51, 49, 48, 62, 46, 22,  3, 22,  5, 22, 38, 16, 22, 21, 23, 29,\n",
              "        54, 40]),\n",
              " array([42, 51, 49, 48, 62, 46, 22, 33,  2, 14, 22, 21, 23, 29, 54, 40]),\n",
              " array([42, 51, 49, 48, 62, 43, 22, 45, 22, 44, 37, 32, 22, 21, 23, 29, 54,\n",
              "        40]),\n",
              " array([42, 51, 49, 48, 62, 43, 22, 45, 22, 44, 37, 32, 22, 16, 11, 22, 21,\n",
              "        23, 29, 54, 40]),\n",
              " array([63,  7,  6, 32, 46, 22,  9, 22,  5, 22, 33,  2, 14, 22, 21, 23, 29,\n",
              "        54, 40]),\n",
              " array([63,  7,  6, 32, 46, 22,  4, 22, 21, 23, 29, 54, 40]),\n",
              " array([63,  7,  6, 32, 43, 22, 45, 22, 44, 37, 32, 22,  8, 61, 46, 20, 22,\n",
              "        21, 23, 29, 54, 40]),\n",
              " array([44, 37, 32, 22, 54, 46, 63, 20, 22, 21, 20, 22, 24, 52, 62, 46, 22,\n",
              "        21, 23, 29, 54, 40]),\n",
              " array([24, 52, 62, 10, 22, 56, 46, 22, 21, 23, 29, 54, 40]),\n",
              " array([56, 10, 22, 24, 52, 62, 46, 22, 21, 23, 29, 54, 40]),\n",
              " array([56, 10, 22, 27, 42, 17, 46, 22, 21, 23, 29, 54, 40]),\n",
              " array([27, 42, 17, 10, 22, 56, 46, 22, 21, 23, 29, 54, 40]),\n",
              " array([27, 42, 17, 43, 22, 45, 22, 44, 37, 34, 22, 56, 46, 22, 21, 23, 29,\n",
              "        54, 40]),\n",
              " array([42, 51, 49, 48, 62, 43, 22, 45, 22, 44, 37, 34, 22, 27, 42, 17, 43,\n",
              "        22, 45, 22, 44, 37, 32, 22, 21, 23, 29, 54, 40]),\n",
              " array([63,  7,  6, 32, 43, 22, 45, 22, 44, 37, 34, 22, 27, 42, 17, 43, 22,\n",
              "        45, 22, 44, 37, 32, 22, 21, 23, 29, 54, 40]),\n",
              " array([63,  7,  6, 32, 10, 22, 56, 46, 22, 21, 23, 29, 54, 40]),\n",
              " array([63,  7,  6, 32, 46, 22,  8, 61, 18, 29, 54, 40]),\n",
              " array([27, 42, 17, 46, 22,  8, 61, 18, 29, 54, 40]),\n",
              " array([42, 51, 49, 48, 62, 46, 22,  8, 61, 18, 29, 54, 40]),\n",
              " array([56, 46, 22,  8, 61, 18, 29, 54, 40]),\n",
              " array([44, 37, 32, 22,  8, 61, 18, 29, 54, 40]),\n",
              " array([24, 52, 62, 46, 22, 20, 39, 53, 55, 22, 21, 23, 29, 54, 40]),\n",
              " array([63,  7,  6, 32, 46, 22, 21, 20, 22, 44, 37, 32, 22, 30, 55, 46, 20,\n",
              "        22, 21, 23, 29, 54, 40]),\n",
              " array([27, 42, 17, 46, 22, 38, 16, 22, 21, 20, 22, 44, 37, 32, 22, 30, 55,\n",
              "        46, 20, 22, 21, 23, 29, 54, 40]),\n",
              " array([42, 51, 49, 48, 62, 46, 22, 21, 20, 22, 44, 37, 32, 22, 30, 55, 46,\n",
              "        20, 22, 21, 23, 29, 54, 40]),\n",
              " array([63,  7,  6, 32, 46, 22, 38, 16, 22, 21, 20, 22, 44, 37, 32, 22, 54,\n",
              "        46, 63, 20, 22, 21, 23, 29, 54, 40]),\n",
              " array([27, 42, 17, 46, 22, 21, 20, 22, 44, 37, 32, 22, 54, 46, 63, 20, 22,\n",
              "        21, 23, 29, 54, 40]),\n",
              " array([42, 51, 49, 48, 62, 46, 22, 38, 16, 22, 21, 20, 22, 44, 37, 32, 22,\n",
              "        54, 46, 63, 20, 22, 21, 23, 29, 54, 40]),\n",
              " array([63,  7,  6, 32, 46, 22,  3, 22,  5, 22, 21, 23, 29, 54, 40]),\n",
              " array([63,  7,  6, 32, 46, 22, 21, 23, 29, 54, 40]),\n",
              " array([63,  7,  6, 32, 46, 22, 59,  1, 22, 38, 16, 22, 21, 23, 29, 54, 40]),\n",
              " array([63,  7,  6, 32, 46, 22, 38, 16, 22, 21, 23, 29, 54, 40]),\n",
              " array([63,  7,  6, 32, 46, 22, 33,  2, 14, 22, 21, 23, 29, 54, 40]),\n",
              " array([27, 42, 17, 46, 22, 59,  1, 22, 38, 16, 22, 21, 23, 29, 54, 40]),\n",
              " array([27, 42, 17, 46, 22,  3, 22,  5, 22, 33,  2, 14, 22, 21, 23, 29, 54,\n",
              "        40]),\n",
              " array([27, 42, 17, 46, 22,  3, 22,  5, 22, 38, 16, 22, 21, 23, 29, 54, 40]),\n",
              " array([27, 42, 17, 46, 22, 54, 46, 63, 20, 22, 21, 23, 29, 54, 40]),\n",
              " array([63,  7,  6, 32, 46, 22, 54, 46, 63, 20, 22, 21, 23, 29, 54, 40]),\n",
              " array([24, 52, 62, 46, 22,  3, 22, 31, 22, 33,  2, 14, 22, 21, 23, 29, 54,\n",
              "        40]),\n",
              " array([24, 52, 62, 46, 22, 33,  2, 14, 22, 21, 23, 29, 54, 40]),\n",
              " array([24, 52, 62, 46, 22, 38, 16, 22, 21, 23, 29, 54, 40]),\n",
              " array([24, 52, 62, 46, 22, 59,  1, 22, 33,  2, 14, 22, 21, 23, 29, 54, 40]),\n",
              " array([24, 52, 62, 46, 22, 26,  8, 55, 22, 21, 23, 29, 54, 40]),\n",
              " array([24, 52, 62, 46, 22, 59,  1, 22, 21, 23, 29, 54, 40]),\n",
              " array([27, 42, 17, 46, 22, 59,  1, 22, 21, 23, 29, 54, 40]),\n",
              " array([44, 37, 32, 22, 59,  1, 22, 21, 23, 29, 54, 40]),\n",
              " array([42, 51, 49, 48, 62, 46, 22, 59,  1, 22, 21, 23, 29, 54, 40]),\n",
              " array([63,  7,  6, 32, 46, 22, 59,  1, 22, 21, 23, 29, 54, 40]),\n",
              " array([42, 51, 49, 48, 62, 43, 22, 45, 22, 44, 37, 32, 22, 21, 23, 29, 54,\n",
              "        40]),\n",
              " array([42, 51, 49, 48, 62, 46, 22, 59,  1, 22, 38, 16, 22, 21, 23, 29, 54,\n",
              "        40]),\n",
              " array([42, 51, 49, 50, 28, 46, 22, 59,  1, 22, 33,  2, 14, 22, 21, 23, 29,\n",
              "        54, 40]),\n",
              " array([42, 51, 49, 48, 62, 43, 22, 45, 22, 44, 37, 32, 22, 16, 11, 22, 21,\n",
              "        23, 29, 54, 40]),\n",
              " array([54, 41, 19, 22, 44, 37, 32, 22, 21, 23, 29, 54, 40]),\n",
              " array([54, 41, 19, 22, 44, 37, 32, 22, 54, 46, 63, 20, 22, 21, 23, 29, 54,\n",
              "        40]),\n",
              " array([54, 41, 19, 22, 44, 37, 32, 22, 59,  1, 22, 21, 23, 29, 54, 40]),\n",
              " array([54, 41, 19, 22, 56, 46, 22, 21, 23, 29, 54, 40]),\n",
              " array([54, 41, 19, 22, 56, 46, 22, 54, 46, 63, 20, 22, 21, 23, 29, 54, 40]),\n",
              " array([54, 41, 19, 22, 56, 46, 22, 33,  2, 14, 22, 21, 23, 29, 54, 40]),\n",
              " array([54, 41, 19, 22, 56, 46, 22, 59,  1, 22, 21, 23, 29, 54, 40]),\n",
              " array([54, 41, 19, 22, 27, 42, 17, 46, 22, 59,  1, 22, 21, 23, 29, 54, 40]),\n",
              " array([54, 41, 19, 22, 27, 42, 17, 46, 22, 38, 16, 22, 21, 23, 29, 54, 40]),\n",
              " array([54, 41, 19, 22, 27, 42, 17, 46, 22, 54, 46, 63, 20, 22, 21, 23, 29,\n",
              "        54, 40]),\n",
              " array([54, 41, 19, 22, 27, 42, 17, 46, 22, 21, 23, 29, 54, 40]),\n",
              " array([54, 41, 19, 22, 63,  7,  6, 32, 46, 22, 21, 23, 29, 54, 40]),\n",
              " array([54, 41, 19, 22, 63,  7,  6, 32, 46, 22, 59,  1, 22, 21, 23, 29, 54,\n",
              "        40]),\n",
              " array([54, 41, 19, 22, 63,  7,  6, 32, 46, 22, 38, 16, 22, 21, 23, 29, 54,\n",
              "        40]),\n",
              " array([54, 41, 19, 22, 63,  7,  6, 32, 46, 22, 54, 46, 63, 20, 22, 21, 23,\n",
              "        29, 54, 40]),\n",
              " array([54, 41, 19, 22, 63,  7,  6, 32, 46, 22,  8, 61, 46, 20, 22, 21, 23,\n",
              "        29, 54, 40]),\n",
              " array([54, 41, 19, 22, 42, 51, 49, 48, 62, 46, 22, 21, 23, 29, 54, 40]),\n",
              " array([54, 41, 19, 22, 42, 51, 49, 48, 62, 46, 22, 59,  1, 22, 21, 23, 29,\n",
              "        54, 40]),\n",
              " array([54, 41, 19, 22, 42, 51, 49, 48, 62, 46, 22, 38, 16, 22, 21, 23, 29,\n",
              "        54, 40]),\n",
              " array([54, 41, 19, 22, 42, 51, 49, 48, 62, 46, 22, 33,  2, 14, 22, 21, 23,\n",
              "        29, 54, 40]),\n",
              " array([54, 41, 19, 22, 56, 46, 22, 16, 11, 22, 21, 23, 29, 54, 40]),\n",
              " array([56, 46, 22, 35, 57, 32, 20, 22, 21, 23, 29, 54, 40]),\n",
              " array([54, 41, 19, 22, 56, 10, 22, 54, 41, 19, 22, 44, 37, 32, 22, 21, 23,\n",
              "        29, 54, 40]),\n",
              " array([54, 41, 19, 22, 27, 42, 17, 10, 22, 54, 41, 19, 22, 56, 46, 22, 54,\n",
              "        46, 63, 20, 22, 21, 23, 29, 54, 40]),\n",
              " array([54, 41, 19, 22, 44, 37, 34, 22, 54, 41, 19, 22, 27, 42, 17, 46, 22,\n",
              "        54, 46, 63, 20, 22, 21, 23, 29, 54, 40]),\n",
              " array([54, 41, 19, 22, 42, 51, 49, 48, 62, 10, 22, 44, 37, 32, 22, 21, 23,\n",
              "        29, 54, 40]),\n",
              " array([27, 42, 17, 46, 22, 59,  1, 22,  8, 61, 46, 20, 22, 21, 23, 29, 54,\n",
              "        40]),\n",
              " array([27, 42, 17, 46, 22, 59,  1, 22, 33,  2, 14, 22, 21, 23, 29, 54, 40]),\n",
              " array([27, 42, 17, 46, 22, 33,  2, 14, 22, 21, 23, 29, 54, 40])]"
            ]
          },
          "metadata": {},
          "execution_count": 122
        }
      ]
    },
    {
      "cell_type": "code",
      "source": [
        "# vector 복원\n",
        "for num in sentence2vec_list[0]:\n",
        "  for c, id in char2idx.items():\n",
        "    if id == num:\n",
        "      print(c, end='')"
      ],
      "metadata": {
        "colab": {
          "base_uri": "https://localhost:8080/"
        },
        "id": "Ak6JY2xRGeo7",
        "outputId": "4f55518e-8ba2-4fc7-b3ea-5f332a5ef715"
      },
      "execution_count": null,
      "outputs": [
        {
          "output_type": "stream",
          "name": "stdout",
          "text": [
            "사람이 다가오고 있습니다<EOS>"
          ]
        }
      ]
    },
    {
      "cell_type": "code",
      "source": [
        "import numpy as np\n",
        "\n",
        "sentence2vec = np.array(sentence2vec_list, dtype=object)\n",
        "\n",
        "sequence_list = []\n",
        "for vec in sentence2vec:\n",
        "    for i in range(len(vec)):\n",
        "        sequence = vec[:i+1]\n",
        "        sequence_list.append(sequence)"
      ],
      "metadata": {
        "id": "H7Es6J949m4H"
      },
      "execution_count": null,
      "outputs": []
    },
    {
      "cell_type": "code",
      "source": [
        "sequence_list[:15]"
      ],
      "metadata": {
        "colab": {
          "base_uri": "https://localhost:8080/"
        },
        "id": "ioNgQx7p-fN3",
        "outputId": "8bee3fe4-0781-4802-9c9f-c9f706aafe9d"
      },
      "execution_count": null,
      "outputs": [
        {
          "output_type": "execute_result",
          "data": {
            "text/plain": [
              "[array([44]),\n",
              " array([44, 37]),\n",
              " array([44, 37, 32]),\n",
              " array([44, 37, 32, 22]),\n",
              " array([44, 37, 32, 22, 54]),\n",
              " array([44, 37, 32, 22, 54, 46]),\n",
              " array([44, 37, 32, 22, 54, 46, 63]),\n",
              " array([44, 37, 32, 22, 54, 46, 63, 20]),\n",
              " array([44, 37, 32, 22, 54, 46, 63, 20, 22]),\n",
              " array([44, 37, 32, 22, 54, 46, 63, 20, 22, 21]),\n",
              " array([44, 37, 32, 22, 54, 46, 63, 20, 22, 21, 23]),\n",
              " array([44, 37, 32, 22, 54, 46, 63, 20, 22, 21, 23, 29]),\n",
              " array([44, 37, 32, 22, 54, 46, 63, 20, 22, 21, 23, 29, 54]),\n",
              " array([44, 37, 32, 22, 54, 46, 63, 20, 22, 21, 23, 29, 54, 40]),\n",
              " array([44])]"
            ]
          },
          "metadata": {},
          "execution_count": 125
        }
      ]
    },
    {
      "cell_type": "code",
      "source": [
        "import matplotlib.pyplot as plt\n",
        "\n",
        "plt.hist([len(s) for s in sentence2vec_list], bins=50)\n",
        "plt.xlabel('length of samples')\n",
        "plt.ylabel('number of samples')\n",
        "plt.show()"
      ],
      "metadata": {
        "colab": {
          "base_uri": "https://localhost:8080/",
          "height": 279
        },
        "id": "3nGG-HIR_T11",
        "outputId": "b75360ad-58d2-44f3-fcb9-b9791d922682"
      },
      "execution_count": null,
      "outputs": [
        {
          "output_type": "display_data",
          "data": {
            "image/png": "[encoded data removed]",
            "text/plain": [
              "<Figure size 432x288 with 1 Axes>"
            ]
          },
          "metadata": {
            "needs_background": "light"
          }
        }
      ]
    },
    {
      "cell_type": "code",
      "source": [
        "from tensorflow.keras.preprocessing.sequence import pad_sequences\n",
        "\n",
        "max_len = max(map(len, sentence2vec_list))\n",
        "sequences = pad_sequences(sequence_list, maxlen=max_len, padding='pre')"
      ],
      "metadata": {
        "id": "gLJA50vr_9I3"
      },
      "execution_count": null,
      "outputs": []
    },
    {
      "cell_type": "code",
      "source": [
        "max_len"
      ],
      "metadata": {
        "colab": {
          "base_uri": "https://localhost:8080/"
        },
        "id": "Cqg4Qh1G0G-b",
        "outputId": "e7cec94b-b321-40bc-ea1a-f740392e1cfd"
      },
      "execution_count": null,
      "outputs": [
        {
          "output_type": "execute_result",
          "data": {
            "text/plain": [
              "30"
            ]
          },
          "metadata": {},
          "execution_count": 128
        }
      ]
    },
    {
      "cell_type": "code",
      "source": [
        "sequences[0]"
      ],
      "metadata": {
        "colab": {
          "base_uri": "https://localhost:8080/"
        },
        "id": "UACXWsOPBTn2",
        "outputId": "337573c7-5778-41ec-d3bb-ef528bdae4c0"
      },
      "execution_count": null,
      "outputs": [
        {
          "output_type": "execute_result",
          "data": {
            "text/plain": [
              "array([ 0,  0,  0,  0,  0,  0,  0,  0,  0,  0,  0,  0,  0,  0,  0,  0,  0,\n",
              "        0,  0,  0,  0,  0,  0,  0,  0,  0,  0,  0,  0, 44], dtype=int32)"
            ]
          },
          "metadata": {},
          "execution_count": 129
        }
      ]
    },
    {
      "cell_type": "code",
      "source": [
        "np.random.shuffle(sequences)\n",
        "split_num = int(len(sequences) * 0.8)\n",
        "\n",
        "X = sequences[:split_num,:-1]\n",
        "y = sequences[:split_num,-1]\n",
        "\n",
        "X_test = sequences[split_num:,:-1]\n",
        "y_test = sequences[split_num:,-1]"
      ],
      "metadata": {
        "id": "H1OXg0IwBqUt"
      },
      "execution_count": null,
      "outputs": []
    },
    {
      "cell_type": "code",
      "source": [
        "from tensorflow.keras.models import Sequential\n",
        "from tensorflow.keras.layers import Embedding, Dense, GRU\n",
        "\n",
        "model = Sequential()\n",
        "model.add(Embedding(5000, 300, input_length=max_len-1, mask_zero=True)) \n",
        "# 레이블을 분리하였으므로 이제 X의 길이는 max_len-1\n",
        "model.add(GRU(128))\n",
        "model.add(Dense(5000, activation='softmax'))\n",
        "model.compile(loss='sparse_categorical_crossentropy', optimizer='adam', metrics=['accuracy'])\n",
        "# sparse_categorical_crossentropy\n",
        "# categorical_crossentropy와 다른점은 정답 integer값을 원-핫벡터로 만들어주지 않아도 된다는점\n",
        "\n",
        "model.summary()\n",
        "\n",
        "hist = model.fit(X, y, validation_split=0.1, shuffle=True, epochs=70, batch_size=32, verbose=1)"
      ],
      "metadata": {
        "colab": {
          "base_uri": "https://localhost:8080/"
        },
        "id": "2Xe6WUSPCD5F",
        "outputId": "2ab16c04-afc3-4abf-b03a-0e4c16cb023e"
      },
      "execution_count": null,
      "outputs": [
        {
          "output_type": "stream",
          "name": "stdout",
          "text": [
            "Model: \"sequential_5\"\n",
            "_________________________________________________________________\n",
            " Layer (type)                Output Shape              Param #   \n",
            "=================================================================\n",
            " embedding_5 (Embedding)     (None, 29, 300)           1500000   \n",
            "                                                                 \n",
            " gru_5 (GRU)                 (None, 128)               165120    \n",
            "                                                                 \n",
            " dense_5 (Dense)             (None, 5000)              645000    \n",
            "                                                                 \n",
            "=================================================================\n",
            "Total params: 2,310,120\n",
            "Trainable params: 2,310,120\n",
            "Non-trainable params: 0\n",
            "_________________________________________________________________\n",
            "Epoch 1/70\n",
            "52/52 [==============================] - 15s 127ms/step - loss: 6.1227 - accuracy: 0.2241 - val_loss: 3.8530 - val_accuracy: 0.1467\n",
            "Epoch 2/70\n",
            "52/52 [==============================] - 5s 91ms/step - loss: 3.6388 - accuracy: 0.1847 - val_loss: 3.5985 - val_accuracy: 0.2011\n",
            "Epoch 3/70\n",
            "52/52 [==============================] - 5s 91ms/step - loss: 3.4390 - accuracy: 0.2193 - val_loss: 3.4744 - val_accuracy: 0.1467\n",
            "Epoch 4/70\n",
            "52/52 [==============================] - 5s 90ms/step - loss: 3.2974 - accuracy: 0.2550 - val_loss: 3.3426 - val_accuracy: 0.2500\n",
            "Epoch 5/70\n",
            "52/52 [==============================] - 5s 90ms/step - loss: 3.1273 - accuracy: 0.3028 - val_loss: 3.1844 - val_accuracy: 0.3370\n",
            "Epoch 6/70\n",
            "52/52 [==============================] - 5s 92ms/step - loss: 2.9360 - accuracy: 0.4173 - val_loss: 2.9811 - val_accuracy: 0.3859\n",
            "Epoch 7/70\n",
            "52/52 [==============================] - 5s 89ms/step - loss: 2.7000 - accuracy: 0.4706 - val_loss: 2.7609 - val_accuracy: 0.4022\n",
            "Epoch 8/70\n",
            "52/52 [==============================] - 5s 88ms/step - loss: 2.4087 - accuracy: 0.4924 - val_loss: 2.4568 - val_accuracy: 0.4293\n",
            "Epoch 9/70\n",
            "52/52 [==============================] - 5s 89ms/step - loss: 2.1214 - accuracy: 0.5790 - val_loss: 2.1638 - val_accuracy: 0.5761\n",
            "Epoch 10/70\n",
            "52/52 [==============================] - 5s 91ms/step - loss: 1.8687 - accuracy: 0.6632 - val_loss: 1.9187 - val_accuracy: 0.6576\n",
            "Epoch 11/70\n",
            "52/52 [==============================] - 5s 90ms/step - loss: 1.6494 - accuracy: 0.7123 - val_loss: 1.6935 - val_accuracy: 0.6902\n",
            "Epoch 12/70\n",
            "52/52 [==============================] - 5s 90ms/step - loss: 1.4458 - accuracy: 0.7632 - val_loss: 1.4860 - val_accuracy: 0.7391\n",
            "Epoch 13/70\n",
            "52/52 [==============================] - 5s 93ms/step - loss: 1.2716 - accuracy: 0.7916 - val_loss: 1.3305 - val_accuracy: 0.7609\n",
            "Epoch 14/70\n",
            "52/52 [==============================] - 5s 92ms/step - loss: 1.1462 - accuracy: 0.8062 - val_loss: 1.2168 - val_accuracy: 0.7772\n",
            "Epoch 15/70\n",
            "52/52 [==============================] - 5s 92ms/step - loss: 1.0591 - accuracy: 0.8153 - val_loss: 1.1402 - val_accuracy: 0.7772\n",
            "Epoch 16/70\n",
            "52/52 [==============================] - 5s 93ms/step - loss: 0.9977 - accuracy: 0.8256 - val_loss: 1.0893 - val_accuracy: 0.7989\n",
            "Epoch 17/70\n",
            "52/52 [==============================] - 5s 93ms/step - loss: 0.9493 - accuracy: 0.8286 - val_loss: 1.0441 - val_accuracy: 0.8152\n",
            "Epoch 18/70\n",
            "52/52 [==============================] - 5s 94ms/step - loss: 0.9076 - accuracy: 0.8419 - val_loss: 1.0296 - val_accuracy: 0.7989\n",
            "Epoch 19/70\n",
            "52/52 [==============================] - 5s 90ms/step - loss: 0.8741 - accuracy: 0.8413 - val_loss: 0.9795 - val_accuracy: 0.8098\n",
            "Epoch 20/70\n",
            "52/52 [==============================] - 5s 92ms/step - loss: 0.8456 - accuracy: 0.8425 - val_loss: 0.9557 - val_accuracy: 0.8207\n",
            "Epoch 21/70\n",
            "52/52 [==============================] - 5s 91ms/step - loss: 0.8222 - accuracy: 0.8504 - val_loss: 0.9443 - val_accuracy: 0.8152\n",
            "Epoch 22/70\n",
            "52/52 [==============================] - 5s 90ms/step - loss: 0.8036 - accuracy: 0.8480 - val_loss: 0.9244 - val_accuracy: 0.8261\n",
            "Epoch 23/70\n",
            "52/52 [==============================] - 5s 93ms/step - loss: 0.7871 - accuracy: 0.8522 - val_loss: 0.9288 - val_accuracy: 0.8152\n",
            "Epoch 24/70\n",
            "52/52 [==============================] - 5s 90ms/step - loss: 0.7720 - accuracy: 0.8522 - val_loss: 0.9089 - val_accuracy: 0.8207\n",
            "Epoch 25/70\n",
            "52/52 [==============================] - 5s 90ms/step - loss: 0.7570 - accuracy: 0.8504 - val_loss: 0.9052 - val_accuracy: 0.8207\n",
            "Epoch 26/70\n",
            "52/52 [==============================] - 5s 89ms/step - loss: 0.7493 - accuracy: 0.8504 - val_loss: 0.8877 - val_accuracy: 0.8207\n",
            "Epoch 27/70\n",
            "52/52 [==============================] - 5s 89ms/step - loss: 0.7390 - accuracy: 0.8546 - val_loss: 0.8927 - val_accuracy: 0.8098\n",
            "Epoch 28/70\n",
            "52/52 [==============================] - 5s 91ms/step - loss: 0.7308 - accuracy: 0.8534 - val_loss: 0.8810 - val_accuracy: 0.8207\n",
            "Epoch 29/70\n",
            "52/52 [==============================] - 5s 92ms/step - loss: 0.7183 - accuracy: 0.8534 - val_loss: 0.8687 - val_accuracy: 0.8152\n",
            "Epoch 30/70\n",
            "52/52 [==============================] - 5s 91ms/step - loss: 0.7103 - accuracy: 0.8546 - val_loss: 0.8724 - val_accuracy: 0.8152\n",
            "Epoch 31/70\n",
            "52/52 [==============================] - 5s 92ms/step - loss: 0.7014 - accuracy: 0.8577 - val_loss: 0.8604 - val_accuracy: 0.8152\n",
            "Epoch 32/70\n",
            "52/52 [==============================] - 5s 91ms/step - loss: 0.6932 - accuracy: 0.8565 - val_loss: 0.8610 - val_accuracy: 0.8152\n",
            "Epoch 33/70\n",
            "52/52 [==============================] - 5s 89ms/step - loss: 0.6867 - accuracy: 0.8565 - val_loss: 0.8628 - val_accuracy: 0.8152\n",
            "Epoch 34/70\n",
            "52/52 [==============================] - 5s 90ms/step - loss: 0.6801 - accuracy: 0.8595 - val_loss: 0.8558 - val_accuracy: 0.8152\n",
            "Epoch 35/70\n",
            "52/52 [==============================] - 5s 89ms/step - loss: 0.6744 - accuracy: 0.8601 - val_loss: 0.8601 - val_accuracy: 0.8152\n",
            "Epoch 36/70\n",
            "52/52 [==============================] - 5s 90ms/step - loss: 0.6716 - accuracy: 0.8595 - val_loss: 0.8512 - val_accuracy: 0.8152\n",
            "Epoch 37/70\n",
            "52/52 [==============================] - 5s 91ms/step - loss: 0.6628 - accuracy: 0.8625 - val_loss: 0.8460 - val_accuracy: 0.8152\n",
            "Epoch 38/70\n",
            "52/52 [==============================] - 5s 91ms/step - loss: 0.6545 - accuracy: 0.8613 - val_loss: 0.8423 - val_accuracy: 0.8315\n",
            "Epoch 39/70\n",
            "52/52 [==============================] - 5s 91ms/step - loss: 0.6511 - accuracy: 0.8613 - val_loss: 0.8443 - val_accuracy: 0.8207\n",
            "Epoch 40/70\n",
            "52/52 [==============================] - 5s 90ms/step - loss: 0.6446 - accuracy: 0.8631 - val_loss: 0.8371 - val_accuracy: 0.8098\n",
            "Epoch 41/70\n",
            "52/52 [==============================] - 5s 90ms/step - loss: 0.6417 - accuracy: 0.8601 - val_loss: 0.8393 - val_accuracy: 0.8207\n",
            "Epoch 42/70\n",
            "52/52 [==============================] - 5s 90ms/step - loss: 0.6356 - accuracy: 0.8613 - val_loss: 0.8446 - val_accuracy: 0.8207\n",
            "Epoch 43/70\n",
            "52/52 [==============================] - 5s 91ms/step - loss: 0.6303 - accuracy: 0.8625 - val_loss: 0.8281 - val_accuracy: 0.8207\n",
            "Epoch 44/70\n",
            "52/52 [==============================] - 5s 92ms/step - loss: 0.6249 - accuracy: 0.8631 - val_loss: 0.8350 - val_accuracy: 0.8261\n",
            "Epoch 45/70\n",
            "52/52 [==============================] - 5s 92ms/step - loss: 0.6165 - accuracy: 0.8607 - val_loss: 0.8168 - val_accuracy: 0.8152\n",
            "Epoch 46/70\n",
            "52/52 [==============================] - 5s 92ms/step - loss: 0.6124 - accuracy: 0.8613 - val_loss: 0.8214 - val_accuracy: 0.8261\n",
            "Epoch 47/70\n",
            "52/52 [==============================] - 5s 90ms/step - loss: 0.6087 - accuracy: 0.8643 - val_loss: 0.8160 - val_accuracy: 0.8261\n",
            "Epoch 48/70\n",
            "52/52 [==============================] - 5s 91ms/step - loss: 0.6068 - accuracy: 0.8583 - val_loss: 0.8127 - val_accuracy: 0.8261\n",
            "Epoch 49/70\n",
            "52/52 [==============================] - 5s 92ms/step - loss: 0.6010 - accuracy: 0.8613 - val_loss: 0.8155 - val_accuracy: 0.8261\n",
            "Epoch 50/70\n",
            "52/52 [==============================] - 5s 91ms/step - loss: 0.5941 - accuracy: 0.8649 - val_loss: 0.8192 - val_accuracy: 0.8261\n",
            "Epoch 51/70\n",
            "52/52 [==============================] - 5s 91ms/step - loss: 0.5921 - accuracy: 0.8637 - val_loss: 0.7959 - val_accuracy: 0.8315\n",
            "Epoch 52/70\n",
            "52/52 [==============================] - 5s 91ms/step - loss: 0.5840 - accuracy: 0.8637 - val_loss: 0.8124 - val_accuracy: 0.8152\n",
            "Epoch 53/70\n",
            "52/52 [==============================] - 5s 91ms/step - loss: 0.5807 - accuracy: 0.8655 - val_loss: 0.8079 - val_accuracy: 0.8207\n",
            "Epoch 54/70\n",
            "52/52 [==============================] - 5s 90ms/step - loss: 0.5763 - accuracy: 0.8661 - val_loss: 0.7876 - val_accuracy: 0.8261\n",
            "Epoch 55/70\n",
            "52/52 [==============================] - 5s 90ms/step - loss: 0.5753 - accuracy: 0.8674 - val_loss: 0.7853 - val_accuracy: 0.8261\n",
            "Epoch 56/70\n",
            "52/52 [==============================] - 5s 91ms/step - loss: 0.5706 - accuracy: 0.8649 - val_loss: 0.8015 - val_accuracy: 0.8261\n",
            "Epoch 57/70\n",
            "52/52 [==============================] - 5s 92ms/step - loss: 0.5650 - accuracy: 0.8613 - val_loss: 0.7946 - val_accuracy: 0.8207\n",
            "Epoch 58/70\n",
            "52/52 [==============================] - 5s 92ms/step - loss: 0.5603 - accuracy: 0.8667 - val_loss: 0.7978 - val_accuracy: 0.8207\n",
            "Epoch 59/70\n",
            "52/52 [==============================] - 5s 92ms/step - loss: 0.5567 - accuracy: 0.8686 - val_loss: 0.7998 - val_accuracy: 0.8261\n",
            "Epoch 60/70\n",
            "52/52 [==============================] - 5s 90ms/step - loss: 0.5528 - accuracy: 0.8631 - val_loss: 0.7824 - val_accuracy: 0.8207\n",
            "Epoch 61/70\n",
            "52/52 [==============================] - 5s 92ms/step - loss: 0.5478 - accuracy: 0.8649 - val_loss: 0.7929 - val_accuracy: 0.8152\n",
            "Epoch 62/70\n",
            "52/52 [==============================] - 5s 92ms/step - loss: 0.5445 - accuracy: 0.8661 - val_loss: 0.7874 - val_accuracy: 0.8207\n",
            "Epoch 63/70\n",
            "52/52 [==============================] - 5s 93ms/step - loss: 0.5403 - accuracy: 0.8674 - val_loss: 0.7844 - val_accuracy: 0.8207\n",
            "Epoch 64/70\n",
            "52/52 [==============================] - 5s 92ms/step - loss: 0.5328 - accuracy: 0.8674 - val_loss: 0.7875 - val_accuracy: 0.8261\n",
            "Epoch 65/70\n",
            "52/52 [==============================] - 5s 93ms/step - loss: 0.5301 - accuracy: 0.8698 - val_loss: 0.7772 - val_accuracy: 0.8152\n",
            "Epoch 66/70\n",
            "52/52 [==============================] - 5s 92ms/step - loss: 0.5291 - accuracy: 0.8686 - val_loss: 0.7802 - val_accuracy: 0.8152\n",
            "Epoch 67/70\n",
            "52/52 [==============================] - 5s 93ms/step - loss: 0.5244 - accuracy: 0.8631 - val_loss: 0.7671 - val_accuracy: 0.8207\n",
            "Epoch 68/70\n",
            "52/52 [==============================] - 5s 92ms/step - loss: 0.5201 - accuracy: 0.8667 - val_loss: 0.7727 - val_accuracy: 0.8261\n",
            "Epoch 69/70\n",
            "52/52 [==============================] - 5s 93ms/step - loss: 0.5160 - accuracy: 0.8655 - val_loss: 0.7796 - val_accuracy: 0.8207\n",
            "Epoch 70/70\n",
            "52/52 [==============================] - 5s 93ms/step - loss: 0.5121 - accuracy: 0.8667 - val_loss: 0.7770 - val_accuracy: 0.8152\n"
          ]
        }
      ]
    },
    {
      "cell_type": "code",
      "source": [
        "from IPython.display import SVG\n",
        "from keras.utils.vis_utils import model_to_dot\n",
        "\n",
        "%matplotlib inline\n",
        "\n",
        "SVG(model_to_dot(model, show_shapes=True, dpi=65).create(prog='dot', format='svg'))"
      ],
      "metadata": {
        "colab": {
          "base_uri": "https://localhost:8080/",
          "height": 387
        },
        "id": "WTcXpJLJf6dN",
        "outputId": "4fdf172f-8504-4583-9957-d371624b31f8"
      },
      "execution_count": null,
      "outputs": [
        {
          "output_type": "execute_result",
          "data": {
            "text/plain": [
              "<IPython.core.display.SVG object>"
            ],
            "image/svg+xml": "<svg height=\"274pt\" viewBox=\"0.00 0.00 369.00 304.00\" width=\"333pt\" xmlns=\"http://www.w3.org/2000/svg\" xmlns:xlink=\"http://www.w3.org/1999/xlink\">\n<g class=\"graph\" id=\"graph0\" transform=\"scale(.9028 .9028) rotate(0) translate(4 300)\">\n<title>G</title>\n<polygon fill=\"#ffffff\" points=\"-4,4 -4,-300 365,-300 365,4 -4,4\" stroke=\"transparent\"/>\n<!-- 140404358370960 -->\n<g class=\"node\" id=\"node1\">\n<title>140404358370960</title>\n<polygon fill=\"none\" points=\"0,-249.5 0,-295.5 361,-295.5 361,-249.5 0,-249.5\" stroke=\"#000000\"/>\n<text fill=\"#000000\" font-family=\"Times,serif\" font-size=\"14.00\" text-anchor=\"middle\" x=\"67\" y=\"-268.8\">embedding_5_input</text>\n<polyline fill=\"none\" points=\"134,-249.5 134,-295.5 \" stroke=\"#000000\"/>\n<text fill=\"#000000\" font-family=\"Times,serif\" font-size=\"14.00\" text-anchor=\"middle\" x=\"174\" y=\"-268.8\">InputLayer</text>\n<polyline fill=\"none\" points=\"214,-249.5 214,-295.5 \" stroke=\"#000000\"/>\n<text fill=\"#000000\" font-family=\"Times,serif\" font-size=\"14.00\" text-anchor=\"middle\" x=\"243\" y=\"-280.3\">input:</text>\n<polyline fill=\"none\" points=\"214,-272.5 272,-272.5 \" stroke=\"#000000\"/>\n<text fill=\"#000000\" font-family=\"Times,serif\" font-size=\"14.00\" text-anchor=\"middle\" x=\"243\" y=\"-257.3\">output:</text>\n<polyline fill=\"none\" points=\"272,-249.5 272,-295.5 \" stroke=\"#000000\"/>\n<text fill=\"#000000\" font-family=\"Times,serif\" font-size=\"14.00\" text-anchor=\"middle\" x=\"316.5\" y=\"-280.3\">[(None, 29)]</text>\n<polyline fill=\"none\" points=\"272,-272.5 361,-272.5 \" stroke=\"#000000\"/>\n<text fill=\"#000000\" font-family=\"Times,serif\" font-size=\"14.00\" text-anchor=\"middle\" x=\"316.5\" y=\"-257.3\">[(None, 29)]</text>\n</g>\n<!-- 140404358369488 -->\n<g class=\"node\" id=\"node2\">\n<title>140404358369488</title>\n<polygon fill=\"none\" points=\"6.5,-166.5 6.5,-212.5 354.5,-212.5 354.5,-166.5 6.5,-166.5\" stroke=\"#000000\"/>\n<text fill=\"#000000\" font-family=\"Times,serif\" font-size=\"14.00\" text-anchor=\"middle\" x=\"54.5\" y=\"-185.8\">embedding_5</text>\n<polyline fill=\"none\" points=\"102.5,-166.5 102.5,-212.5 \" stroke=\"#000000\"/>\n<text fill=\"#000000\" font-family=\"Times,serif\" font-size=\"14.00\" text-anchor=\"middle\" x=\"144.5\" y=\"-185.8\">Embedding</text>\n<polyline fill=\"none\" points=\"186.5,-166.5 186.5,-212.5 \" stroke=\"#000000\"/>\n<text fill=\"#000000\" font-family=\"Times,serif\" font-size=\"14.00\" text-anchor=\"middle\" x=\"215.5\" y=\"-197.3\">input:</text>\n<polyline fill=\"none\" points=\"186.5,-189.5 244.5,-189.5 \" stroke=\"#000000\"/>\n<text fill=\"#000000\" font-family=\"Times,serif\" font-size=\"14.00\" text-anchor=\"middle\" x=\"215.5\" y=\"-174.3\">output:</text>\n<polyline fill=\"none\" points=\"244.5,-166.5 244.5,-212.5 \" stroke=\"#000000\"/>\n<text fill=\"#000000\" font-family=\"Times,serif\" font-size=\"14.00\" text-anchor=\"middle\" x=\"299.5\" y=\"-197.3\">(None, 29)</text>\n<polyline fill=\"none\" points=\"244.5,-189.5 354.5,-189.5 \" stroke=\"#000000\"/>\n<text fill=\"#000000\" font-family=\"Times,serif\" font-size=\"14.00\" text-anchor=\"middle\" x=\"299.5\" y=\"-174.3\">(None, 29, 300)</text>\n</g>\n<!-- 140404358370960&#45;&gt;140404358369488 -->\n<g class=\"edge\" id=\"edge1\">\n<title>140404358370960-&gt;140404358369488</title>\n<path d=\"M180.5,-249.3799C180.5,-241.1745 180.5,-231.7679 180.5,-222.8786\" fill=\"none\" stroke=\"#000000\"/>\n<polygon fill=\"#000000\" points=\"184.0001,-222.784 180.5,-212.784 177.0001,-222.784 184.0001,-222.784\" stroke=\"#000000\"/>\n</g>\n<!-- 140404358370064 -->\n<g class=\"node\" id=\"node3\">\n<title>140404358370064</title>\n<polygon fill=\"none\" points=\"47.5,-83.5 47.5,-129.5 313.5,-129.5 313.5,-83.5 47.5,-83.5\" stroke=\"#000000\"/>\n<text fill=\"#000000\" font-family=\"Times,serif\" font-size=\"14.00\" text-anchor=\"middle\" x=\"73\" y=\"-102.8\">gru_5</text>\n<polyline fill=\"none\" points=\"98.5,-83.5 98.5,-129.5 \" stroke=\"#000000\"/>\n<text fill=\"#000000\" font-family=\"Times,serif\" font-size=\"14.00\" text-anchor=\"middle\" x=\"122\" y=\"-102.8\">GRU</text>\n<polyline fill=\"none\" points=\"145.5,-83.5 145.5,-129.5 \" stroke=\"#000000\"/>\n<text fill=\"#000000\" font-family=\"Times,serif\" font-size=\"14.00\" text-anchor=\"middle\" x=\"174.5\" y=\"-114.3\">input:</text>\n<polyline fill=\"none\" points=\"145.5,-106.5 203.5,-106.5 \" stroke=\"#000000\"/>\n<text fill=\"#000000\" font-family=\"Times,serif\" font-size=\"14.00\" text-anchor=\"middle\" x=\"174.5\" y=\"-91.3\">output:</text>\n<polyline fill=\"none\" points=\"203.5,-83.5 203.5,-129.5 \" stroke=\"#000000\"/>\n<text fill=\"#000000\" font-family=\"Times,serif\" font-size=\"14.00\" text-anchor=\"middle\" x=\"258.5\" y=\"-114.3\">(None, 29, 300)</text>\n<polyline fill=\"none\" points=\"203.5,-106.5 313.5,-106.5 \" stroke=\"#000000\"/>\n<text fill=\"#000000\" font-family=\"Times,serif\" font-size=\"14.00\" text-anchor=\"middle\" x=\"258.5\" y=\"-91.3\">(None, 128)</text>\n</g>\n<!-- 140404358369488&#45;&gt;140404358370064 -->\n<g class=\"edge\" id=\"edge2\">\n<title>140404358369488-&gt;140404358370064</title>\n<path d=\"M180.5,-166.3799C180.5,-158.1745 180.5,-148.7679 180.5,-139.8786\" fill=\"none\" stroke=\"#000000\"/>\n<polygon fill=\"#000000\" points=\"184.0001,-139.784 180.5,-129.784 177.0001,-139.784 184.0001,-139.784\" stroke=\"#000000\"/>\n</g>\n<!-- 140404428000464 -->\n<g class=\"node\" id=\"node4\">\n<title>140404428000464</title>\n<polygon fill=\"none\" points=\"46,-.5 46,-46.5 315,-46.5 315,-.5 46,-.5\" stroke=\"#000000\"/>\n<text fill=\"#000000\" font-family=\"Times,serif\" font-size=\"14.00\" text-anchor=\"middle\" x=\"78\" y=\"-19.8\">dense_5</text>\n<polyline fill=\"none\" points=\"110,-.5 110,-46.5 \" stroke=\"#000000\"/>\n<text fill=\"#000000\" font-family=\"Times,serif\" font-size=\"14.00\" text-anchor=\"middle\" x=\"136\" y=\"-19.8\">Dense</text>\n<polyline fill=\"none\" points=\"162,-.5 162,-46.5 \" stroke=\"#000000\"/>\n<text fill=\"#000000\" font-family=\"Times,serif\" font-size=\"14.00\" text-anchor=\"middle\" x=\"191\" y=\"-31.3\">input:</text>\n<polyline fill=\"none\" points=\"162,-23.5 220,-23.5 \" stroke=\"#000000\"/>\n<text fill=\"#000000\" font-family=\"Times,serif\" font-size=\"14.00\" text-anchor=\"middle\" x=\"191\" y=\"-8.3\">output:</text>\n<polyline fill=\"none\" points=\"220,-.5 220,-46.5 \" stroke=\"#000000\"/>\n<text fill=\"#000000\" font-family=\"Times,serif\" font-size=\"14.00\" text-anchor=\"middle\" x=\"267.5\" y=\"-31.3\">(None, 128)</text>\n<polyline fill=\"none\" points=\"220,-23.5 315,-23.5 \" stroke=\"#000000\"/>\n<text fill=\"#000000\" font-family=\"Times,serif\" font-size=\"14.00\" text-anchor=\"middle\" x=\"267.5\" y=\"-8.3\">(None, 5000)</text>\n</g>\n<!-- 140404358370064&#45;&gt;140404428000464 -->\n<g class=\"edge\" id=\"edge3\">\n<title>140404358370064-&gt;140404428000464</title>\n<path d=\"M180.5,-83.3799C180.5,-75.1745 180.5,-65.7679 180.5,-56.8786\" fill=\"none\" stroke=\"#000000\"/>\n<polygon fill=\"#000000\" points=\"184.0001,-56.784 180.5,-46.784 177.0001,-56.784 184.0001,-56.784\" stroke=\"#000000\"/>\n</g>\n</g>\n</svg>"
          },
          "metadata": {},
          "execution_count": 133
        }
      ]
    },
    {
      "cell_type": "code",
      "source": [
        "%matplotlib inline\n",
        "import matplotlib.pyplot as plt\n",
        "\n",
        "fig, loss_ax = plt.subplots()\n",
        "\n",
        "acc_ax = loss_ax.twinx()\n",
        "\n",
        "loss_ax.plot(hist.history['loss'], 'y', label='train loss')\n",
        "loss_ax.plot(hist.history['val_loss'], 'r', label='val loss')\n",
        "\n",
        "acc_ax.plot(hist.history['accuracy'], 'b', label='train acc')\n",
        "acc_ax.plot(hist.history['val_accuracy'], 'g', label='val acc')\n",
        "\n",
        "loss_ax.set_xlabel('epoch')\n",
        "loss_ax.set_ylabel('loss')\n",
        "acc_ax.set_ylabel('accuray')\n",
        "\n",
        "loss_ax.legend(loc='upper left')\n",
        "acc_ax.legend(loc='lower left')\n",
        "\n",
        "plt.show()\n"
      ],
      "metadata": {
        "colab": {
          "base_uri": "https://localhost:8080/",
          "height": 282
        },
        "id": "AXy02lZLDJB3",
        "outputId": "6f09a549-633d-4ead-c038-c97ebbee8daa"
      },
      "execution_count": null,
      "outputs": [
        {
          "output_type": "display_data",
          "data": {
            "image/png": "[encoded data removed]",
            "text/plain": [
              "<Figure size 432x288 with 2 Axes>"
            ]
          },
          "metadata": {
            "needs_background": "light"
          }
        }
      ]
    },
    {
      "cell_type": "code",
      "source": [
        "loss_and_metrics = model.evaluate(X_test, y_test, batch_size=32)\n",
        "\n",
        "print('')\n",
        "print('loss : ' + str(loss_and_metrics[0]))\n",
        "print('accuray : ' + str(loss_and_metrics[1]))"
      ],
      "metadata": {
        "colab": {
          "base_uri": "https://localhost:8080/"
        },
        "id": "NVEUJNcgF5v8",
        "outputId": "163f8d99-1dcd-4898-e5f4-9830cf0ab7f0"
      },
      "execution_count": null,
      "outputs": [
        {
          "output_type": "stream",
          "name": "stdout",
          "text": [
            "15/15 [==============================] - 0s 20ms/step - loss: 0.8933 - accuracy: 0.7996\n",
            "\n",
            "loss : 0.893280565738678\n",
            "accuray : 0.7995642423629761\n"
          ]
        }
      ]
    },
    {
      "cell_type": "code",
      "source": [
        "n = 35\n",
        "max_len = 30\n",
        "\n",
        "\n",
        "current_word = '차'\n",
        "init_word = current_word # 처음 들어온 단어도 마지막에 같이 출력하기위해 저장\n",
        "sentence = ''\n",
        "\n",
        "for _ in range(n): # n번 반복\n",
        "    encoded = [char2idx[token] for token in current_word]#t.texts_to_sequences([current_word])[0] \n",
        "    # 현재 단어에 대한 정수 인코딩\n",
        "    \n",
        "    encoded = pad_sequences([encoded], maxlen=max_len-1, padding='pre') \n",
        "    # 데이터에 대한 패딩\n",
        "    \n",
        "    result = np.argmax(model.predict(encoded), axis=-1) \n",
        "\t\n",
        "    # 입력한 X(현재 단어)에 대해서 Y를 예측하고 Y(예측한 단어)를 result에 저장.\n",
        "    for word, index in char2idx.items(): \n",
        "        if index == result: # 만약 예측한 단어와 인덱스와 동일한 단어가 있다면\n",
        "            break # 해당 단어가 예측 단어이므로 break\n",
        "    current_word = current_word + word # 현재 단어 + ' ' + 예측 단어를 현재 단어로 변경\n",
        "    sentence = sentence + word # 예측 단어를 문장에 저장\n",
        "    if word == '<EOS>':\n",
        "        break;\n",
        "# for문이므로 이 행동을 다시 반복\n",
        "sentence = init_word + sentence\n",
        "sentence.replace('<EOS>',\"\")"
      ],
      "metadata": {
        "colab": {
          "base_uri": "https://localhost:8080/",
          "height": 35
        },
        "id": "AblqWiyVGLsQ",
        "outputId": "adb7ba51-801c-48ae-b39c-45a4fdb839cf"
      },
      "execution_count": null,
      "outputs": [
        {
          "output_type": "execute_result",
          "data": {
            "application/vnd.google.colaboratory.intrinsic+json": {
              "type": "string"
            },
            "text/plain": [
              "'차가 있습니다'"
            ]
          },
          "metadata": {},
          "execution_count": 136
        }
      ]
    },
    {
      "cell_type": "code",
      "source": [
        "n = 35\n",
        "\n",
        "\n",
        "current_word = '사람'\n",
        "init_word = current_word # 처음 들어온 단어도 마지막에 같이 출력하기위해 저장\n",
        "sentence = ''\n",
        "\n",
        "for _ in range(n): # n번 반복\n",
        "    encoded = [char2idx[token] for token in current_word]#t.texts_to_sequences([current_word])[0] \n",
        "    # 현재 단어에 대한 정수 인코딩\n",
        "    \n",
        "    encoded = pad_sequences([encoded], maxlen=max_len-1, padding='pre') \n",
        "    # 데이터에 대한 패딩\n",
        "    \n",
        "    result = np.argmax(model.predict(encoded), axis=-1) \n",
        "\t\n",
        "    # 입력한 X(현재 단어)에 대해서 Y를 예측하고 Y(예측한 단어)를 result에 저장.\n",
        "    for word, index in char2idx.items(): \n",
        "        if index == result: # 만약 예측한 단어와 인덱스와 동일한 단어가 있다면\n",
        "            break # 해당 단어가 예측 단어이므로 break\n",
        "    current_word = current_word + word # 현재 단어 + ' ' + 예측 단어를 현재 단어로 변경\n",
        "    sentence = sentence + word # 예측 단어를 문장에 저장\n",
        "    if word == '<EOS>':\n",
        "        break;\n",
        "# for문이므로 이 행동을 다시 반복\n",
        "sentence = init_word + sentence\n",
        "sentence.replace('<EOS>',\"\")"
      ],
      "metadata": {
        "colab": {
          "base_uri": "https://localhost:8080/",
          "height": 35
        },
        "id": "_FlANvt-S_Vu",
        "outputId": "528008a7-6aee-4497-dd48-bfc91f2b7a93"
      },
      "execution_count": null,
      "outputs": [
        {
          "output_type": "execute_result",
          "data": {
            "application/vnd.google.colaboratory.intrinsic+json": {
              "type": "string"
            },
            "text/plain": [
              "'사람이 앞에 있습니다'"
            ]
          },
          "metadata": {},
          "execution_count": 137
        }
      ]
    },
    {
      "cell_type": "code",
      "source": [
        "n = 35\n",
        "\n",
        "\n",
        "current_word = '자전거'\n",
        "init_word = current_word # 처음 들어온 단어도 마지막에 같이 출력하기위해 저장\n",
        "sentence = ''\n",
        "\n",
        "for _ in range(n): # n번 반복\n",
        "    encoded = [char2idx[token] for token in current_word]#t.texts_to_sequences([current_word])[0] \n",
        "    # 현재 단어에 대한 정수 인코딩\n",
        "    \n",
        "    encoded = pad_sequences([encoded], maxlen=max_len-1, padding='pre') \n",
        "    # 데이터에 대한 패딩\n",
        "    \n",
        "    result = np.argmax(model.predict(encoded), axis=-1) \n",
        "\t\n",
        "    # 입력한 X(현재 단어)에 대해서 Y를 예측하고 Y(예측한 단어)를 result에 저장.\n",
        "    for word, index in char2idx.items(): \n",
        "        if index == result: # 만약 예측한 단어와 인덱스와 동일한 단어가 있다면\n",
        "            break # 해당 단어가 예측 단어이므로 break\n",
        "    current_word = current_word + word # 현재 단어 + ' ' + 예측 단어를 현재 단어로 변경\n",
        "    sentence = sentence + word # 예측 단어를 문장에 저장\n",
        "    if word == '<EOS>':\n",
        "        break;\n",
        "# for문이므로 이 행동을 다시 반복\n",
        "sentence = init_word + sentence\n",
        "sentence.replace('<EOS>',\"\")"
      ],
      "metadata": {
        "colab": {
          "base_uri": "https://localhost:8080/",
          "height": 35
        },
        "id": "eCjiX4LeTFDT",
        "outputId": "dda6a316-24b0-4eec-e74e-d0d4efd7a393"
      },
      "execution_count": null,
      "outputs": [
        {
          "output_type": "execute_result",
          "data": {
            "application/vnd.google.colaboratory.intrinsic+json": {
              "type": "string"
            },
            "text/plain": [
              "'자전거가 앞에 있습니다'"
            ]
          },
          "metadata": {},
          "execution_count": 138
        }
      ]
    },
    {
      "cell_type": "code",
      "source": [
        "n = 35\n",
        "\n",
        "\n",
        "current_word = '전동킥보드'\n",
        "init_word = current_word # 처음 들어온 단어도 마지막에 같이 출력하기위해 저장\n",
        "sentence = ''\n",
        "\n",
        "for _ in range(n): # n번 반복\n",
        "    encoded = [char2idx[token] for token in current_word]#t.texts_to_sequences([current_word])[0] \n",
        "    # 현재 단어에 대한 정수 인코딩\n",
        "    \n",
        "    encoded = pad_sequences([encoded], maxlen=max_len-1, padding='pre') \n",
        "    # 데이터에 대한 패딩\n",
        "    \n",
        "    result = np.argmax(model.predict(encoded), axis=-1) \n",
        "\t\n",
        "    # 입력한 X(현재 단어)에 대해서 Y를 예측하고 Y(예측한 단어)를 result에 저장.\n",
        "    for word, index in char2idx.items(): \n",
        "        if index == result: # 만약 예측한 단어와 인덱스와 동일한 단어가 있다면\n",
        "            break # 해당 단어가 예측 단어이므로 break\n",
        "    current_word = current_word + word # 현재 단어 + ' ' + 예측 단어를 현재 단어로 변경\n",
        "    sentence = sentence + word # 예측 단어를 문장에 저장\n",
        "    if word == '<EOS>':\n",
        "        break;\n",
        "# for문이므로 이 행동을 다시 반복\n",
        "sentence = init_word + sentence\n",
        "sentence.replace('<EOS>',\"\")"
      ],
      "metadata": {
        "colab": {
          "base_uri": "https://localhost:8080/",
          "height": 35
        },
        "id": "AH7jIRQQbwQk",
        "outputId": "67cba7ad-8e8c-4f34-fe11-a8270c0cc54c"
      },
      "execution_count": null,
      "outputs": [
        {
          "output_type": "execute_result",
          "data": {
            "application/vnd.google.colaboratory.intrinsic+json": {
              "type": "string"
            },
            "text/plain": [
              "'전동킥보드를 탄 사람이 있습니다'"
            ]
          },
          "metadata": {},
          "execution_count": 139
        }
      ]
    },
    {
      "cell_type": "code",
      "source": [
        "n = 35\n",
        "\n",
        "\n",
        "current_word = '볼라드'\n",
        "init_word = current_word # 처음 들어온 단어도 마지막에 같이 출력하기위해 저장\n",
        "sentence = ''\n",
        "\n",
        "for _ in range(n): # n번 반복\n",
        "    encoded = [char2idx[token] for token in current_word]#t.texts_to_sequences([current_word])[0] \n",
        "    # 현재 단어에 대한 정수 인코딩\n",
        "    \n",
        "    encoded = pad_sequences([encoded], maxlen=max_len-1, padding='pre') \n",
        "    # 데이터에 대한 패딩\n",
        "    \n",
        "    result = np.argmax(model.predict(encoded), axis=-1) \n",
        "\t\n",
        "    # 입력한 X(현재 단어)에 대해서 Y를 예측하고 Y(예측한 단어)를 result에 저장.\n",
        "    for word, index in char2idx.items(): \n",
        "        if index == result: # 만약 예측한 단어와 인덱스와 동일한 단어가 있다면\n",
        "            break # 해당 단어가 예측 단어이므로 break\n",
        "    current_word = current_word + word # 현재 단어 + ' ' + 예측 단어를 현재 단어로 변경\n",
        "    sentence = sentence + word # 예측 단어를 문장에 저장\n",
        "    if word == '<EOS>':\n",
        "        break;\n",
        "# for문이므로 이 행동을 다시 반복\n",
        "sentence = init_word + sentence\n",
        "sentence.replace('<EOS>',\"\")"
      ],
      "metadata": {
        "colab": {
          "base_uri": "https://localhost:8080/",
          "height": 35
        },
        "id": "t9oBtLL8fi2f",
        "outputId": "900a70f4-e13f-4243-c193-ebac1b6b4194"
      },
      "execution_count": null,
      "outputs": [
        {
          "output_type": "execute_result",
          "data": {
            "application/vnd.google.colaboratory.intrinsic+json": {
              "type": "string"
            },
            "text/plain": [
              "'볼라드가 앞에 있습니다'"
            ]
          },
          "metadata": {},
          "execution_count": 140
        }
      ]
    },
    {
      "cell_type": "code",
      "source": [
        "n = 35\n",
        "\n",
        "\n",
        "current_word = '오토바이'\n",
        "init_word = current_word # 처음 들어온 단어도 마지막에 같이 출력하기위해 저장\n",
        "sentence = ''\n",
        "\n",
        "for _ in range(n): # n번 반복\n",
        "    encoded = [char2idx[token] for token in current_word]#t.texts_to_sequences([current_word])[0] \n",
        "    # 현재 단어에 대한 정수 인코딩\n",
        "    \n",
        "    encoded = pad_sequences([encoded], maxlen=max_len-1, padding='pre') \n",
        "    # 데이터에 대한 패딩\n",
        "    \n",
        "    result = np.argmax(model.predict(encoded), axis=-1) \n",
        "\t\n",
        "    # 입력한 X(현재 단어)에 대해서 Y를 예측하고 Y(예측한 단어)를 result에 저장.\n",
        "    for word, index in char2idx.items(): \n",
        "        if index == result: # 만약 예측한 단어와 인덱스와 동일한 단어가 있다면\n",
        "            break # 해당 단어가 예측 단어이므로 break\n",
        "    current_word = current_word + word # 현재 단어 + ' ' + 예측 단어를 현재 단어로 변경\n",
        "    sentence = sentence + word # 예측 단어를 문장에 저장\n",
        "    if word == '<EOS>':\n",
        "        break;\n",
        "# for문이므로 이 행동을 다시 반복\n",
        "sentence = init_word + sentence\n",
        "sentence.replace('<EOS>',\"\")"
      ],
      "metadata": {
        "colab": {
          "base_uri": "https://localhost:8080/",
          "height": 35
        },
        "id": "fZztbwCJfmZS",
        "outputId": "b7755281-6b40-4c2f-ab37-0ab72de231f5"
      },
      "execution_count": null,
      "outputs": [
        {
          "output_type": "execute_result",
          "data": {
            "application/vnd.google.colaboratory.intrinsic+json": {
              "type": "string"
            },
            "text/plain": [
              "'오토바이가 앞에 있습니다'"
            ]
          },
          "metadata": {},
          "execution_count": 141
        }
      ]
    },
    {
      "cell_type": "markdown",
      "source": [
        "모델 저장"
      ],
      "metadata": {
        "id": "t93MDv1t01kv"
      }
    },
    {
      "cell_type": "code",
      "source": [
        "from keras.models import load_model\n",
        "model.save('senten_generating_model3.h5')"
      ],
      "metadata": {
        "id": "GFDb6XF1GeHN"
      },
      "execution_count": null,
      "outputs": []
    },
    {
      "cell_type": "markdown",
      "source": [
        "모델 불러와 사용해보기"
      ],
      "metadata": {
        "id": "zyjEWuWo8hhP"
      }
    },
    {
      "cell_type": "code",
      "source": [
        "from keras.utils import np_utils\n",
        "from keras.datasets import mnist\n",
        "from keras.models import Sequential\n",
        "from keras.layers import Dense, Activation\n",
        "import numpy as np\n",
        "from numpy import argmax\n",
        "\n",
        "from keras.models import load_model\n",
        "model = load_model('/content/senten_generating_model3.h5')"
      ],
      "metadata": {
        "id": "_8eh5fcdoAav"
      },
      "execution_count": 2,
      "outputs": []
    },
    {
      "cell_type": "code",
      "source": [
        "from IPython.display import SVG\n",
        "from keras.utils.vis_utils import model_to_dot\n",
        "\n",
        "%matplotlib inline\n",
        "\n",
        "SVG(model_to_dot(model, show_shapes=True, dpi=65).create(prog='dot', format='svg'))"
      ],
      "metadata": {
        "colab": {
          "base_uri": "https://localhost:8080/",
          "height": 387
        },
        "id": "86gdzLKUHzRy",
        "outputId": "264e4211-7559-4599-c964-798400977d3b"
      },
      "execution_count": 3,
      "outputs": [
        {
          "output_type": "execute_result",
          "data": {
            "text/plain": [
              "<IPython.core.display.SVG object>"
            ],
            "image/svg+xml": "<svg height=\"274pt\" viewBox=\"0.00 0.00 369.00 304.00\" width=\"333pt\" xmlns=\"http://www.w3.org/2000/svg\" xmlns:xlink=\"http://www.w3.org/1999/xlink\">\n<g class=\"graph\" id=\"graph0\" transform=\"scale(.9028 .9028) rotate(0) translate(4 300)\">\n<title>G</title>\n<polygon fill=\"#ffffff\" points=\"-4,4 -4,-300 365,-300 365,4 -4,4\" stroke=\"transparent\"/>\n<!-- 139766313892048 -->\n<g class=\"node\" id=\"node1\">\n<title>139766313892048</title>\n<polygon fill=\"none\" points=\"0,-249.5 0,-295.5 361,-295.5 361,-249.5 0,-249.5\" stroke=\"#000000\"/>\n<text fill=\"#000000\" font-family=\"Times,serif\" font-size=\"14.00\" text-anchor=\"middle\" x=\"67\" y=\"-268.8\">embedding_5_input</text>\n<polyline fill=\"none\" points=\"134,-249.5 134,-295.5 \" stroke=\"#000000\"/>\n<text fill=\"#000000\" font-family=\"Times,serif\" font-size=\"14.00\" text-anchor=\"middle\" x=\"174\" y=\"-268.8\">InputLayer</text>\n<polyline fill=\"none\" points=\"214,-249.5 214,-295.5 \" stroke=\"#000000\"/>\n<text fill=\"#000000\" font-family=\"Times,serif\" font-size=\"14.00\" text-anchor=\"middle\" x=\"243\" y=\"-280.3\">input:</text>\n<polyline fill=\"none\" points=\"214,-272.5 272,-272.5 \" stroke=\"#000000\"/>\n<text fill=\"#000000\" font-family=\"Times,serif\" font-size=\"14.00\" text-anchor=\"middle\" x=\"243\" y=\"-257.3\">output:</text>\n<polyline fill=\"none\" points=\"272,-249.5 272,-295.5 \" stroke=\"#000000\"/>\n<text fill=\"#000000\" font-family=\"Times,serif\" font-size=\"14.00\" text-anchor=\"middle\" x=\"316.5\" y=\"-280.3\">[(None, 29)]</text>\n<polyline fill=\"none\" points=\"272,-272.5 361,-272.5 \" stroke=\"#000000\"/>\n<text fill=\"#000000\" font-family=\"Times,serif\" font-size=\"14.00\" text-anchor=\"middle\" x=\"316.5\" y=\"-257.3\">[(None, 29)]</text>\n</g>\n<!-- 139768277177616 -->\n<g class=\"node\" id=\"node2\">\n<title>139768277177616</title>\n<polygon fill=\"none\" points=\"6.5,-166.5 6.5,-212.5 354.5,-212.5 354.5,-166.5 6.5,-166.5\" stroke=\"#000000\"/>\n<text fill=\"#000000\" font-family=\"Times,serif\" font-size=\"14.00\" text-anchor=\"middle\" x=\"54.5\" y=\"-185.8\">embedding_5</text>\n<polyline fill=\"none\" points=\"102.5,-166.5 102.5,-212.5 \" stroke=\"#000000\"/>\n<text fill=\"#000000\" font-family=\"Times,serif\" font-size=\"14.00\" text-anchor=\"middle\" x=\"144.5\" y=\"-185.8\">Embedding</text>\n<polyline fill=\"none\" points=\"186.5,-166.5 186.5,-212.5 \" stroke=\"#000000\"/>\n<text fill=\"#000000\" font-family=\"Times,serif\" font-size=\"14.00\" text-anchor=\"middle\" x=\"215.5\" y=\"-197.3\">input:</text>\n<polyline fill=\"none\" points=\"186.5,-189.5 244.5,-189.5 \" stroke=\"#000000\"/>\n<text fill=\"#000000\" font-family=\"Times,serif\" font-size=\"14.00\" text-anchor=\"middle\" x=\"215.5\" y=\"-174.3\">output:</text>\n<polyline fill=\"none\" points=\"244.5,-166.5 244.5,-212.5 \" stroke=\"#000000\"/>\n<text fill=\"#000000\" font-family=\"Times,serif\" font-size=\"14.00\" text-anchor=\"middle\" x=\"299.5\" y=\"-197.3\">(None, 29)</text>\n<polyline fill=\"none\" points=\"244.5,-189.5 354.5,-189.5 \" stroke=\"#000000\"/>\n<text fill=\"#000000\" font-family=\"Times,serif\" font-size=\"14.00\" text-anchor=\"middle\" x=\"299.5\" y=\"-174.3\">(None, 29, 300)</text>\n</g>\n<!-- 139766313892048&#45;&gt;139768277177616 -->\n<g class=\"edge\" id=\"edge1\">\n<title>139766313892048-&gt;139768277177616</title>\n<path d=\"M180.5,-249.3799C180.5,-241.1745 180.5,-231.7679 180.5,-222.8786\" fill=\"none\" stroke=\"#000000\"/>\n<polygon fill=\"#000000\" points=\"184.0001,-222.784 180.5,-212.784 177.0001,-222.784 184.0001,-222.784\" stroke=\"#000000\"/>\n</g>\n<!-- 139766020533200 -->\n<g class=\"node\" id=\"node3\">\n<title>139766020533200</title>\n<polygon fill=\"none\" points=\"47.5,-83.5 47.5,-129.5 313.5,-129.5 313.5,-83.5 47.5,-83.5\" stroke=\"#000000\"/>\n<text fill=\"#000000\" font-family=\"Times,serif\" font-size=\"14.00\" text-anchor=\"middle\" x=\"73\" y=\"-102.8\">gru_5</text>\n<polyline fill=\"none\" points=\"98.5,-83.5 98.5,-129.5 \" stroke=\"#000000\"/>\n<text fill=\"#000000\" font-family=\"Times,serif\" font-size=\"14.00\" text-anchor=\"middle\" x=\"122\" y=\"-102.8\">GRU</text>\n<polyline fill=\"none\" points=\"145.5,-83.5 145.5,-129.5 \" stroke=\"#000000\"/>\n<text fill=\"#000000\" font-family=\"Times,serif\" font-size=\"14.00\" text-anchor=\"middle\" x=\"174.5\" y=\"-114.3\">input:</text>\n<polyline fill=\"none\" points=\"145.5,-106.5 203.5,-106.5 \" stroke=\"#000000\"/>\n<text fill=\"#000000\" font-family=\"Times,serif\" font-size=\"14.00\" text-anchor=\"middle\" x=\"174.5\" y=\"-91.3\">output:</text>\n<polyline fill=\"none\" points=\"203.5,-83.5 203.5,-129.5 \" stroke=\"#000000\"/>\n<text fill=\"#000000\" font-family=\"Times,serif\" font-size=\"14.00\" text-anchor=\"middle\" x=\"258.5\" y=\"-114.3\">(None, 29, 300)</text>\n<polyline fill=\"none\" points=\"203.5,-106.5 313.5,-106.5 \" stroke=\"#000000\"/>\n<text fill=\"#000000\" font-family=\"Times,serif\" font-size=\"14.00\" text-anchor=\"middle\" x=\"258.5\" y=\"-91.3\">(None, 128)</text>\n</g>\n<!-- 139768277177616&#45;&gt;139766020533200 -->\n<g class=\"edge\" id=\"edge2\">\n<title>139768277177616-&gt;139766020533200</title>\n<path d=\"M180.5,-166.3799C180.5,-158.1745 180.5,-148.7679 180.5,-139.8786\" fill=\"none\" stroke=\"#000000\"/>\n<polygon fill=\"#000000\" points=\"184.0001,-139.784 180.5,-129.784 177.0001,-139.784 184.0001,-139.784\" stroke=\"#000000\"/>\n</g>\n<!-- 139764291317712 -->\n<g class=\"node\" id=\"node4\">\n<title>139764291317712</title>\n<polygon fill=\"none\" points=\"46,-.5 46,-46.5 315,-46.5 315,-.5 46,-.5\" stroke=\"#000000\"/>\n<text fill=\"#000000\" font-family=\"Times,serif\" font-size=\"14.00\" text-anchor=\"middle\" x=\"78\" y=\"-19.8\">dense_5</text>\n<polyline fill=\"none\" points=\"110,-.5 110,-46.5 \" stroke=\"#000000\"/>\n<text fill=\"#000000\" font-family=\"Times,serif\" font-size=\"14.00\" text-anchor=\"middle\" x=\"136\" y=\"-19.8\">Dense</text>\n<polyline fill=\"none\" points=\"162,-.5 162,-46.5 \" stroke=\"#000000\"/>\n<text fill=\"#000000\" font-family=\"Times,serif\" font-size=\"14.00\" text-anchor=\"middle\" x=\"191\" y=\"-31.3\">input:</text>\n<polyline fill=\"none\" points=\"162,-23.5 220,-23.5 \" stroke=\"#000000\"/>\n<text fill=\"#000000\" font-family=\"Times,serif\" font-size=\"14.00\" text-anchor=\"middle\" x=\"191\" y=\"-8.3\">output:</text>\n<polyline fill=\"none\" points=\"220,-.5 220,-46.5 \" stroke=\"#000000\"/>\n<text fill=\"#000000\" font-family=\"Times,serif\" font-size=\"14.00\" text-anchor=\"middle\" x=\"267.5\" y=\"-31.3\">(None, 128)</text>\n<polyline fill=\"none\" points=\"220,-23.5 315,-23.5 \" stroke=\"#000000\"/>\n<text fill=\"#000000\" font-family=\"Times,serif\" font-size=\"14.00\" text-anchor=\"middle\" x=\"267.5\" y=\"-8.3\">(None, 5000)</text>\n</g>\n<!-- 139766020533200&#45;&gt;139764291317712 -->\n<g class=\"edge\" id=\"edge3\">\n<title>139766020533200-&gt;139764291317712</title>\n<path d=\"M180.5,-83.3799C180.5,-75.1745 180.5,-65.7679 180.5,-56.8786\" fill=\"none\" stroke=\"#000000\"/>\n<polygon fill=\"#000000\" points=\"184.0001,-56.784 180.5,-46.784 177.0001,-56.784 184.0001,-56.784\" stroke=\"#000000\"/>\n</g>\n</g>\n</svg>"
          },
          "metadata": {},
          "execution_count": 3
        }
      ]
    },
    {
      "cell_type": "code",
      "source": [
        "import pickle\n",
        "\n",
        "# load data\n",
        "with open('/content/char2idx3.pickle', 'rb') as fr:\n",
        "    char2idx = pickle.load(fr)\n",
        "\n",
        "# show data\n",
        "print(char2idx)"
      ],
      "metadata": {
        "colab": {
          "base_uri": "https://localhost:8080/"
        },
        "id": "Dte2Iptn03vA",
        "outputId": "b72292c3-41dd-4096-998a-6a161199c4b0"
      },
      "execution_count": 5,
      "outputs": [
        {
          "output_type": "stream",
          "name": "stdout",
          "text": [
            "{'에': 1, '워': 2, '몇': 3, '서': 4, '대': 5, '바': 6, '토': 7, '지': 8, '두': 9, '와': 10, '럿': 11, '설': 12, '둘': 13, '져': 14, '늘': 15, '여': 16, '거': 17, '갑': 18, '의': 19, '고': 20, '있': 21, ' ': 22, '습': 23, '볼': 24, '타': 25, '줄': 26, '자': 27, '도': 28, '니': 29, '걸': 30, '개': 31, '이': 32, '세': 33, '과': 34, '움': 35, '치': 36, '람': 37, '놓': 38, '정': 39, '<EOS>': 40, '수': 41, '전': 42, '를': 43, '사': 44, '탄': 45, '가': 46, '들': 47, '보': 48, '킥': 49, '브': 50, '동': 51, '라': 52, '되': 53, '다': 54, '어': 55, '차': 56, '직': 57, '른': 58, '앞': 59, '옆': 60, '나': 61, '드': 62, '오': 63}\n"
          ]
        }
      ]
    },
    {
      "cell_type": "code",
      "source": [
        "from tensorflow.keras.preprocessing.sequence import pad_sequences\n",
        "\n",
        "n = 35\n",
        "max_len = 30\n",
        "\n",
        "current_word = '사람'\n",
        "init_word = current_word # 처음 들어온 단어도 마지막에 같이 출력하기위해 저장\n",
        "sentence = ''\n",
        "\n",
        "for _ in range(n): # n번 반복\n",
        "    encoded = [char2idx[token] for token in current_word]#t.texts_to_sequences([current_word])[0] \n",
        "    # 현재 단어에 대한 정수 인코딩\n",
        "    \n",
        "    encoded = pad_sequences([encoded], maxlen=max_len-1, padding='pre') \n",
        "    # 데이터에 대한 패딩\n",
        "    \n",
        "    result = np.argmax(model.predict(encoded), axis=-1) \n",
        "\t\n",
        "    # 입력한 X(현재 단어)에 대해서 Y를 예측하고 Y(예측한 단어)를 result에 저장.\n",
        "    for word, index in char2idx.items(): \n",
        "        if index == result: # 만약 예측한 단어와 인덱스와 동일한 단어가 있다면\n",
        "            break # 해당 단어가 예측 단어이므로 break\n",
        "    current_word = current_word + word # 현재 단어 + ' ' + 예측 단어를 현재 단어로 변경\n",
        "    sentence = sentence + word # 예측 단어를 문장에 저장\n",
        "    if word == '<EOS>':\n",
        "        break;\n",
        "# for문이므로 이 행동을 다시 반복\n",
        "sentence = init_word + sentence\n",
        "sentence.replace('<EOS>',\"\")"
      ],
      "metadata": {
        "colab": {
          "base_uri": "https://localhost:8080/",
          "height": 35
        },
        "id": "Yuz0YBB58s2g",
        "outputId": "e6f21c20-cb90-427c-ab78-0a71c8058c8f"
      },
      "execution_count": 7,
      "outputs": [
        {
          "output_type": "execute_result",
          "data": {
            "application/vnd.google.colaboratory.intrinsic+json": {
              "type": "string"
            },
            "text/plain": [
              "'사람이 앞에 있습니다'"
            ]
          },
          "metadata": {},
          "execution_count": 7
        }
      ]
    },
    {
      "cell_type": "code",
      "source": [
        "n = 35\n",
        "max_len = 30\n",
        "\n",
        "current_word = '차'\n",
        "init_word = current_word # 처음 들어온 단어도 마지막에 같이 출력하기위해 저장\n",
        "sentence = ''\n",
        "\n",
        "for _ in range(n): # n번 반복\n",
        "    encoded = [char2idx[token] for token in current_word]#t.texts_to_sequences([current_word])[0] \n",
        "    # 현재 단어에 대한 정수 인코딩\n",
        "    \n",
        "    encoded = pad_sequences([encoded], maxlen=max_len-1, padding='pre') \n",
        "    # 데이터에 대한 패딩\n",
        "    \n",
        "    result = np.argmax(model.predict(encoded), axis=-1) \n",
        "\t\n",
        "    # 입력한 X(현재 단어)에 대해서 Y를 예측하고 Y(예측한 단어)를 result에 저장.\n",
        "    for word, index in char2idx.items(): \n",
        "        if index == result: # 만약 예측한 단어와 인덱스와 동일한 단어가 있다면\n",
        "            break # 해당 단어가 예측 단어이므로 break\n",
        "    current_word = current_word + word # 현재 단어 + ' ' + 예측 단어를 현재 단어로 변경\n",
        "    sentence = sentence + word # 예측 단어를 문장에 저장\n",
        "    if word == '<EOS>':\n",
        "        break;\n",
        "# for문이므로 이 행동을 다시 반복\n",
        "sentence = init_word + sentence\n",
        "sentence.replace('<EOS>',\"\")"
      ],
      "metadata": {
        "id": "iGbJVMe1-9l-",
        "colab": {
          "base_uri": "https://localhost:8080/",
          "height": 35
        },
        "outputId": "e4ce1f0d-a9f4-4f9e-8813-26b39b92d0ec"
      },
      "execution_count": 9,
      "outputs": [
        {
          "output_type": "execute_result",
          "data": {
            "application/vnd.google.colaboratory.intrinsic+json": {
              "type": "string"
            },
            "text/plain": [
              "'차가 있습니다'"
            ]
          },
          "metadata": {},
          "execution_count": 9
        }
      ]
    },
    {
      "cell_type": "code",
      "source": [
        "n = 35\n",
        "max_len = 30\n",
        "\n",
        "current_word = '자전거'\n",
        "init_word = current_word # 처음 들어온 단어도 마지막에 같이 출력하기위해 저장\n",
        "sentence = ''\n",
        "\n",
        "for _ in range(n): # n번 반복\n",
        "    encoded = [char2idx[token] for token in current_word]#t.texts_to_sequences([current_word])[0] \n",
        "    # 현재 단어에 대한 정수 인코딩\n",
        "    \n",
        "    encoded = pad_sequences([encoded], maxlen=max_len-1, padding='pre') \n",
        "    # 데이터에 대한 패딩\n",
        "    \n",
        "    result = np.argmax(model.predict(encoded), axis=-1) \n",
        "\t\n",
        "    # 입력한 X(현재 단어)에 대해서 Y를 예측하고 Y(예측한 단어)를 result에 저장.\n",
        "    for word, index in char2idx.items(): \n",
        "        if index == result: # 만약 예측한 단어와 인덱스와 동일한 단어가 있다면\n",
        "            break # 해당 단어가 예측 단어이므로 break\n",
        "    current_word = current_word + word # 현재 단어 + ' ' + 예측 단어를 현재 단어로 변경\n",
        "    sentence = sentence + word # 예측 단어를 문장에 저장\n",
        "    if word == '<EOS>':\n",
        "        break;\n",
        "# for문이므로 이 행동을 다시 반복\n",
        "sentence = init_word + sentence\n",
        "sentence.replace('<EOS>',\"\")"
      ],
      "metadata": {
        "colab": {
          "base_uri": "https://localhost:8080/",
          "height": 35
        },
        "id": "i7p4Ms9e56n0",
        "outputId": "713b0a2f-05e2-4882-c450-7db41f786a2e"
      },
      "execution_count": 10,
      "outputs": [
        {
          "output_type": "execute_result",
          "data": {
            "application/vnd.google.colaboratory.intrinsic+json": {
              "type": "string"
            },
            "text/plain": [
              "'자전거가 앞에 있습니다'"
            ]
          },
          "metadata": {},
          "execution_count": 10
        }
      ]
    },
    {
      "cell_type": "code",
      "source": [
        "n = 35\n",
        "max_len = 30\n",
        "\n",
        "current_word = '오토바이'\n",
        "init_word = current_word # 처음 들어온 단어도 마지막에 같이 출력하기위해 저장\n",
        "sentence = ''\n",
        "\n",
        "for _ in range(n): # n번 반복\n",
        "    encoded = [char2idx[token] for token in current_word]#t.texts_to_sequences([current_word])[0] \n",
        "    # 현재 단어에 대한 정수 인코딩\n",
        "    \n",
        "    encoded = pad_sequences([encoded], maxlen=max_len-1, padding='pre') \n",
        "    # 데이터에 대한 패딩\n",
        "    \n",
        "    result = np.argmax(model.predict(encoded), axis=-1) \n",
        "\t\n",
        "    # 입력한 X(현재 단어)에 대해서 Y를 예측하고 Y(예측한 단어)를 result에 저장.\n",
        "    for word, index in char2idx.items(): \n",
        "        if index == result: # 만약 예측한 단어와 인덱스와 동일한 단어가 있다면\n",
        "            break # 해당 단어가 예측 단어이므로 break\n",
        "    current_word = current_word + word # 현재 단어 + ' ' + 예측 단어를 현재 단어로 변경\n",
        "    sentence = sentence + word # 예측 단어를 문장에 저장\n",
        "    if word == '<EOS>':\n",
        "        break;\n",
        "# for문이므로 이 행동을 다시 반복\n",
        "sentence = init_word + sentence\n",
        "sentence.replace('<EOS>',\"\")"
      ],
      "metadata": {
        "colab": {
          "base_uri": "https://localhost:8080/",
          "height": 35
        },
        "id": "1qmXgun658HA",
        "outputId": "059448d3-9043-480c-abdd-08b2fec5c30d"
      },
      "execution_count": 11,
      "outputs": [
        {
          "output_type": "execute_result",
          "data": {
            "application/vnd.google.colaboratory.intrinsic+json": {
              "type": "string"
            },
            "text/plain": [
              "'오토바이가 앞에 있습니다'"
            ]
          },
          "metadata": {},
          "execution_count": 11
        }
      ]
    },
    {
      "cell_type": "code",
      "source": [
        "n = 35\n",
        "max_len = 30\n",
        "\n",
        "current_word = '전동킥보드'\n",
        "init_word = current_word # 처음 들어온 단어도 마지막에 같이 출력하기위해 저장\n",
        "sentence = ''\n",
        "\n",
        "for _ in range(n): # n번 반복\n",
        "    encoded = [char2idx[token] for token in current_word]#t.texts_to_sequences([current_word])[0] \n",
        "    # 현재 단어에 대한 정수 인코딩\n",
        "    \n",
        "    encoded = pad_sequences([encoded], maxlen=max_len-1, padding='pre') \n",
        "    # 데이터에 대한 패딩\n",
        "    \n",
        "    result = np.argmax(model.predict(encoded), axis=-1) \n",
        "\t\n",
        "    # 입력한 X(현재 단어)에 대해서 Y를 예측하고 Y(예측한 단어)를 result에 저장.\n",
        "    for word, index in char2idx.items(): \n",
        "        if index == result: # 만약 예측한 단어와 인덱스와 동일한 단어가 있다면\n",
        "            break # 해당 단어가 예측 단어이므로 break\n",
        "    current_word = current_word + word # 현재 단어 + ' ' + 예측 단어를 현재 단어로 변경\n",
        "    sentence = sentence + word # 예측 단어를 문장에 저장\n",
        "    if word == '<EOS>':\n",
        "        break;\n",
        "# for문이므로 이 행동을 다시 반복\n",
        "sentence = init_word + sentence\n",
        "sentence.replace('<EOS>',\"\")"
      ],
      "metadata": {
        "colab": {
          "base_uri": "https://localhost:8080/",
          "height": 35
        },
        "id": "2cYDD6sA5_Lk",
        "outputId": "52b5d421-04d4-4bd0-9dd3-d16577c6079c"
      },
      "execution_count": 12,
      "outputs": [
        {
          "output_type": "execute_result",
          "data": {
            "application/vnd.google.colaboratory.intrinsic+json": {
              "type": "string"
            },
            "text/plain": [
              "'전동킥보드를 탄 사람이 있습니다'"
            ]
          },
          "metadata": {},
          "execution_count": 12
        }
      ]
    },
    {
      "cell_type": "code",
      "source": [
        "n = 35\n",
        "max_len = 30\n",
        "total = []\n",
        "\n",
        "key = ['사람', '차']\n",
        "klen = len(key)\n",
        "print(klen)\n",
        "\n",
        "for k in key:\n",
        "  current_word = k\n",
        "  init_word = current_word # 처음 들어온 단어도 마지막에 같이 출력하기위해 저장\n",
        "  sentence = ''\n",
        "  for _ in range(n): # n번 반복\n",
        "      encoded = [char2idx[token] for token in current_word]#t.texts_to_sequences([current_word])[0] \n",
        "      # 현재 단어에 대한 정수 인코딩\n",
        "      \n",
        "      encoded = pad_sequences([encoded], maxlen=max_len-1, padding='pre') \n",
        "      # 데이터에 대한 패딩\n",
        "      \n",
        "      result = np.argmax(model.predict(encoded), axis=-1) \n",
        "    \n",
        "      # 입력한 X(현재 단어)에 대해서 Y를 예측하고 Y(예측한 단어)를 result에 저장.\n",
        "      for word, index in char2idx.items(): \n",
        "          if index == result: # 만약 예측한 단어와 인덱스와 동일한 단어가 있다면\n",
        "              break # 해당 단어가 예측 단어이므로 break\n",
        "      current_word = current_word + word # 현재 단어 + ' ' + 예측 단어를 현재 단어로 변경\n",
        "      sentence = sentence + word # 예측 단어를 문장에 저장\n",
        "      if word == '<EOS>':\n",
        "          break;\n",
        "  # for문이므로 이 행동을 다시 반복\n",
        "  sentence = init_word + sentence\n",
        "  if klen > 1:\n",
        "    sentence = sentence.replace('습니다<EOS>',\"고 \")\n",
        "    klen -= 1\n",
        "  else:\n",
        "    sentence = sentence.replace('<EOS>',\"\")\n",
        "  print(sentence)\n",
        "  total.append(sentence)\n",
        "\n",
        "print(''.join(total))"
      ],
      "metadata": {
        "colab": {
          "base_uri": "https://localhost:8080/"
        },
        "id": "Mroib90K6IsT",
        "outputId": "86ba2c0d-b43e-48be-d84d-b230b19fe1ea"
      },
      "execution_count": 13,
      "outputs": [
        {
          "output_type": "stream",
          "name": "stdout",
          "text": [
            "2\n",
            "사람이 앞에 있고 \n",
            "차가 있습니다\n",
            "사람이 앞에 있고 차가 있습니다\n"
          ]
        }
      ]
    },
    {
      "cell_type": "code",
      "source": [
        "!python3 /content/gru_generator.py"
      ],
      "metadata": {
        "colab": {
          "base_uri": "https://localhost:8080/"
        },
        "id": "JHu_EAXTH-a7",
        "outputId": "5fb3f9bf-acbe-45ba-8ef0-bdc15d22e131"
      },
      "execution_count": 23,
      "outputs": [
        {
          "output_type": "stream",
          "name": "stdout",
          "text": [
            "2022-01-28 07:28:57.086069: W tensorflow/core/common_runtime/gpu/gpu_bfc_allocator.cc:39] Overriding allow_growth setting because the TF_FORCE_GPU_ALLOW_GROWTH environment variable is set. Original config value was 0.\n",
            "2\n",
            "전동킥보드를 탄 사람이 있고 다수의 오토바이가 있습니다\n"
          ]
        }
      ]
    },
    {
      "cell_type": "code",
      "source": [
        ""
      ],
      "metadata": {
        "id": "b8TfyARgrblX"
      },
      "execution_count": null,
      "outputs": []
    }
  ]
}