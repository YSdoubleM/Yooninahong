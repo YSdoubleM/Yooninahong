{
  "cells": [
    {
      "cell_type": "code",
      "execution_count": 1,
      "metadata": {
        "id": "cHzDHDL0WwcM"
      },
      "outputs": [],
      "source": [
        "import pandas as pd"
      ]
    },
    {
      "cell_type": "code",
      "execution_count": 2,
      "metadata": {
        "colab": {
          "base_uri": "https://localhost:8080/",
          "height": 206
        },
        "id": "tfo_QNB47GAI",
        "outputId": "3f303d9a-60b0-44cd-82d2-b5cb4294a0b0"
      },
      "outputs": [
        {
          "data": {
            "text/html": [
              "<div>\n",
              "<style scoped>\n",
              "    .dataframe tbody tr th:only-of-type {\n",
              "        vertical-align: middle;\n",
              "    }\n",
              "\n",
              "    .dataframe tbody tr th {\n",
              "        vertical-align: top;\n",
              "    }\n",
              "\n",
              "    .dataframe thead th {\n",
              "        text-align: right;\n",
              "    }\n",
              "</style>\n",
              "<table border=\"1\" class=\"dataframe\">\n",
              "  <thead>\n",
              "    <tr style=\"text-align: right;\">\n",
              "      <th></th>\n",
              "      <th>sentence</th>\n",
              "    </tr>\n",
              "  </thead>\n",
              "  <tbody>\n",
              "    <tr>\n",
              "      <th>0</th>\n",
              "      <td>사람이 다가오고 있습니다</td>\n",
              "    </tr>\n",
              "    <tr>\n",
              "      <th>1</th>\n",
              "      <td>사람과 자전거가 다가오고 있습니다</td>\n",
              "    </tr>\n",
              "    <tr>\n",
              "      <th>2</th>\n",
              "      <td>자전거와 사람이 다가오고 있습니다</td>\n",
              "    </tr>\n",
              "    <tr>\n",
              "      <th>3</th>\n",
              "      <td>사람과 자전거가 있습니다</td>\n",
              "    </tr>\n",
              "    <tr>\n",
              "      <th>4</th>\n",
              "      <td>자전거와 사람이 있습니다</td>\n",
              "    </tr>\n",
              "  </tbody>\n",
              "</table>\n",
              "</div>"
            ],
            "text/plain": [
              "             sentence\n",
              "0       사람이 다가오고 있습니다\n",
              "1  사람과 자전거가 다가오고 있습니다\n",
              "2  자전거와 사람이 다가오고 있습니다\n",
              "3       사람과 자전거가 있습니다\n",
              "4       자전거와 사람이 있습니다"
            ]
          },
          "execution_count": 2,
          "metadata": {},
          "output_type": "execute_result"
        }
      ],
      "source": [
        "import pandas as pd\n",
        "\n",
        "train = pd.read_csv('/Users/hongseongmi/Documents/git_ws/Yooninahong/description/captionTrain.csv')\n",
        "train.head()"
      ]
    },
    {
      "cell_type": "code",
      "execution_count": 3,
      "metadata": {
        "colab": {
          "base_uri": "https://localhost:8080/"
        },
        "id": "HZe4MwRc7Rwt",
        "outputId": "53361e36-ca91-41c9-9cd0-63abc96b4ebc"
      },
      "outputs": [
        {
          "name": "stdout",
          "output_type": "stream",
          "text": [
            "<class 'pandas.core.frame.DataFrame'>\n",
            "RangeIndex: 100 entries, 0 to 99\n",
            "Data columns (total 1 columns):\n",
            " #   Column    Non-Null Count  Dtype \n",
            "---  ------    --------------  ----- \n",
            " 0   sentence  100 non-null    object\n",
            "dtypes: object(1)\n",
            "memory usage: 928.0+ bytes\n"
          ]
        }
      ],
      "source": [
        "train.info()"
      ]
    },
    {
      "cell_type": "markdown",
      "metadata": {
        "id": "S658gnsL7krK"
      },
      "source": [
        "음절 단위"
      ]
    },
    {
      "cell_type": "code",
      "execution_count": 4,
      "metadata": {
        "colab": {
          "base_uri": "https://localhost:8080/"
        },
        "id": "hhxpju1P7gvV",
        "outputId": "aa1c17dd-e9de-4436-c8fb-b141855f26e3"
      },
      "outputs": [
        {
          "name": "stdout",
          "output_type": "stream",
          "text": [
            "고유 문자수 58개\n"
          ]
        }
      ],
      "source": [
        "vocab = set()\n",
        "for i, row in train.iterrows(): # dataframe의 row별로 반복\n",
        "    sentence = row['sentence']\n",
        "    for token in sentence: #음절 단위 token 반복\n",
        "        if token not in vocab:\n",
        "            vocab.add(token) # token set에 없다면 추가\n",
        "        else:\n",
        "            continue\n",
        "vocab.add('<EOS>') # 문장 마지막을  <EOS>로 끝낼거라 <End of Sequence> token 추가\n",
        "print ('고유 문자수 {}개'.format(len(vocab)))"
      ]
    },
    {
      "cell_type": "code",
      "execution_count": 5,
      "metadata": {
        "colab": {
          "base_uri": "https://localhost:8080/"
        },
        "id": "mjpJbJqkDmsb",
        "outputId": "b1ee8377-412f-44c7-c187-a0659164b652"
      },
      "outputs": [
        {
          "data": {
            "text/plain": [
              "{' ',\n",
              " ',',\n",
              " '<EOS>',\n",
              " '가',\n",
              " '갑',\n",
              " '개',\n",
              " '거',\n",
              " '걸',\n",
              " '고',\n",
              " '과',\n",
              " '놓',\n",
              " '늘',\n",
              " '니',\n",
              " '다',\n",
              " '대',\n",
              " '동',\n",
              " '되',\n",
              " '두',\n",
              " '둘',\n",
              " '드',\n",
              " '들',\n",
              " '라',\n",
              " '람',\n",
              " '러',\n",
              " '럿',\n",
              " '로',\n",
              " '를',\n",
              " '명',\n",
              " '바',\n",
              " '보',\n",
              " '볼',\n",
              " '사',\n",
              " '서',\n",
              " '설',\n",
              " '세',\n",
              " '수',\n",
              " '습',\n",
              " '앞',\n",
              " '어',\n",
              " '여',\n",
              " '오',\n",
              " '옵',\n",
              " '와',\n",
              " '워',\n",
              " '으',\n",
              " '의',\n",
              " '이',\n",
              " '있',\n",
              " '자',\n",
              " '전',\n",
              " '져',\n",
              " '차',\n",
              " '치',\n",
              " '킥',\n",
              " '타',\n",
              " '탄',\n",
              " '토',\n",
              " '폴'}"
            ]
          },
          "execution_count": 5,
          "metadata": {},
          "output_type": "execute_result"
        }
      ],
      "source": [
        "vocab"
      ]
    },
    {
      "cell_type": "code",
      "execution_count": 6,
      "metadata": {
        "colab": {
          "base_uri": "https://localhost:8080/"
        },
        "id": "TZbgSvQBCMv7",
        "outputId": "99cac012-0163-438e-bfd6-261344685533"
      },
      "outputs": [
        {
          "data": {
            "text/plain": [
              "{'어': 1,\n",
              " '라': 2,\n",
              " '이': 3,\n",
              " '으': 4,\n",
              " '수': 5,\n",
              " '자': 6,\n",
              " '세': 7,\n",
              " '킥': 8,\n",
              " '져': 9,\n",
              " '대': 10,\n",
              " '갑': 11,\n",
              " '와': 12,\n",
              " '앞': 13,\n",
              " '서': 14,\n",
              " '바': 15,\n",
              " '탄': 16,\n",
              " '토': 17,\n",
              " '드': 18,\n",
              " '치': 19,\n",
              " '니': 20,\n",
              " '늘': 21,\n",
              " '명': 22,\n",
              " '람': 23,\n",
              " '둘': 24,\n",
              " '고': 25,\n",
              " '오': 26,\n",
              " '개': 27,\n",
              " '옵': 28,\n",
              " '로': 29,\n",
              " '들': 30,\n",
              " '여': 31,\n",
              " '되': 32,\n",
              " '다': 33,\n",
              " '차': 34,\n",
              " '두': 35,\n",
              " '타': 36,\n",
              " '설': 37,\n",
              " '사': 38,\n",
              " '러': 39,\n",
              " '<EOS>': 40,\n",
              " '걸': 41,\n",
              " '있': 42,\n",
              " ' ': 43,\n",
              " '과': 44,\n",
              " '워': 45,\n",
              " '동': 46,\n",
              " '가': 47,\n",
              " '폴': 48,\n",
              " '전': 49,\n",
              " '거': 50,\n",
              " '볼': 51,\n",
              " '의': 52,\n",
              " '습': 53,\n",
              " '럿': 54,\n",
              " '놓': 55,\n",
              " '를': 56,\n",
              " '보': 57,\n",
              " ',': 58}"
            ]
          },
          "execution_count": 6,
          "metadata": {},
          "output_type": "execute_result"
        }
      ],
      "source": [
        "char2idx = {u:i for i, u in enumerate(vocab, start=1)}\n",
        "char2idx"
      ]
    },
    {
      "cell_type": "markdown",
      "metadata": {
        "id": "0LzzhUPu8Uq_"
      },
      "source": [
        "음절 단위"
      ]
    },
    {
      "cell_type": "code",
      "execution_count": null,
      "metadata": {
        "id": "UbByjses8LJq"
      },
      "outputs": [],
      "source": [
        "import numpy as np\n",
        "\n",
        "sentence2vec_list = []\n",
        "for i, row in train.iterrows():\n",
        "    temp_arr = np.array([char2idx[c] for c in row['sentence']] + [char2idx['<EOS>']])\n",
        "    sentence2vec_list.append(temp_arr)"
      ]
    },
    {
      "cell_type": "code",
      "execution_count": null,
      "metadata": {
        "colab": {
          "base_uri": "https://localhost:8080/"
        },
        "id": "mFjpnkPaGar4",
        "outputId": "0c20e45e-b64e-4f64-dd49-07bd449116f1"
      },
      "outputs": [
        {
          "data": {
            "text/plain": [
              "[array([30, 29, 36,  1, 48, 44, 38, 41,  1, 58, 35, 17, 48, 32]),\n",
              " array([30, 29, 11,  1, 25, 37, 54, 44,  1, 48, 44, 38, 41,  1, 58, 35, 17,\n",
              "        48, 32]),\n",
              " array([25, 37, 54, 27,  1, 30, 29, 36,  1, 48, 44, 38, 41,  1, 58, 35, 17,\n",
              "        48, 32]),\n",
              " array([30, 29, 11,  1, 25, 37, 54, 44,  1, 58, 35, 17, 48, 32]),\n",
              " array([25, 37, 54, 27,  1, 30, 29, 36,  1, 58, 35, 17, 48, 32]),\n",
              " array([25, 37, 54,  1, 26,  8,  1, 49, 27,  1, 30, 29, 36,  1, 58, 35, 17,\n",
              "        48, 32]),\n",
              " array([30, 29, 36,  1, 26, 14,  1, 58, 35, 17, 48, 32]),\n",
              " array([30, 29,  1, 26,  8,  1, 43, 11,  1, 25, 37, 54,  1, 26,  8,  1, 49,\n",
              "        44,  1, 58, 35, 17, 48, 32]),\n",
              " array([30, 29, 36,  1, 15, 42, 56,  1, 55,  5, 44, 41,  1, 58, 35, 17, 48,\n",
              "        32]),\n",
              " array([37, 18, 46, 45,  4, 12,  1,  2,  1, 30, 29, 36,  1, 48, 44, 38, 41,\n",
              "         1, 58, 35, 17, 48, 32]),\n",
              " array([37, 18, 46, 45,  4, 12,  1,  2,  1, 30, 29, 11,  1, 26,  8,  1, 43,\n",
              "        19,  1, 30, 29, 36,  1, 58, 35, 17, 48, 32]),\n",
              " array([37, 18, 46, 45,  4, 44,  1, 58, 35, 17, 48, 32]),\n",
              " array([37, 18, 46, 45,  4, 44,  1, 26,  8,  1, 49,  1, 58, 35, 17, 48, 32]),\n",
              " array([30, 29,  1, 26,  8,  1, 43, 11,  1, 37, 18, 46, 45,  4, 44,  1, 58,\n",
              "        35, 17, 48, 32]),\n",
              " array([30, 29,  1, 26,  8,  1, 43, 36,  1, 37, 18, 46, 45,  4, 12,  1, 28,\n",
              "        41,  1, 58, 35, 17, 48, 32]),\n",
              " array([37, 18, 46, 45,  4, 27,  1, 30, 29, 36,  1, 58, 35, 17, 48, 32]),\n",
              " array([30, 29, 11,  1, 37, 18, 46, 45,  4, 44,  1, 58, 35, 17, 48, 32]),\n",
              " array([52, 44,  1, 58, 35, 17, 48, 32]),\n",
              " array([52, 44,  1, 26,  8,  1, 49,  1, 58, 35, 17, 48, 32]),\n",
              " array([30, 29, 11,  1, 52, 44,  1, 58, 35, 17, 48, 32]),\n",
              " array([52, 27,  1, 30, 29, 36,  1, 58, 35, 17, 48, 32]),\n",
              " array([38, 53, 13, 36, 44,  1, 58, 35, 17, 48, 32]),\n",
              " array([38, 53, 13, 36, 44,  1, 26,  8,  1, 49,  1, 58, 35, 17, 48, 32]),\n",
              " array([38, 53, 13, 36, 12,  1,  2,  1, 30, 29, 36,  1, 48, 44, 38, 41,  1,\n",
              "        58, 35, 17, 48, 32]),\n",
              " array([30, 29, 11,  1, 38, 53, 13, 36, 44,  1, 58, 35, 17, 48, 32]),\n",
              " array([30, 29,  1, 26,  8,  1, 43, 11,  1, 38, 53, 13, 36,  1, 26,  8,  1,\n",
              "        49, 44,  1, 58, 35, 17, 48, 32]),\n",
              " array([38, 53, 13, 36,  1, 26,  8,  1, 49, 27,  1, 30, 29, 36,  1, 58, 35,\n",
              "        17, 48, 32]),\n",
              " array([37, 18, 46, 45,  4, 27,  1, 38, 53, 13, 36,  1, 26,  8,  1, 49, 44,\n",
              "         1, 58, 35, 17, 48, 32]),\n",
              " array([25, 37, 54, 27,  1, 38, 53, 13, 36,  1, 26,  8,  1, 49, 44,  1, 58,\n",
              "        35, 17, 48, 32]),\n",
              " array([38, 53, 13, 36, 27,  1, 25, 37, 54, 44,  1, 58, 35, 17, 48, 32]),\n",
              " array([38, 53, 13, 36, 27,  1, 37, 18, 46, 45,  4, 44,  1, 58, 35, 17, 48,\n",
              "        32]),\n",
              " array([37, 18, 46, 45,  4, 27,  1, 25, 37, 54, 44,  1, 26,  8,  1, 49,  1,\n",
              "        58, 35, 17, 48, 32]),\n",
              " array([25, 37, 54,  1, 26,  8,  1, 49, 27,  1, 37, 18,  1, 46, 45,  4, 44,\n",
              "         1, 58, 35, 17, 48, 32]),\n",
              " array([30, 29, 11,  1, 52,  9,  1, 38, 53, 13, 36,  9,  1, 25, 37, 54, 44,\n",
              "         1, 48, 50,  1, 58, 35, 17, 48, 32]),\n",
              " array([52,  9,  1, 38, 53, 13, 36,  9,  1, 25, 37, 54,  9,  1, 30, 29, 36,\n",
              "         1, 48, 50,  1, 58, 35, 17, 48, 32]),\n",
              " array([25, 37, 54,  9,  1, 30, 29,  9,  1, 38, 53, 13, 36, 44,  1, 48, 50,\n",
              "         1, 58, 35, 17, 48, 32]),\n",
              " array([38, 53, 13, 36, 27,  1, 25, 37, 54,  9,  1, 37, 18, 46, 45,  4,  1,\n",
              "        26,  8,  1, 49, 44,  1, 58, 35, 17, 48, 32]),\n",
              " array([52, 27,  1, 38, 53, 13, 36, 44,  1, 58, 35, 17, 48, 32]),\n",
              " array([25, 37, 54,  1, 26,  8,  1, 49, 27,  1, 30, 29, 36,  1, 58, 35, 17,\n",
              "        48, 32]),\n",
              " array([38, 53, 13, 36, 12,  1,  2,  1, 30, 29, 36,  1, 26, 14,  1, 58, 35,\n",
              "        17, 48, 32]),\n",
              " array([25, 37, 54,  9,  1, 52,  1, 26,  8,  1, 49, 27,  1, 30, 29, 36,  1,\n",
              "        58, 35, 17, 48, 32]),\n",
              " array([37, 18, 46, 45,  4, 12,  1,  2,  1, 30, 29,  1, 26, 14, 11,  1, 37,\n",
              "        18, 46, 45,  4,  9,  1, 25, 37, 54, 44,  1, 58, 35, 17, 48, 32]),\n",
              " array([ 3, 39,  4, 44,  1, 47, 57,  1, 34,  5,  1, 58, 35, 17, 48, 32]),\n",
              " array([ 3, 39,  4, 27,  1, 25, 37, 54, 44,  1, 26, 14,  1, 58, 35, 17, 48,\n",
              "        32]),\n",
              " array([25, 37, 54,  1, 26,  8,  1, 49, 27,  1, 33, 39,  4,  1, 26,  8, 51,\n",
              "        44,  1, 58, 35, 17, 48, 32]),\n",
              " array([38, 53, 13, 36, 12,  1,  2,  1, 30, 29, 11,  1,  3, 39,  4,  1, 26,\n",
              "         8, 51, 44,  1, 58, 35, 17, 48, 32]),\n",
              " array([25, 37, 54, 12,  1,  2,  1, 30, 29, 11,  1, 38, 53, 13, 36, 12,  1,\n",
              "         2,  1, 30, 29, 36,  1, 26, 14,  1, 58, 35, 17, 48, 32]),\n",
              " array([ 3, 39,  4,  9,  1, 38, 53, 13, 36,  9,  1, 37, 18, 46, 45,  4, 44,\n",
              "         1, 58, 35, 17, 48, 32]),\n",
              " array([37, 18, 46, 45,  4, 12,  1,  2,  1, 30, 29, 11,  1,  3, 39,  4, 44,\n",
              "         1, 26, 14,  1, 58, 35, 17, 48, 32]),\n",
              " array([25, 37, 54, 12,  1,  2,  1, 30, 29, 11,  1, 37, 18, 46, 45,  4,  9,\n",
              "         1,  3, 39,  4, 44,  1, 58, 35, 17, 48, 32]),\n",
              " array([30, 29, 36,  1, 48, 44, 38, 41,  1, 58, 35, 17, 48, 32]),\n",
              " array([30, 29, 36,  1, 55,  5, 44, 41,  1, 58, 35, 17, 48, 32]),\n",
              " array([ 3, 39,  4, 44,  1, 47, 57, 34,  5,  1, 58, 35, 17, 48, 32]),\n",
              " array([25, 18, 52, 44,  1, 58, 35, 17, 48, 32]),\n",
              " array([25, 37, 54, 44,  1, 16, 10, 21,  1, 58, 35, 17, 48, 32]),\n",
              " array([25, 37, 54, 12,  1,  2,  1, 30, 29, 36,  1, 58, 35, 17, 48, 32]),\n",
              " array([37, 18, 46, 45,  4, 44,  1, 22, 26,  1, 58, 35, 17, 48, 32]),\n",
              " array([37, 18, 46, 45,  4, 12,  1,  2,  1, 30, 29, 36,  1, 58, 35, 17, 48,\n",
              "        32]),\n",
              " array([38, 53, 13, 36, 44,  1, 16, 10, 21,  1, 58, 35, 17, 48, 32]),\n",
              " array([38, 53, 13, 36, 12,  1,  2,  1, 30, 29, 36,  1, 58, 35, 17, 48, 32]),\n",
              " array([30, 29,  1, 40,  1, 43, 36,  1, 48, 44,  7, 17, 48, 32]),\n",
              " array([30, 29, 31, 36,  1, 26, 14,  1, 58, 35, 17, 48, 32]),\n",
              " array([ 3, 39,  4, 44,  1,  6,  5, 24,  1, 58, 35, 17, 48, 32]),\n",
              " array([25, 18, 52, 44,  1, 26,  8,  1, 49,  1, 58, 35, 17, 48, 32]),\n",
              " array([25, 37, 54,  1, 26,  8,  1, 49, 44,  1, 22, 26,  1, 58, 35, 17, 48,\n",
              "        32]),\n",
              " array([25, 37, 54, 12,  1,  2,  1, 30, 29, 36,  1, 20,  1, 58, 35, 17, 48,\n",
              "        32]),\n",
              " array([25, 37, 54, 12,  1,  2,  1, 30, 29, 36,  1, 26, 14,  1, 58, 35, 17,\n",
              "        48, 32]),\n",
              " array([37, 18, 46, 45,  4,  1, 40,  1, 49, 44,  1, 22, 26,  1, 58, 35, 17,\n",
              "        48, 32]),\n",
              " array([37, 18, 46, 45,  4, 44,  1, 26,  8,  1, 49,  1, 22, 26,  1, 58, 35,\n",
              "        17, 48, 32]),\n",
              " array([37, 18, 46, 45,  4, 12,  1,  2,  1, 30, 29, 36,  1, 20,  1, 58, 35,\n",
              "        17, 48, 32]),\n",
              " array([37, 18, 46, 45,  4, 12,  1,  2,  1, 30, 29, 36,  1, 26, 14,  1, 58,\n",
              "        35, 17, 48, 32]),\n",
              " array([38, 53, 13, 36,  1, 40,  1, 49, 44,  1, 16, 10, 21,  1, 58, 35, 17,\n",
              "        48, 32]),\n",
              " array([38, 53, 13, 36,  1, 26,  8,  1, 49, 44,  1, 24,  1, 58, 35, 17, 48,\n",
              "        32]),\n",
              " array([38, 53, 13, 36, 12,  1,  2,  1, 30, 29, 36,  1, 26, 14,  1, 58, 35,\n",
              "        17, 48, 32]),\n",
              " array([30, 29, 36,  1, 48, 44, 38, 41,  1, 58, 41,  1,  3, 39,  4, 44,  1,\n",
              "        58, 35, 17, 48, 32]),\n",
              " array([ 3, 39,  4, 44,  1, 58, 41,  1, 30, 29, 36,  1, 48, 44, 38, 41,  1,\n",
              "        58, 35, 17, 48, 32]),\n",
              " array([ 3, 39,  4, 27,  1, 25, 18, 52, 44,  1, 58, 35, 17, 48, 32]),\n",
              " array([25, 18, 52, 27,  1,  3, 39,  4, 44,  1, 58, 35, 17, 48, 32]),\n",
              " array([25, 18, 52, 27,  1, 25, 37, 54, 44,  1, 58, 35, 17, 48, 32]),\n",
              " array([25, 37, 54, 27,  1, 25, 18, 52, 44,  1, 58, 35, 17, 48, 32]),\n",
              " array([25, 37, 54, 12,  1,  2,  1, 30, 29, 11,  1, 25, 18, 52, 44,  1, 58,\n",
              "        35, 17, 48, 32]),\n",
              " array([25, 37, 54, 27,  1, 37, 18, 46, 45,  4, 44,  1, 22, 26,  1, 58, 35,\n",
              "        17, 48, 32]),\n",
              " array([37, 18, 46, 45,  4, 27,  1, 25, 37, 54, 44,  1, 22, 26,  1, 58, 35,\n",
              "        17, 48, 32]),\n",
              " array([37, 18, 46, 45,  4, 27,  1, 38, 53, 13, 36, 44,  1, 22, 26,  1, 58,\n",
              "        35, 17, 48, 32]),\n",
              " array([38, 53, 13, 36, 27,  1, 37, 18, 46, 45,  4, 44,  1, 22, 26,  1, 58,\n",
              "        35, 17, 48, 32]),\n",
              " array([25, 37, 54, 12,  1,  2,  1, 30, 29, 11,  1,  3, 39,  4, 44,  1, 58,\n",
              "        35, 17, 48, 32]),\n",
              " array([37, 18, 46, 45,  4, 12,  1,  2,  1, 30, 29, 11,  1,  3, 39,  4, 44,\n",
              "         1, 58, 35, 17, 48, 32]),\n",
              " array([38, 53, 13, 36, 12,  1,  2,  1, 30, 29, 11,  1,  3, 39,  4, 44,  1,\n",
              "        58, 35, 17, 48, 32]),\n",
              " array([25, 37, 54, 12,  1,  2,  1, 30, 29, 11,  1, 37, 18, 46, 45,  4, 12,\n",
              "         1,  2,  1, 30, 29, 36,  1, 58, 35, 17, 48, 32]),\n",
              " array([37, 18, 46, 45,  4, 12,  1,  2,  1, 30, 29, 11,  1, 25, 37, 54, 12,\n",
              "         1,  2,  1, 30, 29, 36,  1, 58, 35, 17, 48, 32]),\n",
              " array([38, 53, 13, 36, 12,  1,  2,  1, 30, 29, 11,  1, 25, 37, 54, 12,  1,\n",
              "         2,  1, 30, 29, 36,  1, 58, 35, 17, 48, 32]),\n",
              " array([25, 37, 54, 12,  1,  2,  1, 30, 29, 11,  1, 38, 53, 13, 36, 12,  1,\n",
              "         2,  1, 30, 29, 36,  1, 58, 35, 17, 48, 32]),\n",
              " array([25, 18, 52, 27,  1, 38, 53, 13, 36, 44,  1, 58, 35, 17, 48, 32]),\n",
              " array([38, 53, 13, 36, 27,  1, 25, 18, 52, 44,  1, 58, 35, 17, 48, 32]),\n",
              " array([38, 53, 13, 36, 44,  1, 22, 26,  1, 58, 41,  1, 30, 29, 36,  1, 55,\n",
              "         5, 23, 17, 48, 32]),\n",
              " array([25, 37, 54, 44,  1, 22, 26,  1, 58, 41,  1, 30, 29, 36,  1, 55,  5,\n",
              "        23, 17, 48, 32]),\n",
              " array([37, 18, 46, 45,  4, 44,  1, 22, 26,  1, 58, 41,  1, 30, 29, 36,  1,\n",
              "        55,  5, 23, 17, 48, 32]),\n",
              " array([38, 53, 13, 36, 44,  1, 22, 26,  1, 58, 41,  1, 30, 29, 36,  1, 48,\n",
              "        44,  7, 17, 48, 32]),\n",
              " array([25, 37, 54, 44,  1, 22, 26,  1, 58, 41,  1, 30, 29, 36,  1, 48, 44,\n",
              "         7, 17, 48, 32]),\n",
              " array([37, 18, 46, 45,  4, 44,  1, 22, 26,  1, 58, 41,  1, 30, 29, 36,  1,\n",
              "        48, 44,  7, 17, 48, 32])]"
            ]
          },
          "execution_count": 14,
          "metadata": {},
          "output_type": "execute_result"
        }
      ],
      "source": [
        "sentence2vec_list"
      ]
    },
    {
      "cell_type": "code",
      "execution_count": null,
      "metadata": {
        "colab": {
          "base_uri": "https://localhost:8080/"
        },
        "id": "Ak6JY2xRGeo7",
        "outputId": "a6a56242-9955-48e5-825c-c01819306aa6"
      },
      "outputs": [
        {
          "name": "stdout",
          "output_type": "stream",
          "text": [
            "사람이 다가오고 있습니다<EOS>"
          ]
        }
      ],
      "source": [
        "# vector 복원\n",
        "for num in sentence2vec_list[0]:\n",
        "  for c, id in char2idx.items():\n",
        "    if id == num:\n",
        "      print(c, end='')"
      ]
    },
    {
      "cell_type": "code",
      "execution_count": null,
      "metadata": {
        "id": "H7Es6J949m4H"
      },
      "outputs": [],
      "source": [
        "import numpy as np\n",
        "\n",
        "sentence2vec = np.array(sentence2vec_list, dtype=object)\n",
        "\n",
        "sequence_list = []\n",
        "for vec in sentence2vec:\n",
        "    for i in range(len(vec)):\n",
        "        sequence = vec[:i+1]\n",
        "        sequence_list.append(sequence)"
      ]
    },
    {
      "cell_type": "code",
      "execution_count": null,
      "metadata": {
        "colab": {
          "base_uri": "https://localhost:8080/"
        },
        "id": "ioNgQx7p-fN3",
        "outputId": "45e67bd3-8f5b-4d22-efba-5b519c83143e"
      },
      "outputs": [
        {
          "data": {
            "text/plain": [
              "[array([30]),\n",
              " array([30, 29]),\n",
              " array([30, 29, 36]),\n",
              " array([30, 29, 36,  1]),\n",
              " array([30, 29, 36,  1, 48]),\n",
              " array([30, 29, 36,  1, 48, 44]),\n",
              " array([30, 29, 36,  1, 48, 44, 38]),\n",
              " array([30, 29, 36,  1, 48, 44, 38, 41]),\n",
              " array([30, 29, 36,  1, 48, 44, 38, 41,  1]),\n",
              " array([30, 29, 36,  1, 48, 44, 38, 41,  1, 58]),\n",
              " array([30, 29, 36,  1, 48, 44, 38, 41,  1, 58, 35]),\n",
              " array([30, 29, 36,  1, 48, 44, 38, 41,  1, 58, 35, 17]),\n",
              " array([30, 29, 36,  1, 48, 44, 38, 41,  1, 58, 35, 17, 48]),\n",
              " array([30, 29, 36,  1, 48, 44, 38, 41,  1, 58, 35, 17, 48, 32]),\n",
              " array([30])]"
            ]
          },
          "execution_count": 19,
          "metadata": {},
          "output_type": "execute_result"
        }
      ],
      "source": [
        "sequence_list[:15]"
      ]
    },
    {
      "cell_type": "code",
      "execution_count": null,
      "metadata": {
        "colab": {
          "base_uri": "https://localhost:8080/",
          "height": 279
        },
        "id": "3nGG-HIR_T11",
        "outputId": "d4c1c8f8-285a-4087-d869-e86a51b027a8"
      },
      "outputs": [
        {
          "data": {
            "image/png": "[encoded data removed]",
            "text/plain": [
              "<Figure size 432x288 with 1 Axes>"
            ]
          },
          "metadata": {
            "needs_background": "light"
          },
          "output_type": "display_data"
        }
      ],
      "source": [
        "import matplotlib.pyplot as plt\n",
        "\n",
        "plt.hist([len(s) for s in sentence2vec_list], bins=50)\n",
        "plt.xlabel('length of samples')\n",
        "plt.ylabel('number of samples')\n",
        "plt.show()"
      ]
    },
    {
      "cell_type": "code",
      "execution_count": null,
      "metadata": {
        "id": "gLJA50vr_9I3"
      },
      "outputs": [],
      "source": [
        "from tensorflow.keras.preprocessing.sequence import pad_sequences\n",
        "\n",
        "max_len = max(map(len, sentence2vec_list))\n",
        "sequences = pad_sequences(sequence_list, maxlen=max_len, padding='pre')"
      ]
    },
    {
      "cell_type": "code",
      "execution_count": null,
      "metadata": {
        "colab": {
          "base_uri": "https://localhost:8080/"
        },
        "id": "UACXWsOPBTn2",
        "outputId": "8304e130-9004-49e0-adb7-8826401ca0eb"
      },
      "outputs": [
        {
          "data": {
            "text/plain": [
              "array([ 0,  0,  0,  0,  0,  0,  0,  0,  0,  0,  0,  0,  0,  0,  0,  0,  0,\n",
              "        0,  0,  0,  0,  0,  0,  0,  0,  0,  0,  0,  0,  0,  0,  0, 30],\n",
              "      dtype=int32)"
            ]
          },
          "execution_count": 24,
          "metadata": {},
          "output_type": "execute_result"
        }
      ],
      "source": [
        "sequences[0]"
      ]
    },
    {
      "cell_type": "code",
      "execution_count": null,
      "metadata": {
        "id": "H1OXg0IwBqUt"
      },
      "outputs": [],
      "source": [
        "np.random.shuffle(sequences)\n",
        "split_num = int(len(sequences) * 0.8)\n",
        "\n",
        "X = sequences[:split_num,:-1]\n",
        "y = sequences[:split_num,-1]\n",
        "\n",
        "X_text = sequences[split_num:,:-1]\n",
        "y_test = sequences[split_num:,-1]"
      ]
    },
    {
      "cell_type": "code",
      "execution_count": null,
      "metadata": {
        "colab": {
          "base_uri": "https://localhost:8080/"
        },
        "id": "2Xe6WUSPCD5F",
        "outputId": "61c94a8c-1499-4eaf-8cb3-dd5178b5f8b8"
      },
      "outputs": [
        {
          "name": "stdout",
          "output_type": "stream",
          "text": [
            "Model: \"sequential_1\"\n",
            "_________________________________________________________________\n",
            " Layer (type)                Output Shape              Param #   \n",
            "=================================================================\n",
            " embedding_1 (Embedding)     (None, 32, 300)           1500000   \n",
            "                                                                 \n",
            " gru_1 (GRU)                 (None, 128)               165120    \n",
            "                                                                 \n",
            " dense_1 (Dense)             (None, 5000)              645000    \n",
            "                                                                 \n",
            "=================================================================\n",
            "Total params: 2,310,120\n",
            "Trainable params: 2,310,120\n",
            "Non-trainable params: 0\n",
            "_________________________________________________________________\n",
            "Epoch 1/100\n",
            "47/47 [==============================] - 10s 139ms/step - loss: 6.2834 - accuracy: 0.2131 - val_loss: 3.8209 - val_accuracy: 0.1613\n",
            "Epoch 2/100\n",
            "47/47 [==============================] - 5s 115ms/step - loss: 3.6834 - accuracy: 0.1872 - val_loss: 3.6389 - val_accuracy: 0.1742\n",
            "Epoch 3/100\n",
            "47/47 [==============================] - 5s 106ms/step - loss: 3.5652 - accuracy: 0.1894 - val_loss: 3.5528 - val_accuracy: 0.1742\n",
            "Epoch 4/100\n",
            "47/47 [==============================] - 5s 111ms/step - loss: 3.5246 - accuracy: 0.1894 - val_loss: 3.5310 - val_accuracy: 0.1742\n",
            "Epoch 5/100\n",
            "47/47 [==============================] - 5s 117ms/step - loss: 3.4647 - accuracy: 0.1894 - val_loss: 3.4969 - val_accuracy: 0.1742\n",
            "Epoch 6/100\n",
            "47/47 [==============================] - 5s 115ms/step - loss: 3.4054 - accuracy: 0.2001 - val_loss: 3.3746 - val_accuracy: 0.2065\n",
            "Epoch 7/100\n",
            "47/47 [==============================] - 5s 115ms/step - loss: 3.2799 - accuracy: 0.2396 - val_loss: 3.2811 - val_accuracy: 0.2258\n",
            "Epoch 8/100\n",
            "47/47 [==============================] - 5s 116ms/step - loss: 3.1007 - accuracy: 0.3020 - val_loss: 3.0631 - val_accuracy: 0.3290\n",
            "Epoch 9/100\n",
            "47/47 [==============================] - 5s 113ms/step - loss: 2.8702 - accuracy: 0.3838 - val_loss: 2.8814 - val_accuracy: 0.3226\n",
            "Epoch 10/100\n",
            "47/47 [==============================] - 5s 109ms/step - loss: 2.6531 - accuracy: 0.3974 - val_loss: 2.6544 - val_accuracy: 0.3871\n",
            "Epoch 11/100\n",
            "47/47 [==============================] - 5s 113ms/step - loss: 2.4238 - accuracy: 0.4577 - val_loss: 2.4493 - val_accuracy: 0.4258\n",
            "Epoch 12/100\n",
            "47/47 [==============================] - 6s 118ms/step - loss: 2.1880 - accuracy: 0.5703 - val_loss: 2.2252 - val_accuracy: 0.5161\n",
            "Epoch 13/100\n",
            "47/47 [==============================] - 6s 117ms/step - loss: 1.9710 - accuracy: 0.6514 - val_loss: 1.9665 - val_accuracy: 0.6129\n",
            "Epoch 14/100\n",
            "47/47 [==============================] - 5s 114ms/step - loss: 1.7711 - accuracy: 0.6887 - val_loss: 1.7779 - val_accuracy: 0.6516\n",
            "Epoch 15/100\n",
            "47/47 [==============================] - 5s 109ms/step - loss: 1.5939 - accuracy: 0.7052 - val_loss: 1.5963 - val_accuracy: 0.6452\n",
            "Epoch 16/100\n",
            "47/47 [==============================] - 5s 111ms/step - loss: 1.4648 - accuracy: 0.7116 - val_loss: 1.4404 - val_accuracy: 0.6839\n",
            "Epoch 17/100\n",
            "47/47 [==============================] - 5s 111ms/step - loss: 1.3513 - accuracy: 0.7281 - val_loss: 1.3142 - val_accuracy: 0.7161\n",
            "Epoch 18/100\n",
            "47/47 [==============================] - 9s 188ms/step - loss: 1.2558 - accuracy: 0.7575 - val_loss: 1.2048 - val_accuracy: 0.7097\n",
            "Epoch 19/100\n",
            "47/47 [==============================] - 5s 111ms/step - loss: 1.1731 - accuracy: 0.7826 - val_loss: 1.1212 - val_accuracy: 0.7484\n",
            "Epoch 20/100\n",
            "47/47 [==============================] - 5s 109ms/step - loss: 1.1106 - accuracy: 0.7841 - val_loss: 1.0529 - val_accuracy: 0.7806\n",
            "Epoch 21/100\n",
            "47/47 [==============================] - 5s 114ms/step - loss: 1.0482 - accuracy: 0.8092 - val_loss: 0.9848 - val_accuracy: 0.7935\n",
            "Epoch 22/100\n",
            "47/47 [==============================] - 5s 115ms/step - loss: 0.9951 - accuracy: 0.8113 - val_loss: 0.9422 - val_accuracy: 0.7806\n",
            "Epoch 23/100\n",
            "47/47 [==============================] - 5s 111ms/step - loss: 0.9506 - accuracy: 0.8156 - val_loss: 0.9107 - val_accuracy: 0.7806\n",
            "Epoch 24/100\n",
            "47/47 [==============================] - 5s 116ms/step - loss: 0.9119 - accuracy: 0.8228 - val_loss: 0.8653 - val_accuracy: 0.7935\n",
            "Epoch 25/100\n",
            "47/47 [==============================] - 5s 113ms/step - loss: 0.8780 - accuracy: 0.8235 - val_loss: 0.8360 - val_accuracy: 0.7806\n",
            "Epoch 26/100\n",
            "47/47 [==============================] - 6s 134ms/step - loss: 0.8556 - accuracy: 0.8228 - val_loss: 0.8085 - val_accuracy: 0.7935\n",
            "Epoch 27/100\n",
            "47/47 [==============================] - 5s 109ms/step - loss: 0.8306 - accuracy: 0.8307 - val_loss: 0.8029 - val_accuracy: 0.8000\n",
            "Epoch 28/100\n",
            "47/47 [==============================] - 5s 109ms/step - loss: 0.8064 - accuracy: 0.8350 - val_loss: 0.7669 - val_accuracy: 0.8000\n",
            "Epoch 29/100\n",
            "47/47 [==============================] - 5s 111ms/step - loss: 0.7911 - accuracy: 0.8350 - val_loss: 0.7744 - val_accuracy: 0.8065\n",
            "Epoch 30/100\n",
            "47/47 [==============================] - 5s 117ms/step - loss: 0.7721 - accuracy: 0.8415 - val_loss: 0.7578 - val_accuracy: 0.8065\n",
            "Epoch 31/100\n",
            "47/47 [==============================] - 5s 112ms/step - loss: 0.7572 - accuracy: 0.8415 - val_loss: 0.7609 - val_accuracy: 0.8000\n",
            "Epoch 32/100\n",
            "47/47 [==============================] - 6s 119ms/step - loss: 0.7457 - accuracy: 0.8407 - val_loss: 0.7541 - val_accuracy: 0.8000\n",
            "Epoch 33/100\n",
            "47/47 [==============================] - 5s 112ms/step - loss: 0.7368 - accuracy: 0.8436 - val_loss: 0.7474 - val_accuracy: 0.8000\n",
            "Epoch 34/100\n",
            "47/47 [==============================] - 5s 109ms/step - loss: 0.7219 - accuracy: 0.8451 - val_loss: 0.7364 - val_accuracy: 0.8000\n",
            "Epoch 35/100\n",
            "47/47 [==============================] - 5s 109ms/step - loss: 0.7133 - accuracy: 0.8443 - val_loss: 0.7346 - val_accuracy: 0.8000\n",
            "Epoch 36/100\n",
            "47/47 [==============================] - 5s 109ms/step - loss: 0.7008 - accuracy: 0.8451 - val_loss: 0.7292 - val_accuracy: 0.8000\n",
            "Epoch 37/100\n",
            "47/47 [==============================] - 5s 110ms/step - loss: 0.6934 - accuracy: 0.8422 - val_loss: 0.7204 - val_accuracy: 0.8000\n",
            "Epoch 38/100\n",
            "47/47 [==============================] - 5s 113ms/step - loss: 0.6877 - accuracy: 0.8451 - val_loss: 0.7307 - val_accuracy: 0.8000\n",
            "Epoch 39/100\n",
            "47/47 [==============================] - 5s 113ms/step - loss: 0.6788 - accuracy: 0.8494 - val_loss: 0.7254 - val_accuracy: 0.8000\n",
            "Epoch 40/100\n",
            "47/47 [==============================] - 5s 108ms/step - loss: 0.6697 - accuracy: 0.8486 - val_loss: 0.7289 - val_accuracy: 0.8000\n",
            "Epoch 41/100\n",
            "47/47 [==============================] - 5s 112ms/step - loss: 0.6651 - accuracy: 0.8508 - val_loss: 0.7267 - val_accuracy: 0.7935\n",
            "Epoch 42/100\n",
            "47/47 [==============================] - 5s 112ms/step - loss: 0.6574 - accuracy: 0.8501 - val_loss: 0.7434 - val_accuracy: 0.8000\n",
            "Epoch 43/100\n",
            "47/47 [==============================] - 5s 112ms/step - loss: 0.6526 - accuracy: 0.8537 - val_loss: 0.7348 - val_accuracy: 0.7935\n",
            "Epoch 44/100\n",
            "47/47 [==============================] - 5s 111ms/step - loss: 0.6437 - accuracy: 0.8572 - val_loss: 0.7282 - val_accuracy: 0.8065\n",
            "Epoch 45/100\n",
            "47/47 [==============================] - 5s 111ms/step - loss: 0.6383 - accuracy: 0.8522 - val_loss: 0.7271 - val_accuracy: 0.8000\n",
            "Epoch 46/100\n",
            "47/47 [==============================] - 5s 114ms/step - loss: 0.6347 - accuracy: 0.8558 - val_loss: 0.7291 - val_accuracy: 0.7871\n",
            "Epoch 47/100\n",
            "47/47 [==============================] - 5s 110ms/step - loss: 0.6284 - accuracy: 0.8515 - val_loss: 0.7480 - val_accuracy: 0.7871\n",
            "Epoch 48/100\n",
            "47/47 [==============================] - 6s 117ms/step - loss: 0.6201 - accuracy: 0.8537 - val_loss: 0.7324 - val_accuracy: 0.7935\n",
            "Epoch 49/100\n",
            "47/47 [==============================] - 5s 108ms/step - loss: 0.6153 - accuracy: 0.8529 - val_loss: 0.7470 - val_accuracy: 0.7871\n",
            "Epoch 50/100\n",
            "47/47 [==============================] - 5s 110ms/step - loss: 0.6116 - accuracy: 0.8522 - val_loss: 0.7351 - val_accuracy: 0.7935\n",
            "Epoch 51/100\n",
            "47/47 [==============================] - 5s 115ms/step - loss: 0.6073 - accuracy: 0.8529 - val_loss: 0.7109 - val_accuracy: 0.8065\n",
            "Epoch 52/100\n",
            "47/47 [==============================] - 5s 107ms/step - loss: 0.6002 - accuracy: 0.8601 - val_loss: 0.7369 - val_accuracy: 0.8000\n",
            "Epoch 53/100\n",
            "47/47 [==============================] - 5s 115ms/step - loss: 0.5956 - accuracy: 0.8594 - val_loss: 0.7446 - val_accuracy: 0.7935\n",
            "Epoch 54/100\n",
            "47/47 [==============================] - 5s 113ms/step - loss: 0.5924 - accuracy: 0.8572 - val_loss: 0.7189 - val_accuracy: 0.8065\n",
            "Epoch 55/100\n",
            "47/47 [==============================] - 5s 110ms/step - loss: 0.5911 - accuracy: 0.8558 - val_loss: 0.7148 - val_accuracy: 0.8129\n",
            "Epoch 56/100\n",
            "47/47 [==============================] - 5s 110ms/step - loss: 0.5828 - accuracy: 0.8565 - val_loss: 0.7285 - val_accuracy: 0.7871\n",
            "Epoch 57/100\n",
            "47/47 [==============================] - 5s 110ms/step - loss: 0.5778 - accuracy: 0.8558 - val_loss: 0.7429 - val_accuracy: 0.8000\n",
            "Epoch 58/100\n",
            "47/47 [==============================] - 5s 104ms/step - loss: 0.5769 - accuracy: 0.8608 - val_loss: 0.7316 - val_accuracy: 0.8000\n",
            "Epoch 59/100\n",
            "47/47 [==============================] - 5s 110ms/step - loss: 0.5655 - accuracy: 0.8637 - val_loss: 0.7323 - val_accuracy: 0.8065\n",
            "Epoch 60/100\n",
            "47/47 [==============================] - 5s 114ms/step - loss: 0.5622 - accuracy: 0.8601 - val_loss: 0.7343 - val_accuracy: 0.8000\n",
            "Epoch 61/100\n",
            "47/47 [==============================] - 5s 110ms/step - loss: 0.5578 - accuracy: 0.8644 - val_loss: 0.7526 - val_accuracy: 0.7871\n",
            "Epoch 62/100\n",
            "47/47 [==============================] - 5s 109ms/step - loss: 0.5531 - accuracy: 0.8580 - val_loss: 0.7410 - val_accuracy: 0.8065\n",
            "Epoch 63/100\n",
            "47/47 [==============================] - 5s 110ms/step - loss: 0.5459 - accuracy: 0.8687 - val_loss: 0.7290 - val_accuracy: 0.7935\n",
            "Epoch 64/100\n",
            "47/47 [==============================] - 5s 117ms/step - loss: 0.5450 - accuracy: 0.8587 - val_loss: 0.7484 - val_accuracy: 0.8000\n",
            "Epoch 65/100\n",
            "47/47 [==============================] - 5s 112ms/step - loss: 0.5404 - accuracy: 0.8659 - val_loss: 0.7370 - val_accuracy: 0.7935\n",
            "Epoch 66/100\n",
            "47/47 [==============================] - 5s 107ms/step - loss: 0.5380 - accuracy: 0.8601 - val_loss: 0.7222 - val_accuracy: 0.8065\n",
            "Epoch 67/100\n",
            "47/47 [==============================] - 5s 109ms/step - loss: 0.5322 - accuracy: 0.8687 - val_loss: 0.7366 - val_accuracy: 0.8000\n",
            "Epoch 68/100\n",
            "47/47 [==============================] - 5s 108ms/step - loss: 0.5244 - accuracy: 0.8702 - val_loss: 0.7247 - val_accuracy: 0.8000\n",
            "Epoch 69/100\n",
            "47/47 [==============================] - 5s 107ms/step - loss: 0.5227 - accuracy: 0.8723 - val_loss: 0.7399 - val_accuracy: 0.8065\n",
            "Epoch 70/100\n",
            "47/47 [==============================] - 5s 109ms/step - loss: 0.5166 - accuracy: 0.8694 - val_loss: 0.7328 - val_accuracy: 0.8000\n",
            "Epoch 71/100\n",
            "47/47 [==============================] - 5s 115ms/step - loss: 0.5157 - accuracy: 0.8651 - val_loss: 0.7404 - val_accuracy: 0.8065\n",
            "Epoch 72/100\n",
            "47/47 [==============================] - 5s 108ms/step - loss: 0.5097 - accuracy: 0.8752 - val_loss: 0.7573 - val_accuracy: 0.7871\n",
            "Epoch 73/100\n",
            "47/47 [==============================] - 5s 114ms/step - loss: 0.5055 - accuracy: 0.8666 - val_loss: 0.7441 - val_accuracy: 0.8065\n",
            "Epoch 74/100\n",
            "47/47 [==============================] - 6s 121ms/step - loss: 0.4999 - accuracy: 0.8702 - val_loss: 0.7267 - val_accuracy: 0.8065\n",
            "Epoch 75/100\n",
            "47/47 [==============================] - 5s 111ms/step - loss: 0.4961 - accuracy: 0.8702 - val_loss: 0.7138 - val_accuracy: 0.8000\n",
            "Epoch 76/100\n",
            "47/47 [==============================] - 5s 109ms/step - loss: 0.4910 - accuracy: 0.8709 - val_loss: 0.7196 - val_accuracy: 0.8065\n",
            "Epoch 77/100\n",
            "47/47 [==============================] - 5s 107ms/step - loss: 0.4878 - accuracy: 0.8745 - val_loss: 0.7238 - val_accuracy: 0.8000\n",
            "Epoch 78/100\n",
            "47/47 [==============================] - 5s 109ms/step - loss: 0.4865 - accuracy: 0.8716 - val_loss: 0.7281 - val_accuracy: 0.8000\n",
            "Epoch 79/100\n",
            "47/47 [==============================] - 5s 110ms/step - loss: 0.4839 - accuracy: 0.8766 - val_loss: 0.7202 - val_accuracy: 0.8000\n",
            "Epoch 80/100\n",
            "47/47 [==============================] - 5s 113ms/step - loss: 0.4763 - accuracy: 0.8788 - val_loss: 0.7237 - val_accuracy: 0.8065\n",
            "Epoch 81/100\n",
            "47/47 [==============================] - 5s 107ms/step - loss: 0.4745 - accuracy: 0.8716 - val_loss: 0.7506 - val_accuracy: 0.8000\n",
            "Epoch 82/100\n",
            "47/47 [==============================] - 5s 112ms/step - loss: 0.4691 - accuracy: 0.8723 - val_loss: 0.7401 - val_accuracy: 0.8000\n",
            "Epoch 83/100\n",
            "47/47 [==============================] - 5s 109ms/step - loss: 0.4662 - accuracy: 0.8752 - val_loss: 0.7449 - val_accuracy: 0.8065\n",
            "Epoch 84/100\n",
            "47/47 [==============================] - 5s 114ms/step - loss: 0.4611 - accuracy: 0.8745 - val_loss: 0.7498 - val_accuracy: 0.8000\n",
            "Epoch 85/100\n",
            "47/47 [==============================] - 5s 113ms/step - loss: 0.4602 - accuracy: 0.8759 - val_loss: 0.7345 - val_accuracy: 0.7935\n",
            "Epoch 86/100\n",
            "47/47 [==============================] - 5s 112ms/step - loss: 0.4550 - accuracy: 0.8780 - val_loss: 0.7272 - val_accuracy: 0.8000\n",
            "Epoch 87/100\n",
            "47/47 [==============================] - 5s 111ms/step - loss: 0.4526 - accuracy: 0.8680 - val_loss: 0.7249 - val_accuracy: 0.7935\n",
            "Epoch 88/100\n",
            "47/47 [==============================] - 6s 119ms/step - loss: 0.4484 - accuracy: 0.8809 - val_loss: 0.7421 - val_accuracy: 0.8000\n",
            "Epoch 89/100\n",
            "47/47 [==============================] - 5s 107ms/step - loss: 0.4462 - accuracy: 0.8723 - val_loss: 0.7290 - val_accuracy: 0.8000\n",
            "Epoch 90/100\n",
            "47/47 [==============================] - 5s 108ms/step - loss: 0.4423 - accuracy: 0.8752 - val_loss: 0.7379 - val_accuracy: 0.8000\n",
            "Epoch 91/100\n",
            "47/47 [==============================] - 5s 103ms/step - loss: 0.4399 - accuracy: 0.8737 - val_loss: 0.7373 - val_accuracy: 0.8065\n",
            "Epoch 92/100\n",
            "47/47 [==============================] - 5s 104ms/step - loss: 0.4380 - accuracy: 0.8773 - val_loss: 0.7375 - val_accuracy: 0.8065\n",
            "Epoch 93/100\n",
            "47/47 [==============================] - 5s 112ms/step - loss: 0.4328 - accuracy: 0.8723 - val_loss: 0.7319 - val_accuracy: 0.8065\n",
            "Epoch 94/100\n",
            "47/47 [==============================] - 5s 112ms/step - loss: 0.4264 - accuracy: 0.8759 - val_loss: 0.7160 - val_accuracy: 0.8065\n",
            "Epoch 95/100\n",
            "47/47 [==============================] - 5s 115ms/step - loss: 0.4261 - accuracy: 0.8788 - val_loss: 0.7235 - val_accuracy: 0.8000\n",
            "Epoch 96/100\n",
            "47/47 [==============================] - 5s 114ms/step - loss: 0.4246 - accuracy: 0.8788 - val_loss: 0.7152 - val_accuracy: 0.8065\n",
            "Epoch 97/100\n",
            "47/47 [==============================] - 5s 108ms/step - loss: 0.4280 - accuracy: 0.8723 - val_loss: 0.7217 - val_accuracy: 0.8065\n",
            "Epoch 98/100\n",
            "47/47 [==============================] - 5s 111ms/step - loss: 0.4179 - accuracy: 0.8780 - val_loss: 0.7290 - val_accuracy: 0.8000\n",
            "Epoch 99/100\n",
            "47/47 [==============================] - 5s 112ms/step - loss: 0.4129 - accuracy: 0.8730 - val_loss: 0.7250 - val_accuracy: 0.8065\n",
            "Epoch 100/100\n",
            "47/47 [==============================] - 5s 113ms/step - loss: 0.4110 - accuracy: 0.8780 - val_loss: 0.7225 - val_accuracy: 0.8000\n"
          ]
        }
      ],
      "source": [
        "from tensorflow.keras.models import Sequential\n",
        "from tensorflow.keras.layers import Embedding, Dense, GRU\n",
        "from keras.callbacks import EarlyStopping\n",
        "\n",
        "# early_stopping = EarlyStopping() \n",
        "# 조기종료 : epoch를 길게 돌리지 않고, 이전 epoch보다 accuracy가 낮을 경우 종료\n",
        "\n",
        "model = Sequential()\n",
        "model.add(Embedding(5000, 300, input_length=max_len-1,mask_zero=True)) \n",
        "# 레이블을 분리하였으므로 이제 X의 길이는 max_len-1\n",
        "model.add(GRU(128))\n",
        "model.add(Dense(5000, activation='softmax'))\n",
        "model.compile(loss='sparse_categorical_crossentropy', optimizer='adam', metrics=['accuracy'])\n",
        "# sparse_categorical_crossentropy\n",
        "# categorical_crossentropy와 다른점은 정답 integer값을 원-핫벡터로 만들어주지 않아도 된다는점\n",
        "\n",
        "model.summary()\n",
        "\n",
        "# hist = model.fit(X, y,validation_split=0.1,shuffle=True, epochs=100, batch_size=30, verbose=1, callbacks=[early_stopping])\n",
        "hist = model.fit(X, y,validation_split=0.1,shuffle=True, epochs=100, batch_size=30, verbose=1)"
      ]
    },
    {
      "cell_type": "code",
      "execution_count": null,
      "metadata": {
        "colab": {
          "base_uri": "https://localhost:8080/",
          "height": 279
        },
        "id": "AXy02lZLDJB3",
        "outputId": "8f679c2a-7f78-40be-aeed-55c478c5e140"
      },
      "outputs": [
        {
          "data": {
            "image/png": "[encoded data removed]",
            "text/plain": [
              "<Figure size 432x288 with 2 Axes>"
            ]
          },
          "metadata": {
            "needs_background": "light"
          },
          "output_type": "display_data"
        }
      ],
      "source": [
        "%matplotlib inline\n",
        "import matplotlib.pyplot as plt\n",
        "\n",
        "fig, loss_ax = plt.subplots()\n",
        "\n",
        "acc_ax = loss_ax.twinx()\n",
        "\n",
        "loss_ax.plot(hist.history['loss'], 'y', label='train loss')\n",
        "loss_ax.plot(hist.history['val_loss'], 'r', label='val loss')\n",
        "\n",
        "acc_ax.plot(hist.history['accuracy'], 'b', label='train acc')\n",
        "acc_ax.plot(hist.history['val_accuracy'], 'g', label='val acc')\n",
        "\n",
        "loss_ax.set_xlabel('epoch')\n",
        "loss_ax.set_ylabel('loss')\n",
        "acc_ax.set_ylabel('accuray')\n",
        "\n",
        "loss_ax.legend(loc='upper left')\n",
        "acc_ax.legend(loc='lower left')\n",
        "\n",
        "plt.show()\n"
      ]
    },
    {
      "cell_type": "code",
      "execution_count": null,
      "metadata": {
        "colab": {
          "base_uri": "https://localhost:8080/"
        },
        "id": "NVEUJNcgF5v8",
        "outputId": "dc62009d-2bd5-40d1-c688-c076fd65ae0d"
      },
      "outputs": [
        {
          "name": "stdout",
          "output_type": "stream",
          "text": [
            "13/13 [==============================] - 0s 23ms/step - loss: 1.0407 - accuracy: 0.7835\n",
            "\n",
            "loss : 1.0407164096832275\n",
            "accuray : 0.7835051417350769\n"
          ]
        }
      ],
      "source": [
        "loss_and_metrics = model.evaluate(X_text, y_test, batch_size=32)\n",
        "\n",
        "print('')\n",
        "print('loss : ' + str(loss_and_metrics[0]))\n",
        "print('accuray : ' + str(loss_and_metrics[1]))"
      ]
    },
    {
      "cell_type": "code",
      "execution_count": null,
      "metadata": {
        "colab": {
          "base_uri": "https://localhost:8080/",
          "height": 35
        },
        "id": "AblqWiyVGLsQ",
        "outputId": "d330211e-766d-4cda-91c7-9c8591381666"
      },
      "outputs": [
        {
          "data": {
            "application/vnd.google.colaboratory.intrinsic+json": {
              "type": "string"
            },
            "text/plain": [
              "'사람과 차, 오토바이, 자전거가 있습니다'"
            ]
          },
          "execution_count": 39,
          "metadata": {},
          "output_type": "execute_result"
        }
      ],
      "source": [
        "current_word = '사람과'\n",
        "init_word = current_word # 처음 들어온 단어도 마지막에 같이 출력하기위해 저장\n",
        "sentence = ''\n",
        "n = 35\n",
        "for _ in range(n): # n번 반복\n",
        "    encoded = [char2idx[token] for token in current_word]#t.texts_to_sequences([current_word])[0] \n",
        "    # 현재 단어에 대한 정수 인코딩\n",
        "    \n",
        "    encoded = pad_sequences([encoded], maxlen=max_len-1, padding='pre') \n",
        "    # 데이터에 대한 패딩\n",
        "    \n",
        "    result = np.argmax(model.predict(encoded), axis=-1) \n",
        "\t\n",
        "    # 입력한 X(현재 단어)에 대해서 Y를 예측하고 Y(예측한 단어)를 result에 저장.\n",
        "    for word, index in char2idx.items(): \n",
        "        if index == result: # 만약 예측한 단어와 인덱스와 동일한 단어가 있다면\n",
        "            break # 해당 단어가 예측 단어이므로 break\n",
        "    current_word = current_word + word # 현재 단어 + ' ' + 예측 단어를 현재 단어로 변경\n",
        "    sentence = sentence + word # 예측 단어를 문장에 저장\n",
        "    if word == '<EOS>':\n",
        "        break;\n",
        "# for문이므로 이 행동을 다시 반복\n",
        "sentence = init_word + sentence\n",
        "sentence.replace('<EOS>',\"\")"
      ]
    },
    {
      "cell_type": "code",
      "execution_count": null,
      "metadata": {
        "id": "GFDb6XF1GeHN"
      },
      "outputs": [],
      "source": []
    }
  ],
  "metadata": {
    "accelerator": "GPU",
    "colab": {
      "name": "sentenceGenerate.ipynb",
      "provenance": []
    },
    "kernelspec": {
      "display_name": "Python 3",
      "name": "python3"
    },
    "language_info": {
      "codemirror_mode": {
        "name": "ipython",
        "version": 3
      },
      "file_extension": ".py",
      "mimetype": "text/x-python",
      "name": "python",
      "nbconvert_exporter": "python",
      "pygments_lexer": "ipython3",
      "version": "3.8.12"
    }
  },
  "nbformat": 4,
  "nbformat_minor": 0
}
